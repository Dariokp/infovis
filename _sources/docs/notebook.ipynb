{
 "cells": [
  {
   "cell_type": "markdown",
   "metadata": {},
   "source": [
    "# Vluchtelingen crisis in Nederland.\n",
    "\n",
    "## Introductie\n",
    "\n",
    "\n",
    "De vluchtelingencrisis is een polariserend onderwerp dat steeds meer aandacht krijgt in de Nederlandse media en politiek. Ook in het dagelijks leven is het een gespreksonderwerp waar veel mensen zich aan wagen, en bijna iedereen lijkt er een uitgesproken mening over te hebben. Dit datavisualisatieproject heeft als doel om op basis van data de feitelijke informatie meer naar voren te brengen in dit debat, aangezien er met name binnen dit gebied vaak op basis van emotie wordt gediscussieerd. Hoewel er op basis van data weinig tot geen causale verbanden  kunnen worden aangetoond met betrekking tot de vluchtelingencrisis, kan er wel geanalyseerd worden of bepaalde meningen ook steun vinden in de data.\n",
    "\n",
    "Om dit te bereiken zijn twee standpunten binnen het thema gekozen die veel van elkaar afwijken:\n",
    "1. De vluchtelingencrisis wordt overdreven en het nemen van acties hiertegen door de overheid is niet nodig. In het verleden nam het aantal vluchtelingen ook snel toe en toen waren er geen gigantische problemen.  In Nederland worden er niet meer mensen opgenomen dan in andere vergelijkbare landen. Bovendien krijgt lang niet iedereen die hier aankomt ook een verblijfsvergunning. Het probleem wordt overdreven en er is geen sprake van een echte crisis.\n",
    "\n",
    "2. Het aantal vluchtelingen in Nederland neemt te snel toe en vormt een groot probleem voor de Nederlandse samenleving. De overheid zou hier actie voor moeten ondernemen. Het aantal verblijfsvergunningen groeit ook, wat inhoudt dat het aantal vluchtelingen dat permanent blijft ook steeds groter wordt. Er komen meer mensen naar Nederland dan naar andere landen en dit zal alleen maar erger worden als de overheid niets doet.\n",
    "\n",
    "Door deze twee uitgangspunten te nemen blijft de neutraliteit binnen de datavisualisaties, en krijgt een kant van het argument niet meer aandacht dan de ander."
   ]
  },
  {
   "cell_type": "markdown",
   "metadata": {
    "tags": [
     "\"tags\":",
     "[",
     "\"hide-input\"",
     "]"
    ]
   },
   "source": [
    "## Datasets en preprocessing\n",
    "\n",
    "Voor de datavisualisaties is gebruik gemaakt van drie datasets. Voor alle datasets geldt dat er buiten het begrijpen van de data geen verdere preprocessing gedaan hoeft te worden.\n",
    "\n",
    "Dataset 1, [*Asylum and first time asylum applicants - monthly data*](https://ec.europa.eu/eurostat/databrowser/view/TPS00189/default/table?lang=en), is afkomstig van Eurostat, het officiele onderdeel van de Europese Unie belast met het opmaken van statistiek. Deze dataset bevat de hoeveelheid eerste asielaanvragen in elk EU-land per maand in de periode juni 2022 - juni 2023. Ook bevat het de totale hoeveelheden eerste asielaanvragen in de EU-regio in 2015 en 2022.\n",
    "\n",
    "Dataset 2, [*Asielverzoeken en nareizigers; nationaliteit, geslacht en leeftijd*](https://www.cbs.nl/nl-nl/cijfers/detail/83102NED), van het Centraal Bureau voor de Statistiek (CBS) bevat informatie over de hoeveelheid asielverzoeken en nareizigers in Nederland. Nareizigers zijn gezinsleden van een asielzoeker met een verblijfsvergunning. Deze hoeveelheden worden gegroepeerd per nationaliteit en leeftijd.\n",
    "\n",
    "Dataset 3, [*Verblijfsvergunningen voor bepaalde tijd; verblijfsgrond en nationaliteit*](https://www.cbs.nl/nl-nl/cijfers/detail/82027NED) is ook van het CBS. Hierin staat het aantal toegekende verblijfsvergunningen aan asielzoekers per jaar in de periode 2008 - 2021.  De hoeveelheden zijn verder opgedeeld in diverse verblijfsgronden, bijvoorbeeld Humanitaire redenen, gezinshereniging en arbeidsredenen."
   ]
  },
  {
   "cell_type": "code",
   "execution_count": null,
   "metadata": {
    "tags": [
     "hide_input"
    ]
   },
   "outputs": [],
   "source": [
    "# Import packages\n",
    "import plotly.graph_objects as go\n",
    "import pandas as pd\n",
    "import plotly.express as px\n",
    "import seaborn as sns"
   ]
  },
  {
   "cell_type": "code",
   "execution_count": 53,
   "metadata": {
    "tags": [
     "hide_input"
    ]
   },
   "outputs": [],
   "source": [
    "data = pd.read_csv('Asielzoekers en nareizigers (x 1 000) (1).csv', sep=';')\n",
    "data.head()\n",
    "\n",
    "data['Datum'] = data['Jaar'].astype(str) + ' ' + data['Kwartaal']\n"
   ]
  },
  {
   "cell_type": "markdown",
   "metadata": {},
   "source": [
    "## Plot data\n",
    "\n",
    "We set the repository in a way that you can use [Plotly](https://plotly.com/python/) for interactive visualizations.\n",
    "For more information, check [this documentation](https://jupyterbook.org/en/stable/interactive/interactive.html)."
   ]
  },
  {
   "cell_type": "code",
   "execution_count": 34,
   "metadata": {
    "tags": [
     "hide_input"
    ]
   },
   "outputs": [
    {
     "data": {
      "application/vnd.plotly.v1+json": {
       "config": {
        "plotlyServerURL": "https://plot.ly"
       },
       "data": [
        {
         "hovertemplate": "variable=Eerste asielverzoeken<br>Datum=%{x}<br>value=%{y}<extra></extra>",
         "legendgroup": "Eerste asielverzoeken",
         "line": {
          "color": "#636efa",
          "dash": "solid"
         },
         "marker": {
          "symbol": "circle"
         },
         "mode": "lines",
         "name": "Eerste asielverzoeken",
         "orientation": "v",
         "showlegend": true,
         "type": "scatter",
         "x": [
          "2017 april",
          "2017 mei",
          "2017 juni",
          "2017 juli",
          "2017 augustus",
          "2017 september",
          "2017 oktober",
          "2017 november",
          "2017 december",
          "2018 januari",
          "2018 februari",
          "2018 maart",
          "2018 april",
          "2018 mei",
          "2018 juni",
          "2018 juli",
          "2018 augustus",
          "2018 september",
          "2018 oktober",
          "2018 november",
          "2018 december",
          "2019 januari",
          "2019 februari",
          "2019 maart",
          "2019 april",
          "2019 mei",
          "2019 juni",
          "2019 juli",
          "2019 augustus",
          "2019 september",
          "2019 oktober",
          "2019 november",
          "2019 december",
          "2020 januari",
          "2020 februari",
          "2020 maart",
          "2020 april",
          "2020 mei",
          "2020 juni",
          "2020 juli",
          "2020 augustus",
          "2020 september",
          "2020 oktober",
          "2020 november",
          "2020 december",
          "2021 januari",
          "2021 februari",
          "2021 maart",
          "2021 april",
          "2021 mei",
          "2021 juni",
          "2021 juli",
          "2021 augustus",
          "2021 september",
          "2021 oktober",
          "2021 november",
          "2021 december",
          "2022 januari",
          "2022 februari",
          "2022 maart",
          "2022 april",
          "2022 mei",
          "2022 juni",
          "2022 juli",
          "2022 augustus",
          "2022 september",
          "2022 oktober",
          "2022 november",
          "2022 december",
          "2023 januari*",
          "2023 februari*",
          "2023 maart*",
          "2023 april*"
         ],
         "xaxis": "x",
         "y": [
          "1,160",
          "1,285",
          "1,345",
          "1,530",
          "1,435",
          "1,400",
          "1,310",
          "1,300",
          "1,345",
          "1,560",
          "1,200",
          "1,390",
          "1,450",
          "1,575",
          "1,295",
          "1,930",
          "2,025",
          "2,250",
          "2,225",
          "1,840",
          "1,770",
          "1,850",
          "1,660",
          "1,875",
          "1,860",
          "1,645",
          "1,685",
          "1,960",
          "1,880",
          "2,030",
          "2,090",
          "2,075",
          "1,935",
          "1,955",
          "1,505",
          "1,010",
          "0,270",
          "0,340",
          "0,650",
          "1,195",
          "1,420",
          "1,490",
          "1,405",
          "1,225",
          "1,265",
          "0,920",
          "0,780",
          "1,020",
          "0,905",
          "0,950",
          "1,485",
          "2,120",
          "2,745",
          "3,950",
          "3,870",
          "3,580",
          "2,415",
          "1,960",
          "1,600",
          "2,895",
          "2,220",
          "2,530",
          "2,575",
          "2,745",
          "3,840",
          "4,435",
          "4,075",
          "4,070",
          "2,595",
          "2,490",
          "2,195",
          "2,225",
          "2,355"
         ],
         "yaxis": "y"
        },
        {
         "hovertemplate": "variable=Nareizigers<br>Datum=%{x}<br>value=%{y}<extra></extra>",
         "legendgroup": "Nareizigers",
         "line": {
          "color": "#EF553B",
          "dash": "solid"
         },
         "marker": {
          "symbol": "circle"
         },
         "mode": "lines",
         "name": "Nareizigers",
         "orientation": "v",
         "showlegend": true,
         "type": "scatter",
         "x": [
          "2017 april",
          "2017 mei",
          "2017 juni",
          "2017 juli",
          "2017 augustus",
          "2017 september",
          "2017 oktober",
          "2017 november",
          "2017 december",
          "2018 januari",
          "2018 februari",
          "2018 maart",
          "2018 april",
          "2018 mei",
          "2018 juni",
          "2018 juli",
          "2018 augustus",
          "2018 september",
          "2018 oktober",
          "2018 november",
          "2018 december",
          "2019 januari",
          "2019 februari",
          "2019 maart",
          "2019 april",
          "2019 mei",
          "2019 juni",
          "2019 juli",
          "2019 augustus",
          "2019 september",
          "2019 oktober",
          "2019 november",
          "2019 december",
          "2020 januari",
          "2020 februari",
          "2020 maart",
          "2020 april",
          "2020 mei",
          "2020 juni",
          "2020 juli",
          "2020 augustus",
          "2020 september",
          "2020 oktober",
          "2020 november",
          "2020 december",
          "2021 januari",
          "2021 februari",
          "2021 maart",
          "2021 april",
          "2021 mei",
          "2021 juni",
          "2021 juli",
          "2021 augustus",
          "2021 september",
          "2021 oktober",
          "2021 november",
          "2021 december",
          "2022 januari",
          "2022 februari",
          "2022 maart",
          "2022 april",
          "2022 mei",
          "2022 juni",
          "2022 juli",
          "2022 augustus",
          "2022 september",
          "2022 oktober",
          "2022 november",
          "2022 december",
          "2023 januari*",
          "2023 februari*",
          "2023 maart*",
          "2023 april*"
         ],
         "xaxis": "x",
         "y": [
          "1,685",
          "1,475",
          "0,935",
          "0,765",
          "0,755",
          "0,745",
          "0,905",
          "0,935",
          "0,995",
          "0,700",
          "0,705",
          "0,735",
          "0,620",
          "0,815",
          "0,540",
          "0,565",
          "0,370",
          "0,350",
          "0,350",
          "0,410",
          "0,315",
          "0,270",
          "0,340",
          "0,230",
          "0,215",
          "0,255",
          "0,415",
          "0,460",
          "0,320",
          "0,425",
          "0,400",
          "0,360",
          "0,480",
          "0,465",
          "0,475",
          "0,125",
          "0,150",
          "0,050",
          "0,060",
          "0,240",
          "0,270",
          "0,350",
          "0,495",
          "0,635",
          "0,545",
          "0,365",
          "0,475",
          "0,670",
          "0,885",
          "0,830",
          "0,885",
          "1,075",
          "0,770",
          "0,935",
          "1,210",
          "0,835",
          "1,185",
          "0,655",
          "0,775",
          "1,135",
          "0,850",
          "0,915",
          "1,400",
          "1,615",
          "1,065",
          "0,965",
          "0,660",
          "0,380",
          "0,500",
          "0,390",
          "0,510",
          "0,995",
          "0,810"
         ],
         "yaxis": "y"
        }
       ],
       "layout": {
        "height": 600,
        "legend": {
         "bgcolor": "white",
         "font": {
          "color": "rgb(42,63,95)"
         },
         "title": {
          "text": "variable"
         },
         "tracegroupgap": 0
        },
        "paper_bgcolor": "white",
        "plot_bgcolor": "#e8ecf4",
        "showlegend": true,
        "template": {
         "data": {
          "bar": [
           {
            "error_x": {
             "color": "#f2f5fa"
            },
            "error_y": {
             "color": "#f2f5fa"
            },
            "marker": {
             "line": {
              "color": "rgb(17,17,17)",
              "width": 0.5
             },
             "pattern": {
              "fillmode": "overlay",
              "size": 10,
              "solidity": 0.2
             }
            },
            "type": "bar"
           }
          ],
          "barpolar": [
           {
            "marker": {
             "line": {
              "color": "rgb(17,17,17)",
              "width": 0.5
             },
             "pattern": {
              "fillmode": "overlay",
              "size": 10,
              "solidity": 0.2
             }
            },
            "type": "barpolar"
           }
          ],
          "carpet": [
           {
            "aaxis": {
             "endlinecolor": "#A2B1C6",
             "gridcolor": "#506784",
             "linecolor": "#506784",
             "minorgridcolor": "#506784",
             "startlinecolor": "#A2B1C6"
            },
            "baxis": {
             "endlinecolor": "#A2B1C6",
             "gridcolor": "#506784",
             "linecolor": "#506784",
             "minorgridcolor": "#506784",
             "startlinecolor": "#A2B1C6"
            },
            "type": "carpet"
           }
          ],
          "choropleth": [
           {
            "colorbar": {
             "outlinewidth": 0,
             "ticks": ""
            },
            "type": "choropleth"
           }
          ],
          "contour": [
           {
            "colorbar": {
             "outlinewidth": 0,
             "ticks": ""
            },
            "colorscale": [
             [
              0,
              "#0d0887"
             ],
             [
              0.1111111111111111,
              "#46039f"
             ],
             [
              0.2222222222222222,
              "#7201a8"
             ],
             [
              0.3333333333333333,
              "#9c179e"
             ],
             [
              0.4444444444444444,
              "#bd3786"
             ],
             [
              0.5555555555555556,
              "#d8576b"
             ],
             [
              0.6666666666666666,
              "#ed7953"
             ],
             [
              0.7777777777777778,
              "#fb9f3a"
             ],
             [
              0.8888888888888888,
              "#fdca26"
             ],
             [
              1,
              "#f0f921"
             ]
            ],
            "type": "contour"
           }
          ],
          "contourcarpet": [
           {
            "colorbar": {
             "outlinewidth": 0,
             "ticks": ""
            },
            "type": "contourcarpet"
           }
          ],
          "heatmap": [
           {
            "colorbar": {
             "outlinewidth": 0,
             "ticks": ""
            },
            "colorscale": [
             [
              0,
              "#0d0887"
             ],
             [
              0.1111111111111111,
              "#46039f"
             ],
             [
              0.2222222222222222,
              "#7201a8"
             ],
             [
              0.3333333333333333,
              "#9c179e"
             ],
             [
              0.4444444444444444,
              "#bd3786"
             ],
             [
              0.5555555555555556,
              "#d8576b"
             ],
             [
              0.6666666666666666,
              "#ed7953"
             ],
             [
              0.7777777777777778,
              "#fb9f3a"
             ],
             [
              0.8888888888888888,
              "#fdca26"
             ],
             [
              1,
              "#f0f921"
             ]
            ],
            "type": "heatmap"
           }
          ],
          "heatmapgl": [
           {
            "colorbar": {
             "outlinewidth": 0,
             "ticks": ""
            },
            "colorscale": [
             [
              0,
              "#0d0887"
             ],
             [
              0.1111111111111111,
              "#46039f"
             ],
             [
              0.2222222222222222,
              "#7201a8"
             ],
             [
              0.3333333333333333,
              "#9c179e"
             ],
             [
              0.4444444444444444,
              "#bd3786"
             ],
             [
              0.5555555555555556,
              "#d8576b"
             ],
             [
              0.6666666666666666,
              "#ed7953"
             ],
             [
              0.7777777777777778,
              "#fb9f3a"
             ],
             [
              0.8888888888888888,
              "#fdca26"
             ],
             [
              1,
              "#f0f921"
             ]
            ],
            "type": "heatmapgl"
           }
          ],
          "histogram": [
           {
            "marker": {
             "pattern": {
              "fillmode": "overlay",
              "size": 10,
              "solidity": 0.2
             }
            },
            "type": "histogram"
           }
          ],
          "histogram2d": [
           {
            "colorbar": {
             "outlinewidth": 0,
             "ticks": ""
            },
            "colorscale": [
             [
              0,
              "#0d0887"
             ],
             [
              0.1111111111111111,
              "#46039f"
             ],
             [
              0.2222222222222222,
              "#7201a8"
             ],
             [
              0.3333333333333333,
              "#9c179e"
             ],
             [
              0.4444444444444444,
              "#bd3786"
             ],
             [
              0.5555555555555556,
              "#d8576b"
             ],
             [
              0.6666666666666666,
              "#ed7953"
             ],
             [
              0.7777777777777778,
              "#fb9f3a"
             ],
             [
              0.8888888888888888,
              "#fdca26"
             ],
             [
              1,
              "#f0f921"
             ]
            ],
            "type": "histogram2d"
           }
          ],
          "histogram2dcontour": [
           {
            "colorbar": {
             "outlinewidth": 0,
             "ticks": ""
            },
            "colorscale": [
             [
              0,
              "#0d0887"
             ],
             [
              0.1111111111111111,
              "#46039f"
             ],
             [
              0.2222222222222222,
              "#7201a8"
             ],
             [
              0.3333333333333333,
              "#9c179e"
             ],
             [
              0.4444444444444444,
              "#bd3786"
             ],
             [
              0.5555555555555556,
              "#d8576b"
             ],
             [
              0.6666666666666666,
              "#ed7953"
             ],
             [
              0.7777777777777778,
              "#fb9f3a"
             ],
             [
              0.8888888888888888,
              "#fdca26"
             ],
             [
              1,
              "#f0f921"
             ]
            ],
            "type": "histogram2dcontour"
           }
          ],
          "mesh3d": [
           {
            "colorbar": {
             "outlinewidth": 0,
             "ticks": ""
            },
            "type": "mesh3d"
           }
          ],
          "parcoords": [
           {
            "line": {
             "colorbar": {
              "outlinewidth": 0,
              "ticks": ""
             }
            },
            "type": "parcoords"
           }
          ],
          "pie": [
           {
            "automargin": true,
            "type": "pie"
           }
          ],
          "scatter": [
           {
            "marker": {
             "line": {
              "color": "#283442"
             }
            },
            "type": "scatter"
           }
          ],
          "scatter3d": [
           {
            "line": {
             "colorbar": {
              "outlinewidth": 0,
              "ticks": ""
             }
            },
            "marker": {
             "colorbar": {
              "outlinewidth": 0,
              "ticks": ""
             }
            },
            "type": "scatter3d"
           }
          ],
          "scattercarpet": [
           {
            "marker": {
             "colorbar": {
              "outlinewidth": 0,
              "ticks": ""
             }
            },
            "type": "scattercarpet"
           }
          ],
          "scattergeo": [
           {
            "marker": {
             "colorbar": {
              "outlinewidth": 0,
              "ticks": ""
             }
            },
            "type": "scattergeo"
           }
          ],
          "scattergl": [
           {
            "marker": {
             "line": {
              "color": "#283442"
             }
            },
            "type": "scattergl"
           }
          ],
          "scattermapbox": [
           {
            "marker": {
             "colorbar": {
              "outlinewidth": 0,
              "ticks": ""
             }
            },
            "type": "scattermapbox"
           }
          ],
          "scatterpolar": [
           {
            "marker": {
             "colorbar": {
              "outlinewidth": 0,
              "ticks": ""
             }
            },
            "type": "scatterpolar"
           }
          ],
          "scatterpolargl": [
           {
            "marker": {
             "colorbar": {
              "outlinewidth": 0,
              "ticks": ""
             }
            },
            "type": "scatterpolargl"
           }
          ],
          "scatterternary": [
           {
            "marker": {
             "colorbar": {
              "outlinewidth": 0,
              "ticks": ""
             }
            },
            "type": "scatterternary"
           }
          ],
          "surface": [
           {
            "colorbar": {
             "outlinewidth": 0,
             "ticks": ""
            },
            "colorscale": [
             [
              0,
              "#0d0887"
             ],
             [
              0.1111111111111111,
              "#46039f"
             ],
             [
              0.2222222222222222,
              "#7201a8"
             ],
             [
              0.3333333333333333,
              "#9c179e"
             ],
             [
              0.4444444444444444,
              "#bd3786"
             ],
             [
              0.5555555555555556,
              "#d8576b"
             ],
             [
              0.6666666666666666,
              "#ed7953"
             ],
             [
              0.7777777777777778,
              "#fb9f3a"
             ],
             [
              0.8888888888888888,
              "#fdca26"
             ],
             [
              1,
              "#f0f921"
             ]
            ],
            "type": "surface"
           }
          ],
          "table": [
           {
            "cells": {
             "fill": {
              "color": "#506784"
             },
             "line": {
              "color": "rgb(17,17,17)"
             }
            },
            "header": {
             "fill": {
              "color": "#2a3f5f"
             },
             "line": {
              "color": "rgb(17,17,17)"
             }
            },
            "type": "table"
           }
          ]
         },
         "layout": {
          "annotationdefaults": {
           "arrowcolor": "#f2f5fa",
           "arrowhead": 0,
           "arrowwidth": 1
          },
          "autotypenumbers": "strict",
          "coloraxis": {
           "colorbar": {
            "outlinewidth": 0,
            "ticks": ""
           }
          },
          "colorscale": {
           "diverging": [
            [
             0,
             "#8e0152"
            ],
            [
             0.1,
             "#c51b7d"
            ],
            [
             0.2,
             "#de77ae"
            ],
            [
             0.3,
             "#f1b6da"
            ],
            [
             0.4,
             "#fde0ef"
            ],
            [
             0.5,
             "#f7f7f7"
            ],
            [
             0.6,
             "#e6f5d0"
            ],
            [
             0.7,
             "#b8e186"
            ],
            [
             0.8,
             "#7fbc41"
            ],
            [
             0.9,
             "#4d9221"
            ],
            [
             1,
             "#276419"
            ]
           ],
           "sequential": [
            [
             0,
             "#0d0887"
            ],
            [
             0.1111111111111111,
             "#46039f"
            ],
            [
             0.2222222222222222,
             "#7201a8"
            ],
            [
             0.3333333333333333,
             "#9c179e"
            ],
            [
             0.4444444444444444,
             "#bd3786"
            ],
            [
             0.5555555555555556,
             "#d8576b"
            ],
            [
             0.6666666666666666,
             "#ed7953"
            ],
            [
             0.7777777777777778,
             "#fb9f3a"
            ],
            [
             0.8888888888888888,
             "#fdca26"
            ],
            [
             1,
             "#f0f921"
            ]
           ],
           "sequentialminus": [
            [
             0,
             "#0d0887"
            ],
            [
             0.1111111111111111,
             "#46039f"
            ],
            [
             0.2222222222222222,
             "#7201a8"
            ],
            [
             0.3333333333333333,
             "#9c179e"
            ],
            [
             0.4444444444444444,
             "#bd3786"
            ],
            [
             0.5555555555555556,
             "#d8576b"
            ],
            [
             0.6666666666666666,
             "#ed7953"
            ],
            [
             0.7777777777777778,
             "#fb9f3a"
            ],
            [
             0.8888888888888888,
             "#fdca26"
            ],
            [
             1,
             "#f0f921"
            ]
           ]
          },
          "colorway": [
           "#636efa",
           "#EF553B",
           "#00cc96",
           "#ab63fa",
           "#FFA15A",
           "#19d3f3",
           "#FF6692",
           "#B6E880",
           "#FF97FF",
           "#FECB52"
          ],
          "font": {
           "color": "#f2f5fa"
          },
          "geo": {
           "bgcolor": "rgb(17,17,17)",
           "lakecolor": "rgb(17,17,17)",
           "landcolor": "rgb(17,17,17)",
           "showlakes": true,
           "showland": true,
           "subunitcolor": "#506784"
          },
          "hoverlabel": {
           "align": "left"
          },
          "hovermode": "closest",
          "mapbox": {
           "style": "dark"
          },
          "paper_bgcolor": "rgb(17,17,17)",
          "plot_bgcolor": "rgb(17,17,17)",
          "polar": {
           "angularaxis": {
            "gridcolor": "#506784",
            "linecolor": "#506784",
            "ticks": ""
           },
           "bgcolor": "rgb(17,17,17)",
           "radialaxis": {
            "gridcolor": "#506784",
            "linecolor": "#506784",
            "ticks": ""
           }
          },
          "scene": {
           "xaxis": {
            "backgroundcolor": "rgb(17,17,17)",
            "gridcolor": "#506784",
            "gridwidth": 2,
            "linecolor": "#506784",
            "showbackground": true,
            "ticks": "",
            "zerolinecolor": "#C8D4E3"
           },
           "yaxis": {
            "backgroundcolor": "rgb(17,17,17)",
            "gridcolor": "#506784",
            "gridwidth": 2,
            "linecolor": "#506784",
            "showbackground": true,
            "ticks": "",
            "zerolinecolor": "#C8D4E3"
           },
           "zaxis": {
            "backgroundcolor": "rgb(17,17,17)",
            "gridcolor": "#506784",
            "gridwidth": 2,
            "linecolor": "#506784",
            "showbackground": true,
            "ticks": "",
            "zerolinecolor": "#C8D4E3"
           }
          },
          "shapedefaults": {
           "line": {
            "color": "#f2f5fa"
           }
          },
          "sliderdefaults": {
           "bgcolor": "#C8D4E3",
           "bordercolor": "rgb(17,17,17)",
           "borderwidth": 1,
           "tickwidth": 0
          },
          "ternary": {
           "aaxis": {
            "gridcolor": "#506784",
            "linecolor": "#506784",
            "ticks": ""
           },
           "baxis": {
            "gridcolor": "#506784",
            "linecolor": "#506784",
            "ticks": ""
           },
           "bgcolor": "rgb(17,17,17)",
           "caxis": {
            "gridcolor": "#506784",
            "linecolor": "#506784",
            "ticks": ""
           }
          },
          "title": {
           "x": 0.05
          },
          "updatemenudefaults": {
           "bgcolor": "#506784",
           "borderwidth": 0
          },
          "xaxis": {
           "automargin": true,
           "gridcolor": "#283442",
           "linecolor": "#506784",
           "ticks": "",
           "title": {
            "standoff": 15
           },
           "zerolinecolor": "#283442",
           "zerolinewidth": 2
          },
          "yaxis": {
           "automargin": true,
           "gridcolor": "#283442",
           "linecolor": "#506784",
           "ticks": "",
           "title": {
            "standoff": 15
           },
           "zerolinecolor": "#283442",
           "zerolinewidth": 2
          }
         }
        },
        "title": {
         "font": {
          "color": "rgb(42,63,95)"
         },
         "text": "Asielverzoeken en nareizigers per maand"
        },
        "xaxis": {
         "anchor": "y",
         "color": "rgb(42,63,95)",
         "domain": [
          0,
          1
         ],
         "title": {
          "text": "Datum"
         },
         "type": "-"
        },
        "yaxis": {
         "anchor": "x",
         "color": "rgb(42,63,95)",
         "domain": [
          0,
          1
         ],
         "title": {
          "font": {
           "color": "rgb(42,63,95)"
          },
          "text": "waardes"
         },
         "type": "linear"
        }
       }
      },
      "text/html": [
       "<div>                            <div id=\"a08f38a3-6c30-4a91-845e-f5b21468da36\" class=\"plotly-graph-div\" style=\"height:600px; width:100%;\"></div>            <script type=\"text/javascript\">                require([\"plotly\"], function(Plotly) {                    window.PLOTLYENV=window.PLOTLYENV || {};                                    if (document.getElementById(\"a08f38a3-6c30-4a91-845e-f5b21468da36\")) {                    Plotly.newPlot(                        \"a08f38a3-6c30-4a91-845e-f5b21468da36\",                        [{\"hovertemplate\":\"variable=Eerste asielverzoeken<br>Datum=%{x}<br>value=%{y}<extra></extra>\",\"legendgroup\":\"Eerste asielverzoeken\",\"line\":{\"color\":\"#636efa\",\"dash\":\"solid\"},\"marker\":{\"symbol\":\"circle\"},\"mode\":\"lines\",\"name\":\"Eerste asielverzoeken\",\"orientation\":\"v\",\"showlegend\":true,\"x\":[\"2017 april\",\"2017 mei\",\"2017 juni\",\"2017 juli\",\"2017 augustus\",\"2017 september\",\"2017 oktober\",\"2017 november\",\"2017 december\",\"2018 januari\",\"2018 februari\",\"2018 maart\",\"2018 april\",\"2018 mei\",\"2018 juni\",\"2018 juli\",\"2018 augustus\",\"2018 september\",\"2018 oktober\",\"2018 november\",\"2018 december\",\"2019 januari\",\"2019 februari\",\"2019 maart\",\"2019 april\",\"2019 mei\",\"2019 juni\",\"2019 juli\",\"2019 augustus\",\"2019 september\",\"2019 oktober\",\"2019 november\",\"2019 december\",\"2020 januari\",\"2020 februari\",\"2020 maart\",\"2020 april\",\"2020 mei\",\"2020 juni\",\"2020 juli\",\"2020 augustus\",\"2020 september\",\"2020 oktober\",\"2020 november\",\"2020 december\",\"2021 januari\",\"2021 februari\",\"2021 maart\",\"2021 april\",\"2021 mei\",\"2021 juni\",\"2021 juli\",\"2021 augustus\",\"2021 september\",\"2021 oktober\",\"2021 november\",\"2021 december\",\"2022 januari\",\"2022 februari\",\"2022 maart\",\"2022 april\",\"2022 mei\",\"2022 juni\",\"2022 juli\",\"2022 augustus\",\"2022 september\",\"2022 oktober\",\"2022 november\",\"2022 december\",\"2023 januari*\",\"2023 februari*\",\"2023 maart*\",\"2023 april*\"],\"xaxis\":\"x\",\"y\":[\"1,160\",\"1,285\",\"1,345\",\"1,530\",\"1,435\",\"1,400\",\"1,310\",\"1,300\",\"1,345\",\"1,560\",\"1,200\",\"1,390\",\"1,450\",\"1,575\",\"1,295\",\"1,930\",\"2,025\",\"2,250\",\"2,225\",\"1,840\",\"1,770\",\"1,850\",\"1,660\",\"1,875\",\"1,860\",\"1,645\",\"1,685\",\"1,960\",\"1,880\",\"2,030\",\"2,090\",\"2,075\",\"1,935\",\"1,955\",\"1,505\",\"1,010\",\"0,270\",\"0,340\",\"0,650\",\"1,195\",\"1,420\",\"1,490\",\"1,405\",\"1,225\",\"1,265\",\"0,920\",\"0,780\",\"1,020\",\"0,905\",\"0,950\",\"1,485\",\"2,120\",\"2,745\",\"3,950\",\"3,870\",\"3,580\",\"2,415\",\"1,960\",\"1,600\",\"2,895\",\"2,220\",\"2,530\",\"2,575\",\"2,745\",\"3,840\",\"4,435\",\"4,075\",\"4,070\",\"2,595\",\"2,490\",\"2,195\",\"2,225\",\"2,355\"],\"yaxis\":\"y\",\"type\":\"scatter\"},{\"hovertemplate\":\"variable=Nareizigers<br>Datum=%{x}<br>value=%{y}<extra></extra>\",\"legendgroup\":\"Nareizigers\",\"line\":{\"color\":\"#EF553B\",\"dash\":\"solid\"},\"marker\":{\"symbol\":\"circle\"},\"mode\":\"lines\",\"name\":\"Nareizigers\",\"orientation\":\"v\",\"showlegend\":true,\"x\":[\"2017 april\",\"2017 mei\",\"2017 juni\",\"2017 juli\",\"2017 augustus\",\"2017 september\",\"2017 oktober\",\"2017 november\",\"2017 december\",\"2018 januari\",\"2018 februari\",\"2018 maart\",\"2018 april\",\"2018 mei\",\"2018 juni\",\"2018 juli\",\"2018 augustus\",\"2018 september\",\"2018 oktober\",\"2018 november\",\"2018 december\",\"2019 januari\",\"2019 februari\",\"2019 maart\",\"2019 april\",\"2019 mei\",\"2019 juni\",\"2019 juli\",\"2019 augustus\",\"2019 september\",\"2019 oktober\",\"2019 november\",\"2019 december\",\"2020 januari\",\"2020 februari\",\"2020 maart\",\"2020 april\",\"2020 mei\",\"2020 juni\",\"2020 juli\",\"2020 augustus\",\"2020 september\",\"2020 oktober\",\"2020 november\",\"2020 december\",\"2021 januari\",\"2021 februari\",\"2021 maart\",\"2021 april\",\"2021 mei\",\"2021 juni\",\"2021 juli\",\"2021 augustus\",\"2021 september\",\"2021 oktober\",\"2021 november\",\"2021 december\",\"2022 januari\",\"2022 februari\",\"2022 maart\",\"2022 april\",\"2022 mei\",\"2022 juni\",\"2022 juli\",\"2022 augustus\",\"2022 september\",\"2022 oktober\",\"2022 november\",\"2022 december\",\"2023 januari*\",\"2023 februari*\",\"2023 maart*\",\"2023 april*\"],\"xaxis\":\"x\",\"y\":[\"1,685\",\"1,475\",\"0,935\",\"0,765\",\"0,755\",\"0,745\",\"0,905\",\"0,935\",\"0,995\",\"0,700\",\"0,705\",\"0,735\",\"0,620\",\"0,815\",\"0,540\",\"0,565\",\"0,370\",\"0,350\",\"0,350\",\"0,410\",\"0,315\",\"0,270\",\"0,340\",\"0,230\",\"0,215\",\"0,255\",\"0,415\",\"0,460\",\"0,320\",\"0,425\",\"0,400\",\"0,360\",\"0,480\",\"0,465\",\"0,475\",\"0,125\",\"0,150\",\"0,050\",\"0,060\",\"0,240\",\"0,270\",\"0,350\",\"0,495\",\"0,635\",\"0,545\",\"0,365\",\"0,475\",\"0,670\",\"0,885\",\"0,830\",\"0,885\",\"1,075\",\"0,770\",\"0,935\",\"1,210\",\"0,835\",\"1,185\",\"0,655\",\"0,775\",\"1,135\",\"0,850\",\"0,915\",\"1,400\",\"1,615\",\"1,065\",\"0,965\",\"0,660\",\"0,380\",\"0,500\",\"0,390\",\"0,510\",\"0,995\",\"0,810\"],\"yaxis\":\"y\",\"type\":\"scatter\"}],                        {\"template\":{\"data\":{\"histogram2dcontour\":[{\"type\":\"histogram2dcontour\",\"colorbar\":{\"outlinewidth\":0,\"ticks\":\"\"},\"colorscale\":[[0.0,\"#0d0887\"],[0.1111111111111111,\"#46039f\"],[0.2222222222222222,\"#7201a8\"],[0.3333333333333333,\"#9c179e\"],[0.4444444444444444,\"#bd3786\"],[0.5555555555555556,\"#d8576b\"],[0.6666666666666666,\"#ed7953\"],[0.7777777777777778,\"#fb9f3a\"],[0.8888888888888888,\"#fdca26\"],[1.0,\"#f0f921\"]]}],\"choropleth\":[{\"type\":\"choropleth\",\"colorbar\":{\"outlinewidth\":0,\"ticks\":\"\"}}],\"histogram2d\":[{\"type\":\"histogram2d\",\"colorbar\":{\"outlinewidth\":0,\"ticks\":\"\"},\"colorscale\":[[0.0,\"#0d0887\"],[0.1111111111111111,\"#46039f\"],[0.2222222222222222,\"#7201a8\"],[0.3333333333333333,\"#9c179e\"],[0.4444444444444444,\"#bd3786\"],[0.5555555555555556,\"#d8576b\"],[0.6666666666666666,\"#ed7953\"],[0.7777777777777778,\"#fb9f3a\"],[0.8888888888888888,\"#fdca26\"],[1.0,\"#f0f921\"]]}],\"heatmap\":[{\"type\":\"heatmap\",\"colorbar\":{\"outlinewidth\":0,\"ticks\":\"\"},\"colorscale\":[[0.0,\"#0d0887\"],[0.1111111111111111,\"#46039f\"],[0.2222222222222222,\"#7201a8\"],[0.3333333333333333,\"#9c179e\"],[0.4444444444444444,\"#bd3786\"],[0.5555555555555556,\"#d8576b\"],[0.6666666666666666,\"#ed7953\"],[0.7777777777777778,\"#fb9f3a\"],[0.8888888888888888,\"#fdca26\"],[1.0,\"#f0f921\"]]}],\"heatmapgl\":[{\"type\":\"heatmapgl\",\"colorbar\":{\"outlinewidth\":0,\"ticks\":\"\"},\"colorscale\":[[0.0,\"#0d0887\"],[0.1111111111111111,\"#46039f\"],[0.2222222222222222,\"#7201a8\"],[0.3333333333333333,\"#9c179e\"],[0.4444444444444444,\"#bd3786\"],[0.5555555555555556,\"#d8576b\"],[0.6666666666666666,\"#ed7953\"],[0.7777777777777778,\"#fb9f3a\"],[0.8888888888888888,\"#fdca26\"],[1.0,\"#f0f921\"]]}],\"contourcarpet\":[{\"type\":\"contourcarpet\",\"colorbar\":{\"outlinewidth\":0,\"ticks\":\"\"}}],\"contour\":[{\"type\":\"contour\",\"colorbar\":{\"outlinewidth\":0,\"ticks\":\"\"},\"colorscale\":[[0.0,\"#0d0887\"],[0.1111111111111111,\"#46039f\"],[0.2222222222222222,\"#7201a8\"],[0.3333333333333333,\"#9c179e\"],[0.4444444444444444,\"#bd3786\"],[0.5555555555555556,\"#d8576b\"],[0.6666666666666666,\"#ed7953\"],[0.7777777777777778,\"#fb9f3a\"],[0.8888888888888888,\"#fdca26\"],[1.0,\"#f0f921\"]]}],\"surface\":[{\"type\":\"surface\",\"colorbar\":{\"outlinewidth\":0,\"ticks\":\"\"},\"colorscale\":[[0.0,\"#0d0887\"],[0.1111111111111111,\"#46039f\"],[0.2222222222222222,\"#7201a8\"],[0.3333333333333333,\"#9c179e\"],[0.4444444444444444,\"#bd3786\"],[0.5555555555555556,\"#d8576b\"],[0.6666666666666666,\"#ed7953\"],[0.7777777777777778,\"#fb9f3a\"],[0.8888888888888888,\"#fdca26\"],[1.0,\"#f0f921\"]]}],\"mesh3d\":[{\"type\":\"mesh3d\",\"colorbar\":{\"outlinewidth\":0,\"ticks\":\"\"}}],\"scatter\":[{\"marker\":{\"line\":{\"color\":\"#283442\"}},\"type\":\"scatter\"}],\"parcoords\":[{\"type\":\"parcoords\",\"line\":{\"colorbar\":{\"outlinewidth\":0,\"ticks\":\"\"}}}],\"scatterpolargl\":[{\"type\":\"scatterpolargl\",\"marker\":{\"colorbar\":{\"outlinewidth\":0,\"ticks\":\"\"}}}],\"bar\":[{\"error_x\":{\"color\":\"#f2f5fa\"},\"error_y\":{\"color\":\"#f2f5fa\"},\"marker\":{\"line\":{\"color\":\"rgb(17,17,17)\",\"width\":0.5},\"pattern\":{\"fillmode\":\"overlay\",\"size\":10,\"solidity\":0.2}},\"type\":\"bar\"}],\"scattergeo\":[{\"type\":\"scattergeo\",\"marker\":{\"colorbar\":{\"outlinewidth\":0,\"ticks\":\"\"}}}],\"scatterpolar\":[{\"type\":\"scatterpolar\",\"marker\":{\"colorbar\":{\"outlinewidth\":0,\"ticks\":\"\"}}}],\"histogram\":[{\"marker\":{\"pattern\":{\"fillmode\":\"overlay\",\"size\":10,\"solidity\":0.2}},\"type\":\"histogram\"}],\"scattergl\":[{\"marker\":{\"line\":{\"color\":\"#283442\"}},\"type\":\"scattergl\"}],\"scatter3d\":[{\"type\":\"scatter3d\",\"line\":{\"colorbar\":{\"outlinewidth\":0,\"ticks\":\"\"}},\"marker\":{\"colorbar\":{\"outlinewidth\":0,\"ticks\":\"\"}}}],\"scattermapbox\":[{\"type\":\"scattermapbox\",\"marker\":{\"colorbar\":{\"outlinewidth\":0,\"ticks\":\"\"}}}],\"scatterternary\":[{\"type\":\"scatterternary\",\"marker\":{\"colorbar\":{\"outlinewidth\":0,\"ticks\":\"\"}}}],\"scattercarpet\":[{\"type\":\"scattercarpet\",\"marker\":{\"colorbar\":{\"outlinewidth\":0,\"ticks\":\"\"}}}],\"carpet\":[{\"aaxis\":{\"endlinecolor\":\"#A2B1C6\",\"gridcolor\":\"#506784\",\"linecolor\":\"#506784\",\"minorgridcolor\":\"#506784\",\"startlinecolor\":\"#A2B1C6\"},\"baxis\":{\"endlinecolor\":\"#A2B1C6\",\"gridcolor\":\"#506784\",\"linecolor\":\"#506784\",\"minorgridcolor\":\"#506784\",\"startlinecolor\":\"#A2B1C6\"},\"type\":\"carpet\"}],\"table\":[{\"cells\":{\"fill\":{\"color\":\"#506784\"},\"line\":{\"color\":\"rgb(17,17,17)\"}},\"header\":{\"fill\":{\"color\":\"#2a3f5f\"},\"line\":{\"color\":\"rgb(17,17,17)\"}},\"type\":\"table\"}],\"barpolar\":[{\"marker\":{\"line\":{\"color\":\"rgb(17,17,17)\",\"width\":0.5},\"pattern\":{\"fillmode\":\"overlay\",\"size\":10,\"solidity\":0.2}},\"type\":\"barpolar\"}],\"pie\":[{\"automargin\":true,\"type\":\"pie\"}]},\"layout\":{\"autotypenumbers\":\"strict\",\"colorway\":[\"#636efa\",\"#EF553B\",\"#00cc96\",\"#ab63fa\",\"#FFA15A\",\"#19d3f3\",\"#FF6692\",\"#B6E880\",\"#FF97FF\",\"#FECB52\"],\"font\":{\"color\":\"#f2f5fa\"},\"hovermode\":\"closest\",\"hoverlabel\":{\"align\":\"left\"},\"paper_bgcolor\":\"rgb(17,17,17)\",\"plot_bgcolor\":\"rgb(17,17,17)\",\"polar\":{\"bgcolor\":\"rgb(17,17,17)\",\"angularaxis\":{\"gridcolor\":\"#506784\",\"linecolor\":\"#506784\",\"ticks\":\"\"},\"radialaxis\":{\"gridcolor\":\"#506784\",\"linecolor\":\"#506784\",\"ticks\":\"\"}},\"ternary\":{\"bgcolor\":\"rgb(17,17,17)\",\"aaxis\":{\"gridcolor\":\"#506784\",\"linecolor\":\"#506784\",\"ticks\":\"\"},\"baxis\":{\"gridcolor\":\"#506784\",\"linecolor\":\"#506784\",\"ticks\":\"\"},\"caxis\":{\"gridcolor\":\"#506784\",\"linecolor\":\"#506784\",\"ticks\":\"\"}},\"coloraxis\":{\"colorbar\":{\"outlinewidth\":0,\"ticks\":\"\"}},\"colorscale\":{\"sequential\":[[0.0,\"#0d0887\"],[0.1111111111111111,\"#46039f\"],[0.2222222222222222,\"#7201a8\"],[0.3333333333333333,\"#9c179e\"],[0.4444444444444444,\"#bd3786\"],[0.5555555555555556,\"#d8576b\"],[0.6666666666666666,\"#ed7953\"],[0.7777777777777778,\"#fb9f3a\"],[0.8888888888888888,\"#fdca26\"],[1.0,\"#f0f921\"]],\"sequentialminus\":[[0.0,\"#0d0887\"],[0.1111111111111111,\"#46039f\"],[0.2222222222222222,\"#7201a8\"],[0.3333333333333333,\"#9c179e\"],[0.4444444444444444,\"#bd3786\"],[0.5555555555555556,\"#d8576b\"],[0.6666666666666666,\"#ed7953\"],[0.7777777777777778,\"#fb9f3a\"],[0.8888888888888888,\"#fdca26\"],[1.0,\"#f0f921\"]],\"diverging\":[[0,\"#8e0152\"],[0.1,\"#c51b7d\"],[0.2,\"#de77ae\"],[0.3,\"#f1b6da\"],[0.4,\"#fde0ef\"],[0.5,\"#f7f7f7\"],[0.6,\"#e6f5d0\"],[0.7,\"#b8e186\"],[0.8,\"#7fbc41\"],[0.9,\"#4d9221\"],[1,\"#276419\"]]},\"xaxis\":{\"gridcolor\":\"#283442\",\"linecolor\":\"#506784\",\"ticks\":\"\",\"title\":{\"standoff\":15},\"zerolinecolor\":\"#283442\",\"automargin\":true,\"zerolinewidth\":2},\"yaxis\":{\"gridcolor\":\"#283442\",\"linecolor\":\"#506784\",\"ticks\":\"\",\"title\":{\"standoff\":15},\"zerolinecolor\":\"#283442\",\"automargin\":true,\"zerolinewidth\":2},\"scene\":{\"xaxis\":{\"backgroundcolor\":\"rgb(17,17,17)\",\"gridcolor\":\"#506784\",\"linecolor\":\"#506784\",\"showbackground\":true,\"ticks\":\"\",\"zerolinecolor\":\"#C8D4E3\",\"gridwidth\":2},\"yaxis\":{\"backgroundcolor\":\"rgb(17,17,17)\",\"gridcolor\":\"#506784\",\"linecolor\":\"#506784\",\"showbackground\":true,\"ticks\":\"\",\"zerolinecolor\":\"#C8D4E3\",\"gridwidth\":2},\"zaxis\":{\"backgroundcolor\":\"rgb(17,17,17)\",\"gridcolor\":\"#506784\",\"linecolor\":\"#506784\",\"showbackground\":true,\"ticks\":\"\",\"zerolinecolor\":\"#C8D4E3\",\"gridwidth\":2}},\"shapedefaults\":{\"line\":{\"color\":\"#f2f5fa\"}},\"annotationdefaults\":{\"arrowcolor\":\"#f2f5fa\",\"arrowhead\":0,\"arrowwidth\":1},\"geo\":{\"bgcolor\":\"rgb(17,17,17)\",\"landcolor\":\"rgb(17,17,17)\",\"subunitcolor\":\"#506784\",\"showland\":true,\"showlakes\":true,\"lakecolor\":\"rgb(17,17,17)\"},\"title\":{\"x\":0.05},\"updatemenudefaults\":{\"bgcolor\":\"#506784\",\"borderwidth\":0},\"sliderdefaults\":{\"bgcolor\":\"#C8D4E3\",\"borderwidth\":1,\"bordercolor\":\"rgb(17,17,17)\",\"tickwidth\":0},\"mapbox\":{\"style\":\"dark\"}}},\"xaxis\":{\"anchor\":\"y\",\"domain\":[0.0,1.0],\"title\":{\"text\":\"Datum\"},\"type\":\"-\",\"color\":\"rgb(42,63,95)\"},\"yaxis\":{\"anchor\":\"x\",\"domain\":[0.0,1.0],\"title\":{\"text\":\"waardes\",\"font\":{\"color\":\"rgb(42,63,95)\"}},\"type\":\"linear\",\"color\":\"rgb(42,63,95)\"},\"legend\":{\"title\":{\"text\":\"variable\"},\"tracegroupgap\":0,\"font\":{\"color\":\"rgb(42,63,95)\"},\"bgcolor\":\"white\"},\"title\":{\"text\":\"Asielverzoeken en nareizigers per maand\",\"font\":{\"color\":\"rgb(42,63,95)\"}},\"paper_bgcolor\":\"white\",\"plot_bgcolor\":\"#e8ecf4\",\"showlegend\":true,\"height\":600},                        {\"responsive\": true}                    ).then(function(){\n",
       "                            \n",
       "var gd = document.getElementById('a08f38a3-6c30-4a91-845e-f5b21468da36');\n",
       "var x = new MutationObserver(function (mutations, observer) {{\n",
       "        var display = window.getComputedStyle(gd).display;\n",
       "        if (!display || display === 'none') {{\n",
       "            console.log([gd, 'removed!']);\n",
       "            Plotly.purge(gd);\n",
       "            observer.disconnect();\n",
       "        }}\n",
       "}});\n",
       "\n",
       "// Listen for the removal of the full notebook cells\n",
       "var notebookContainer = gd.closest('#notebook-container');\n",
       "if (notebookContainer) {{\n",
       "    x.observe(notebookContainer, {childList: true});\n",
       "}}\n",
       "\n",
       "// Listen for the clearing of the current output cell\n",
       "var outputEl = gd.closest('.output');\n",
       "if (outputEl) {{\n",
       "    x.observe(outputEl, {childList: true});\n",
       "}}\n",
       "\n",
       "                        })                };                });            </script>        </div>"
      ]
     },
     "metadata": {},
     "output_type": "display_data"
    }
   ],
   "source": [
    "\n",
    "\n",
    "\n",
    "\n",
    "\n",
    "\n",
    "\n",
    "\n",
    "\n",
    "\n",
    "fig = px.line(data, x='Datum', y=['Eerste asielverzoeken', 'Nareizigers'],\n",
    "              title='Asielverzoeken en nareizigers per maand')\n",
    "\n",
    "fig.update_layout(\n",
    "    xaxis=dict(\n",
    "        type='-',\n",
    "        color='rgb(42,63,95)'\n",
    "    ),\n",
    "    yaxis=dict(\n",
    "        type='linear',\n",
    "        color='rgb(42,63,95)',\n",
    "        title=dict(\n",
    "        text='waardes',\n",
    "        font=dict(\n",
    "            color='rgb(42,63,95)'\n",
    "        ),\n",
    "\n",
    "    ),\n",
    "\n",
    "    ),\n",
    "    paper_bgcolor='white',\n",
    "    plot_bgcolor='#e8ecf4',\n",
    "    title=dict(\n",
    "        text='Asielverzoeken en nareizigers per maand',\n",
    "        font=dict(\n",
    "            color='rgb(42,63,95)'\n",
    "        )\n",
    "    ),\n",
    "    showlegend=True,\n",
    "    height=600,\n",
    "legend=dict(\n",
    "        font=dict(\n",
    "            color='rgb(42,63,95)'\n",
    "        ),\n",
    "        bgcolor='white',\n",
    "    ))\n",
    "\n",
    "fig.show()\n",
    "\n",
    "#Belanrijk!!: Generatieve Kunstmatige intelligentie (KI) (ChatGPT met GPT 3.5) was gebruikt voor het creëren van deze opdracht. Met als doel het genereren van nieuwe, en het verbeteren van bestaande code. Zie de promps en terug gekregen antwoorden in de appendix"
   ]
  },
  {
   "cell_type": "markdown",
   "metadata": {},
   "source": [
    "# Figuur 1: Asielverzoeken en nareizigers per maand\n",
    "\n",
    "## Visualisatie 1:\n",
    "Voor: In de datavisualisaties is te zien dat het aantal asielzoekers dat naar Nederland komt fors toeneemt. Dit is met name vanaf begin 2021.\n",
    "Tegen: Hetzelfde patroon in het aantal asielzoekers dat naar Nederland komt blijft hetzelfde. Het aantal nareizigers dat hier komt neemt nauwelijks toe. Het stijgende aantal asielzoekers is nou eenmaal een resultaat van meer wereldwijde situaties die mensen uit hun land drijven wegens onveilige situaties."
   ]
  },
  {
   "cell_type": "code",
   "execution_count": 54,
   "metadata": {
    "tags": [
     "hide_input"
    ]
   },
   "outputs": [],
   "source": [
    "data_europe = pd.read_csv('europa_asielzoekers.csv')\n",
    "\n",
    "data_europe['geo'] = data_europe['geo'].str.split(':').str[-1]\n"
   ]
  },
  {
   "cell_type": "code",
   "execution_count": 38,
   "metadata": {
    "tags": [
     "hide_input"
    ]
   },
   "outputs": [
    {
     "data": {
      "application/vnd.plotly.v1+json": {
       "config": {
        "plotlyServerURL": "https://plot.ly"
       },
       "data": [
        {
         "coloraxis": "coloraxis",
         "geo": "geo",
         "hovertemplate": "TIME_PERIOD=2022-06<br>geo=%{location}<br>OBS_VALUE=%{z}<extra></extra>",
         "locationmode": "country names",
         "locations": [
          "Austria",
          "Belgium",
          "Bulgaria",
          "Switzerland",
          "Cyprus",
          "Czechia",
          "Germany (until 1990 former territory of the FRG)",
          "Denmark",
          "Estonia",
          "Greece",
          "Spain",
          "European Union - 27 countries (from 2020)",
          "Finland",
          "France",
          "Croatia",
          "Hungary",
          "Ireland",
          "Iceland",
          "Italy",
          "Liechtenstein",
          "Lithuania",
          "Luxembourg",
          "Latvia",
          "Montenegro",
          "Malta",
          "Netherlands",
          "Norway",
          "Poland",
          "Portugal",
          "Romania",
          "Sweden",
          "Slovenia",
          "Slovakia"
         ],
         "name": "",
         "type": "choropleth",
         "z": [
          9540,
          2515,
          905,
          1610,
          2405,
          100,
          12945,
          165,
          155,
          2220,
          10595,
          66845,
          195,
          11095,
          760,
          5,
          1605,
          325,
          5690,
          0,
          55,
          160,
          65,
          15,
          55,
          2575,
          300,
          460,
          130,
          590,
          1125,
          715,
          25
         ]
        }
       ],
       "frames": [
        {
         "data": [
          {
           "coloraxis": "coloraxis",
           "geo": "geo",
           "hovertemplate": "TIME_PERIOD=2022-06<br>geo=%{location}<br>OBS_VALUE=%{z}<extra></extra>",
           "locationmode": "country names",
           "locations": [
            "Austria",
            "Belgium",
            "Bulgaria",
            "Switzerland",
            "Cyprus",
            "Czechia",
            "Germany (until 1990 former territory of the FRG)",
            "Denmark",
            "Estonia",
            "Greece",
            "Spain",
            "European Union - 27 countries (from 2020)",
            "Finland",
            "France",
            "Croatia",
            "Hungary",
            "Ireland",
            "Iceland",
            "Italy",
            "Liechtenstein",
            "Lithuania",
            "Luxembourg",
            "Latvia",
            "Montenegro",
            "Malta",
            "Netherlands",
            "Norway",
            "Poland",
            "Portugal",
            "Romania",
            "Sweden",
            "Slovenia",
            "Slovakia"
           ],
           "name": "",
           "type": "choropleth",
           "z": [
            9540,
            2515,
            905,
            1610,
            2405,
            100,
            12945,
            165,
            155,
            2220,
            10595,
            66845,
            195,
            11095,
            760,
            5,
            1605,
            325,
            5690,
            0,
            55,
            160,
            65,
            15,
            55,
            2575,
            300,
            460,
            130,
            590,
            1125,
            715,
            25
           ]
          }
         ],
         "name": "2022-06"
        },
        {
         "data": [
          {
           "coloraxis": "coloraxis",
           "geo": "geo",
           "hovertemplate": "TIME_PERIOD=2022-07<br>geo=%{location}<br>OBS_VALUE=%{z}<extra></extra>",
           "locationmode": "country names",
           "locations": [
            "Austria",
            "Belgium",
            "Bulgaria",
            "Switzerland",
            "Cyprus",
            "Czechia",
            "Germany (until 1990 former territory of the FRG)",
            "Denmark",
            "Estonia",
            "Greece",
            "Spain",
            "European Union - 27 countries (from 2020)",
            "Finland",
            "France",
            "Croatia",
            "Hungary",
            "Ireland",
            "Iceland",
            "Italy",
            "Liechtenstein",
            "Lithuania",
            "Luxembourg",
            "Latvia",
            "Montenegro",
            "Malta",
            "Netherlands",
            "Norway",
            "Poland",
            "Portugal",
            "Romania",
            "Sweden",
            "Slovenia",
            "Slovakia"
           ],
           "name": "",
           "type": "choropleth",
           "z": [
            11300,
            2655,
            1125,
            1670,
            1770,
            110,
            14085,
            170,
            270,
            2185,
            8745,
            67315,
            190,
            10890,
            1055,
            5,
            1265,
            295,
            5105,
            5,
            70,
            180,
            35,
            10,
            35,
            2740,
            305,
            545,
            125,
            1090,
            1005,
            570,
            5
           ]
          }
         ],
         "name": "2022-07"
        },
        {
         "data": [
          {
           "coloraxis": "coloraxis",
           "geo": "geo",
           "hovertemplate": "TIME_PERIOD=2022-08<br>geo=%{location}<br>OBS_VALUE=%{z}<extra></extra>",
           "locationmode": "country names",
           "locations": [
            "Austria",
            "Belgium",
            "Bulgaria",
            "Switzerland",
            "Cyprus",
            "Czechia",
            "Germany (until 1990 former territory of the FRG)",
            "Denmark",
            "Estonia",
            "Greece",
            "Spain",
            "European Union - 27 countries (from 2020)",
            "Finland",
            "France",
            "Croatia",
            "Hungary",
            "Ireland",
            "Iceland",
            "Italy",
            "Liechtenstein",
            "Lithuania",
            "Luxembourg",
            "Latvia",
            "Montenegro",
            "Malta",
            "Netherlands",
            "Norway",
            "Poland",
            "Portugal",
            "Romania",
            "Sweden",
            "Slovenia",
            "Slovakia"
           ],
           "name": "",
           "type": "choropleth",
           "z": [
            14495,
            3200,
            1895,
            1930,
            1340,
            115,
            17025,
            205,
            375,
            2385,
            8650,
            78360,
            225,
            11900,
            1365,
            5,
            1130,
            235,
            5985,
            5,
            50,
            225,
            40,
            10,
            75,
            3835,
            540,
            610,
            135,
            1190,
            1205,
            635,
            65
           ]
          }
         ],
         "name": "2022-08"
        },
        {
         "data": [
          {
           "coloraxis": "coloraxis",
           "geo": "geo",
           "hovertemplate": "TIME_PERIOD=2022-09<br>geo=%{location}<br>OBS_VALUE=%{z}<extra></extra>",
           "locationmode": "country names",
           "locations": [
            "Austria",
            "Belgium",
            "Bulgaria",
            "Switzerland",
            "Cyprus",
            "Czechia",
            "Germany (until 1990 former territory of the FRG)",
            "Denmark",
            "Estonia",
            "Greece",
            "Spain",
            "European Union - 27 countries (from 2020)",
            "Finland",
            "France",
            "Croatia",
            "Hungary",
            "Ireland",
            "Iceland",
            "Italy",
            "Liechtenstein",
            "Lithuania",
            "Luxembourg",
            "Latvia",
            "Montenegro",
            "Malta",
            "Netherlands",
            "Norway",
            "Poland",
            "Portugal",
            "Romania",
            "Sweden",
            "Slovenia",
            "Slovakia"
           ],
           "name": "",
           "type": "choropleth",
           "z": [
            15930,
            3620,
            2495,
            2535,
            1550,
            175,
            19670,
            210,
            370,
            2965,
            11000,
            91115,
            490,
            13500,
            1845,
            5,
            1060,
            425,
            7920,
            10,
            85,
            300,
            40,
            15,
            80,
            4430,
            635,
            620,
            130,
            805,
            1300,
            485,
            30
           ]
          }
         ],
         "name": "2022-09"
        },
        {
         "data": [
          {
           "coloraxis": "coloraxis",
           "geo": "geo",
           "hovertemplate": "TIME_PERIOD=2022-10<br>geo=%{location}<br>OBS_VALUE=%{z}<extra></extra>",
           "locationmode": "country names",
           "locations": [
            "Austria",
            "Belgium",
            "Bulgaria",
            "Switzerland",
            "Cyprus",
            "Czechia",
            "Germany (until 1990 former territory of the FRG)",
            "Denmark",
            "Estonia",
            "Greece",
            "Spain",
            "European Union - 27 countries (from 2020)",
            "Finland",
            "France",
            "Croatia",
            "Hungary",
            "Ireland",
            "Iceland",
            "Italy",
            "Liechtenstein",
            "Lithuania",
            "Luxembourg",
            "Latvia",
            "Montenegro",
            "Malta",
            "Netherlands",
            "Norway",
            "Poland",
            "Portugal",
            "Romania",
            "Sweden",
            "Slovenia",
            "Slovakia"
           ],
           "name": "",
           "type": "choropleth",
           "z": [
            18210,
            3760,
            2785,
            3080,
            1645,
            130,
            24910,
            260,
            515,
            3260,
            10905,
            99805,
            600,
            13680,
            1960,
            5,
            1185,
            475,
            8385,
            0,
            50,
            295,
            55,
            15,
            100,
            4070,
            715,
            615,
            155,
            575,
            1155,
            485,
            60
           ]
          }
         ],
         "name": "2022-10"
        },
        {
         "data": [
          {
           "coloraxis": "coloraxis",
           "geo": "geo",
           "hovertemplate": "TIME_PERIOD=2022-11<br>geo=%{location}<br>OBS_VALUE=%{z}<extra></extra>",
           "locationmode": "country names",
           "locations": [
            "Austria",
            "Belgium",
            "Bulgaria",
            "Switzerland",
            "Cyprus",
            "Czechia",
            "Germany (until 1990 former territory of the FRG)",
            "Denmark",
            "Estonia",
            "Greece",
            "Spain",
            "European Union - 27 countries (from 2020)",
            "Finland",
            "France",
            "Croatia",
            "Hungary",
            "Ireland",
            "Iceland",
            "Italy",
            "Liechtenstein",
            "Lithuania",
            "Luxembourg",
            "Latvia",
            "Montenegro",
            "Malta",
            "Netherlands",
            "Norway",
            "Poland",
            "Portugal",
            "Romania",
            "Sweden",
            "Slovenia",
            "Slovakia"
           ],
           "name": "",
           "type": "choropleth",
           "z": [
            11745,
            3000,
            2030,
            3430,
            1910,
            80,
            30390,
            245,
            475,
            3760,
            11710,
            99285,
            300,
            14060,
            1715,
            0,
            1310,
            510,
            9145,
            10,
            40,
            220,
            50,
            15,
            80,
            4070,
            565,
            665,
            180,
            535,
            1075,
            450,
            45
           ]
          }
         ],
         "name": "2022-11"
        },
        {
         "data": [
          {
           "coloraxis": "coloraxis",
           "geo": "geo",
           "hovertemplate": "TIME_PERIOD=2022-12<br>geo=%{location}<br>OBS_VALUE=%{z}<extra></extra>",
           "locationmode": "country names",
           "locations": [
            "Austria",
            "Belgium",
            "Bulgaria",
            "Switzerland",
            "Cyprus",
            "Czechia",
            "Germany (until 1990 former territory of the FRG)",
            "Denmark",
            "Estonia",
            "Greece",
            "Spain",
            "European Union - 27 countries (from 2020)",
            "Finland",
            "France",
            "Croatia",
            "Hungary",
            "Ireland",
            "Iceland",
            "Italy",
            "Liechtenstein",
            "Lithuania",
            "Luxembourg",
            "Latvia",
            "Montenegro",
            "Malta",
            "Netherlands",
            "Norway",
            "Poland",
            "Portugal",
            "Romania",
            "Sweden",
            "Slovenia",
            "Slovakia"
           ],
           "name": "",
           "type": "choropleth",
           "z": [
            6875,
            2220,
            1180,
            2580,
            1310,
            70,
            26670,
            205,
            395,
            4145,
            8540,
            82330,
            220,
            13730,
            1900,
            5,
            1200,
            580,
            7995,
            5,
            45,
            160,
            95,
            25,
            45,
            2590,
            385,
            650,
            225,
            485,
            970,
            380,
            40
           ]
          }
         ],
         "name": "2022-12"
        },
        {
         "data": [
          {
           "coloraxis": "coloraxis",
           "geo": "geo",
           "hovertemplate": "TIME_PERIOD=2023-01<br>geo=%{location}<br>OBS_VALUE=%{z}<extra></extra>",
           "locationmode": "country names",
           "locations": [
            "Austria",
            "Belgium",
            "Bulgaria",
            "Switzerland",
            "Cyprus",
            "Czechia",
            "Germany (until 1990 former territory of the FRG)",
            "Denmark",
            "Estonia",
            "Greece",
            "Spain",
            "European Union - 27 countries (from 2020)",
            "Finland",
            "France",
            "Croatia",
            "Hungary",
            "Ireland",
            "Italy",
            "Liechtenstein",
            "Lithuania",
            "Luxembourg",
            "Latvia",
            "Montenegro",
            "Malta",
            "Netherlands",
            "Norway",
            "Poland",
            "Portugal",
            "Romania",
            "Sweden",
            "Slovenia",
            "Slovakia"
           ],
           "name": "",
           "type": "choropleth",
           "z": [
            4095,
            2285,
            1280,
            2400,
            705,
            110,
            30450,
            210,
            560,
            3435,
            10885,
            84740,
            295,
            13520,
            1430,
            5,
            1305,
            8415,
            10,
            50,
            190,
            65,
            5,
            45,
            2485,
            375,
            665,
            175,
            670,
            955,
            430,
            15
           ]
          }
         ],
         "name": "2023-01"
        },
        {
         "data": [
          {
           "coloraxis": "coloraxis",
           "geo": "geo",
           "hovertemplate": "TIME_PERIOD=2023-02<br>geo=%{location}<br>OBS_VALUE=%{z}<extra></extra>",
           "locationmode": "country names",
           "locations": [
            "Austria",
            "Belgium",
            "Bulgaria",
            "Switzerland",
            "Cyprus",
            "Czechia",
            "Germany (until 1990 former territory of the FRG)",
            "Denmark",
            "Estonia",
            "Greece",
            "Spain",
            "European Union - 27 countries (from 2020)",
            "Finland",
            "France",
            "Croatia",
            "Hungary",
            "Ireland",
            "Iceland",
            "Italy",
            "Liechtenstein",
            "Lithuania",
            "Luxembourg",
            "Latvia",
            "Montenegro",
            "Malta",
            "Netherlands",
            "Norway",
            "Poland",
            "Portugal",
            "Romania",
            "Sweden",
            "Slovenia",
            "Slovakia"
           ],
           "name": "",
           "type": "choropleth",
           "z": [
            2460,
            1935,
            730,
            1580,
            800,
            70,
            25335,
            240,
            515,
            2380,
            12840,
            76505,
            235,
            10520,
            2510,
            0,
            830,
            465,
            9840,
            5,
            25,
            160,
            45,
            15,
            25,
            2190,
            265,
            525,
            170,
            705,
            960,
            385,
            65
           ]
          }
         ],
         "name": "2023-02"
        },
        {
         "data": [
          {
           "coloraxis": "coloraxis",
           "geo": "geo",
           "hovertemplate": "TIME_PERIOD=2023-03<br>geo=%{location}<br>OBS_VALUE=%{z}<extra></extra>",
           "locationmode": "country names",
           "locations": [
            "Austria",
            "Belgium",
            "Bulgaria",
            "Switzerland",
            "Cyprus",
            "Germany (until 1990 former territory of the FRG)",
            "Denmark",
            "Estonia",
            "Greece",
            "Spain",
            "Finland",
            "France",
            "Croatia",
            "Hungary",
            "Ireland",
            "Iceland",
            "Italy",
            "Liechtenstein",
            "Lithuania",
            "Luxembourg",
            "Latvia",
            "Montenegro",
            "Malta",
            "Netherlands",
            "Norway",
            "Poland",
            "Portugal",
            "Romania",
            "Sweden",
            "Slovenia",
            "Slovakia"
           ],
           "name": "",
           "type": "choropleth",
           "z": [
            3025,
            2030,
            1305,
            1755,
            1680,
            25170,
            175,
            525,
            2550,
            15570,
            240,
            11870,
            3730,
            0,
            855,
            480,
            11335,
            5,
            55,
            190,
            25,
            15,
            25,
            2220,
            325,
            580,
            150,
            1085,
            905,
            555,
            60
           ]
          }
         ],
         "name": "2023-03"
        },
        {
         "data": [
          {
           "coloraxis": "coloraxis",
           "geo": "geo",
           "hovertemplate": "TIME_PERIOD=2023-04<br>geo=%{location}<br>OBS_VALUE=%{z}<extra></extra>",
           "locationmode": "country names",
           "locations": [
            "Austria",
            "Belgium",
            "Bulgaria",
            "Switzerland",
            "Germany (until 1990 former territory of the FRG)",
            "Denmark",
            "Estonia",
            "Greece",
            "Spain",
            "Finland",
            "France",
            "Hungary",
            "Ireland",
            "Iceland",
            "Italy",
            "Liechtenstein",
            "Luxembourg",
            "Montenegro",
            "Malta",
            "Netherlands",
            "Norway",
            "Poland",
            "Portugal",
            "Sweden",
            "Slovenia",
            "Slovakia"
           ],
           "name": "",
           "type": "choropleth",
           "z": [
            3290,
            1625,
            1010,
            1520,
            19630,
            180,
            390,
            2315,
            12910,
            230,
            10260,
            5,
            630,
            370,
            8175,
            5,
            180,
            10,
            25,
            2350,
            290,
            450,
            165,
            695,
            515,
            30
           ]
          }
         ],
         "name": "2023-04"
        },
        {
         "data": [
          {
           "coloraxis": "coloraxis",
           "geo": "geo",
           "hovertemplate": "TIME_PERIOD=2023-05<br>geo=%{location}<br>OBS_VALUE=%{z}<extra></extra>",
           "locationmode": "country names",
           "locations": [
            "Belgium",
            "Switzerland",
            "Germany (until 1990 former territory of the FRG)",
            "Denmark",
            "Estonia",
            "Spain",
            "Finland",
            "Hungary",
            "Montenegro",
            "Netherlands",
            "Norway",
            "Poland",
            "Sweden"
           ],
           "name": "",
           "type": "choropleth",
           "z": [
            2235,
            1920,
            21945,
            170,
            390,
            17405,
            295,
            0,
            10,
            2540,
            340,
            565,
            835
           ]
          }
         ],
         "name": "2023-05"
        }
       ],
       "layout": {
        "coloraxis": {
         "cmax": 4714.180327868852,
         "cmin": 0,
         "colorbar": {
          "tickfont": {
           "color": "rgb(42,63,95)"
          },
          "tickmode": "array",
          "title": {
           "font": {
            "color": "rgb(42,63,95)"
           },
           "text": "waardes"
          }
         },
         "colorscale": [
          [
           0,
           "rgb(255,245,240)"
          ],
          [
           0.125,
           "rgb(254,224,210)"
          ],
          [
           0.25,
           "rgb(252,187,161)"
          ],
          [
           0.375,
           "rgb(252,146,114)"
          ],
          [
           0.5,
           "rgb(251,106,74)"
          ],
          [
           0.625,
           "rgb(239,59,44)"
          ],
          [
           0.75,
           "rgb(203,24,29)"
          ],
          [
           0.875,
           "rgb(165,15,21)"
          ],
          [
           1,
           "rgb(103,0,13)"
          ]
         ]
        },
        "geo": {
         "bgcolor": "#e8ecf4",
         "center": {},
         "domain": {
          "x": [
           0,
           1
          ],
          "y": [
           0,
           1
          ]
         },
         "lataxis": {
          "range": [
           35,
           70
          ]
         },
         "lonaxis": {
          "range": [
           -9,
           38
          ]
         },
         "scope": "europe",
         "showcoastlines": true,
         "showframe": false,
         "showland": true
        },
        "legend": {
         "tracegroupgap": 0
        },
        "margin": {
         "t": 60
        },
        "paper_bgcolor": "white",
        "sliders": [
         {
          "active": 0,
          "currentvalue": {
           "font": {
            "color": "rgb(42,63,95)"
           },
           "prefix": "TIME_PERIOD="
          },
          "len": 0.9,
          "pad": {
           "b": 10,
           "t": 60
          },
          "steps": [
           {
            "args": [
             [
              "2022-06"
             ],
             {
              "frame": {
               "duration": 0,
               "redraw": true
              },
              "fromcurrent": true,
              "mode": "immediate",
              "transition": {
               "duration": 0,
               "easing": "linear"
              }
             }
            ],
            "label": "2022-06",
            "method": "animate"
           },
           {
            "args": [
             [
              "2022-07"
             ],
             {
              "frame": {
               "duration": 0,
               "redraw": true
              },
              "fromcurrent": true,
              "mode": "immediate",
              "transition": {
               "duration": 0,
               "easing": "linear"
              }
             }
            ],
            "label": "2022-07",
            "method": "animate"
           },
           {
            "args": [
             [
              "2022-08"
             ],
             {
              "frame": {
               "duration": 0,
               "redraw": true
              },
              "fromcurrent": true,
              "mode": "immediate",
              "transition": {
               "duration": 0,
               "easing": "linear"
              }
             }
            ],
            "label": "2022-08",
            "method": "animate"
           },
           {
            "args": [
             [
              "2022-09"
             ],
             {
              "frame": {
               "duration": 0,
               "redraw": true
              },
              "fromcurrent": true,
              "mode": "immediate",
              "transition": {
               "duration": 0,
               "easing": "linear"
              }
             }
            ],
            "label": "2022-09",
            "method": "animate"
           },
           {
            "args": [
             [
              "2022-10"
             ],
             {
              "frame": {
               "duration": 0,
               "redraw": true
              },
              "fromcurrent": true,
              "mode": "immediate",
              "transition": {
               "duration": 0,
               "easing": "linear"
              }
             }
            ],
            "label": "2022-10",
            "method": "animate"
           },
           {
            "args": [
             [
              "2022-11"
             ],
             {
              "frame": {
               "duration": 0,
               "redraw": true
              },
              "fromcurrent": true,
              "mode": "immediate",
              "transition": {
               "duration": 0,
               "easing": "linear"
              }
             }
            ],
            "label": "2022-11",
            "method": "animate"
           },
           {
            "args": [
             [
              "2022-12"
             ],
             {
              "frame": {
               "duration": 0,
               "redraw": true
              },
              "fromcurrent": true,
              "mode": "immediate",
              "transition": {
               "duration": 0,
               "easing": "linear"
              }
             }
            ],
            "label": "2022-12",
            "method": "animate"
           },
           {
            "args": [
             [
              "2023-01"
             ],
             {
              "frame": {
               "duration": 0,
               "redraw": true
              },
              "fromcurrent": true,
              "mode": "immediate",
              "transition": {
               "duration": 0,
               "easing": "linear"
              }
             }
            ],
            "label": "2023-01",
            "method": "animate"
           },
           {
            "args": [
             [
              "2023-02"
             ],
             {
              "frame": {
               "duration": 0,
               "redraw": true
              },
              "fromcurrent": true,
              "mode": "immediate",
              "transition": {
               "duration": 0,
               "easing": "linear"
              }
             }
            ],
            "label": "2023-02",
            "method": "animate"
           },
           {
            "args": [
             [
              "2023-03"
             ],
             {
              "frame": {
               "duration": 0,
               "redraw": true
              },
              "fromcurrent": true,
              "mode": "immediate",
              "transition": {
               "duration": 0,
               "easing": "linear"
              }
             }
            ],
            "label": "2023-03",
            "method": "animate"
           },
           {
            "args": [
             [
              "2023-04"
             ],
             {
              "frame": {
               "duration": 0,
               "redraw": true
              },
              "fromcurrent": true,
              "mode": "immediate",
              "transition": {
               "duration": 0,
               "easing": "linear"
              }
             }
            ],
            "label": "2023-04",
            "method": "animate"
           },
           {
            "args": [
             [
              "2023-05"
             ],
             {
              "frame": {
               "duration": 0,
               "redraw": true
              },
              "fromcurrent": true,
              "mode": "immediate",
              "transition": {
               "duration": 0,
               "easing": "linear"
              }
             }
            ],
            "label": "2023-05",
            "method": "animate"
           }
          ],
          "x": 0.1,
          "xanchor": "left",
          "y": 0,
          "yanchor": "top"
         }
        ],
        "template": {
         "data": {
          "bar": [
           {
            "error_x": {
             "color": "#f2f5fa"
            },
            "error_y": {
             "color": "#f2f5fa"
            },
            "marker": {
             "line": {
              "color": "rgb(17,17,17)",
              "width": 0.5
             },
             "pattern": {
              "fillmode": "overlay",
              "size": 10,
              "solidity": 0.2
             }
            },
            "type": "bar"
           }
          ],
          "barpolar": [
           {
            "marker": {
             "line": {
              "color": "rgb(17,17,17)",
              "width": 0.5
             },
             "pattern": {
              "fillmode": "overlay",
              "size": 10,
              "solidity": 0.2
             }
            },
            "type": "barpolar"
           }
          ],
          "carpet": [
           {
            "aaxis": {
             "endlinecolor": "#A2B1C6",
             "gridcolor": "#506784",
             "linecolor": "#506784",
             "minorgridcolor": "#506784",
             "startlinecolor": "#A2B1C6"
            },
            "baxis": {
             "endlinecolor": "#A2B1C6",
             "gridcolor": "#506784",
             "linecolor": "#506784",
             "minorgridcolor": "#506784",
             "startlinecolor": "#A2B1C6"
            },
            "type": "carpet"
           }
          ],
          "choropleth": [
           {
            "colorbar": {
             "outlinewidth": 0,
             "ticks": ""
            },
            "type": "choropleth"
           }
          ],
          "contour": [
           {
            "colorbar": {
             "outlinewidth": 0,
             "ticks": ""
            },
            "colorscale": [
             [
              0,
              "#0d0887"
             ],
             [
              0.1111111111111111,
              "#46039f"
             ],
             [
              0.2222222222222222,
              "#7201a8"
             ],
             [
              0.3333333333333333,
              "#9c179e"
             ],
             [
              0.4444444444444444,
              "#bd3786"
             ],
             [
              0.5555555555555556,
              "#d8576b"
             ],
             [
              0.6666666666666666,
              "#ed7953"
             ],
             [
              0.7777777777777778,
              "#fb9f3a"
             ],
             [
              0.8888888888888888,
              "#fdca26"
             ],
             [
              1,
              "#f0f921"
             ]
            ],
            "type": "contour"
           }
          ],
          "contourcarpet": [
           {
            "colorbar": {
             "outlinewidth": 0,
             "ticks": ""
            },
            "type": "contourcarpet"
           }
          ],
          "heatmap": [
           {
            "colorbar": {
             "outlinewidth": 0,
             "ticks": ""
            },
            "colorscale": [
             [
              0,
              "#0d0887"
             ],
             [
              0.1111111111111111,
              "#46039f"
             ],
             [
              0.2222222222222222,
              "#7201a8"
             ],
             [
              0.3333333333333333,
              "#9c179e"
             ],
             [
              0.4444444444444444,
              "#bd3786"
             ],
             [
              0.5555555555555556,
              "#d8576b"
             ],
             [
              0.6666666666666666,
              "#ed7953"
             ],
             [
              0.7777777777777778,
              "#fb9f3a"
             ],
             [
              0.8888888888888888,
              "#fdca26"
             ],
             [
              1,
              "#f0f921"
             ]
            ],
            "type": "heatmap"
           }
          ],
          "heatmapgl": [
           {
            "colorbar": {
             "outlinewidth": 0,
             "ticks": ""
            },
            "colorscale": [
             [
              0,
              "#0d0887"
             ],
             [
              0.1111111111111111,
              "#46039f"
             ],
             [
              0.2222222222222222,
              "#7201a8"
             ],
             [
              0.3333333333333333,
              "#9c179e"
             ],
             [
              0.4444444444444444,
              "#bd3786"
             ],
             [
              0.5555555555555556,
              "#d8576b"
             ],
             [
              0.6666666666666666,
              "#ed7953"
             ],
             [
              0.7777777777777778,
              "#fb9f3a"
             ],
             [
              0.8888888888888888,
              "#fdca26"
             ],
             [
              1,
              "#f0f921"
             ]
            ],
            "type": "heatmapgl"
           }
          ],
          "histogram": [
           {
            "marker": {
             "pattern": {
              "fillmode": "overlay",
              "size": 10,
              "solidity": 0.2
             }
            },
            "type": "histogram"
           }
          ],
          "histogram2d": [
           {
            "colorbar": {
             "outlinewidth": 0,
             "ticks": ""
            },
            "colorscale": [
             [
              0,
              "#0d0887"
             ],
             [
              0.1111111111111111,
              "#46039f"
             ],
             [
              0.2222222222222222,
              "#7201a8"
             ],
             [
              0.3333333333333333,
              "#9c179e"
             ],
             [
              0.4444444444444444,
              "#bd3786"
             ],
             [
              0.5555555555555556,
              "#d8576b"
             ],
             [
              0.6666666666666666,
              "#ed7953"
             ],
             [
              0.7777777777777778,
              "#fb9f3a"
             ],
             [
              0.8888888888888888,
              "#fdca26"
             ],
             [
              1,
              "#f0f921"
             ]
            ],
            "type": "histogram2d"
           }
          ],
          "histogram2dcontour": [
           {
            "colorbar": {
             "outlinewidth": 0,
             "ticks": ""
            },
            "colorscale": [
             [
              0,
              "#0d0887"
             ],
             [
              0.1111111111111111,
              "#46039f"
             ],
             [
              0.2222222222222222,
              "#7201a8"
             ],
             [
              0.3333333333333333,
              "#9c179e"
             ],
             [
              0.4444444444444444,
              "#bd3786"
             ],
             [
              0.5555555555555556,
              "#d8576b"
             ],
             [
              0.6666666666666666,
              "#ed7953"
             ],
             [
              0.7777777777777778,
              "#fb9f3a"
             ],
             [
              0.8888888888888888,
              "#fdca26"
             ],
             [
              1,
              "#f0f921"
             ]
            ],
            "type": "histogram2dcontour"
           }
          ],
          "mesh3d": [
           {
            "colorbar": {
             "outlinewidth": 0,
             "ticks": ""
            },
            "type": "mesh3d"
           }
          ],
          "parcoords": [
           {
            "line": {
             "colorbar": {
              "outlinewidth": 0,
              "ticks": ""
             }
            },
            "type": "parcoords"
           }
          ],
          "pie": [
           {
            "automargin": true,
            "type": "pie"
           }
          ],
          "scatter": [
           {
            "marker": {
             "line": {
              "color": "#283442"
             }
            },
            "type": "scatter"
           }
          ],
          "scatter3d": [
           {
            "line": {
             "colorbar": {
              "outlinewidth": 0,
              "ticks": ""
             }
            },
            "marker": {
             "colorbar": {
              "outlinewidth": 0,
              "ticks": ""
             }
            },
            "type": "scatter3d"
           }
          ],
          "scattercarpet": [
           {
            "marker": {
             "colorbar": {
              "outlinewidth": 0,
              "ticks": ""
             }
            },
            "type": "scattercarpet"
           }
          ],
          "scattergeo": [
           {
            "marker": {
             "colorbar": {
              "outlinewidth": 0,
              "ticks": ""
             }
            },
            "type": "scattergeo"
           }
          ],
          "scattergl": [
           {
            "marker": {
             "line": {
              "color": "#283442"
             }
            },
            "type": "scattergl"
           }
          ],
          "scattermapbox": [
           {
            "marker": {
             "colorbar": {
              "outlinewidth": 0,
              "ticks": ""
             }
            },
            "type": "scattermapbox"
           }
          ],
          "scatterpolar": [
           {
            "marker": {
             "colorbar": {
              "outlinewidth": 0,
              "ticks": ""
             }
            },
            "type": "scatterpolar"
           }
          ],
          "scatterpolargl": [
           {
            "marker": {
             "colorbar": {
              "outlinewidth": 0,
              "ticks": ""
             }
            },
            "type": "scatterpolargl"
           }
          ],
          "scatterternary": [
           {
            "marker": {
             "colorbar": {
              "outlinewidth": 0,
              "ticks": ""
             }
            },
            "type": "scatterternary"
           }
          ],
          "surface": [
           {
            "colorbar": {
             "outlinewidth": 0,
             "ticks": ""
            },
            "colorscale": [
             [
              0,
              "#0d0887"
             ],
             [
              0.1111111111111111,
              "#46039f"
             ],
             [
              0.2222222222222222,
              "#7201a8"
             ],
             [
              0.3333333333333333,
              "#9c179e"
             ],
             [
              0.4444444444444444,
              "#bd3786"
             ],
             [
              0.5555555555555556,
              "#d8576b"
             ],
             [
              0.6666666666666666,
              "#ed7953"
             ],
             [
              0.7777777777777778,
              "#fb9f3a"
             ],
             [
              0.8888888888888888,
              "#fdca26"
             ],
             [
              1,
              "#f0f921"
             ]
            ],
            "type": "surface"
           }
          ],
          "table": [
           {
            "cells": {
             "fill": {
              "color": "#506784"
             },
             "line": {
              "color": "rgb(17,17,17)"
             }
            },
            "header": {
             "fill": {
              "color": "#2a3f5f"
             },
             "line": {
              "color": "rgb(17,17,17)"
             }
            },
            "type": "table"
           }
          ]
         },
         "layout": {
          "annotationdefaults": {
           "arrowcolor": "#f2f5fa",
           "arrowhead": 0,
           "arrowwidth": 1
          },
          "autotypenumbers": "strict",
          "coloraxis": {
           "colorbar": {
            "outlinewidth": 0,
            "ticks": ""
           }
          },
          "colorscale": {
           "diverging": [
            [
             0,
             "#8e0152"
            ],
            [
             0.1,
             "#c51b7d"
            ],
            [
             0.2,
             "#de77ae"
            ],
            [
             0.3,
             "#f1b6da"
            ],
            [
             0.4,
             "#fde0ef"
            ],
            [
             0.5,
             "#f7f7f7"
            ],
            [
             0.6,
             "#e6f5d0"
            ],
            [
             0.7,
             "#b8e186"
            ],
            [
             0.8,
             "#7fbc41"
            ],
            [
             0.9,
             "#4d9221"
            ],
            [
             1,
             "#276419"
            ]
           ],
           "sequential": [
            [
             0,
             "#0d0887"
            ],
            [
             0.1111111111111111,
             "#46039f"
            ],
            [
             0.2222222222222222,
             "#7201a8"
            ],
            [
             0.3333333333333333,
             "#9c179e"
            ],
            [
             0.4444444444444444,
             "#bd3786"
            ],
            [
             0.5555555555555556,
             "#d8576b"
            ],
            [
             0.6666666666666666,
             "#ed7953"
            ],
            [
             0.7777777777777778,
             "#fb9f3a"
            ],
            [
             0.8888888888888888,
             "#fdca26"
            ],
            [
             1,
             "#f0f921"
            ]
           ],
           "sequentialminus": [
            [
             0,
             "#0d0887"
            ],
            [
             0.1111111111111111,
             "#46039f"
            ],
            [
             0.2222222222222222,
             "#7201a8"
            ],
            [
             0.3333333333333333,
             "#9c179e"
            ],
            [
             0.4444444444444444,
             "#bd3786"
            ],
            [
             0.5555555555555556,
             "#d8576b"
            ],
            [
             0.6666666666666666,
             "#ed7953"
            ],
            [
             0.7777777777777778,
             "#fb9f3a"
            ],
            [
             0.8888888888888888,
             "#fdca26"
            ],
            [
             1,
             "#f0f921"
            ]
           ]
          },
          "colorway": [
           "#636efa",
           "#EF553B",
           "#00cc96",
           "#ab63fa",
           "#FFA15A",
           "#19d3f3",
           "#FF6692",
           "#B6E880",
           "#FF97FF",
           "#FECB52"
          ],
          "font": {
           "color": "#f2f5fa"
          },
          "geo": {
           "bgcolor": "rgb(17,17,17)",
           "lakecolor": "rgb(17,17,17)",
           "landcolor": "rgb(17,17,17)",
           "showlakes": true,
           "showland": true,
           "subunitcolor": "#506784"
          },
          "hoverlabel": {
           "align": "left"
          },
          "hovermode": "closest",
          "mapbox": {
           "style": "dark"
          },
          "paper_bgcolor": "rgb(17,17,17)",
          "plot_bgcolor": "rgb(17,17,17)",
          "polar": {
           "angularaxis": {
            "gridcolor": "#506784",
            "linecolor": "#506784",
            "ticks": ""
           },
           "bgcolor": "rgb(17,17,17)",
           "radialaxis": {
            "gridcolor": "#506784",
            "linecolor": "#506784",
            "ticks": ""
           }
          },
          "scene": {
           "xaxis": {
            "backgroundcolor": "rgb(17,17,17)",
            "gridcolor": "#506784",
            "gridwidth": 2,
            "linecolor": "#506784",
            "showbackground": true,
            "ticks": "",
            "zerolinecolor": "#C8D4E3"
           },
           "yaxis": {
            "backgroundcolor": "rgb(17,17,17)",
            "gridcolor": "#506784",
            "gridwidth": 2,
            "linecolor": "#506784",
            "showbackground": true,
            "ticks": "",
            "zerolinecolor": "#C8D4E3"
           },
           "zaxis": {
            "backgroundcolor": "rgb(17,17,17)",
            "gridcolor": "#506784",
            "gridwidth": 2,
            "linecolor": "#506784",
            "showbackground": true,
            "ticks": "",
            "zerolinecolor": "#C8D4E3"
           }
          },
          "shapedefaults": {
           "line": {
            "color": "#f2f5fa"
           }
          },
          "sliderdefaults": {
           "bgcolor": "#C8D4E3",
           "bordercolor": "rgb(17,17,17)",
           "borderwidth": 1,
           "tickwidth": 0
          },
          "ternary": {
           "aaxis": {
            "gridcolor": "#506784",
            "linecolor": "#506784",
            "ticks": ""
           },
           "baxis": {
            "gridcolor": "#506784",
            "linecolor": "#506784",
            "ticks": ""
           },
           "bgcolor": "rgb(17,17,17)",
           "caxis": {
            "gridcolor": "#506784",
            "linecolor": "#506784",
            "ticks": ""
           }
          },
          "title": {
           "x": 0.05
          },
          "updatemenudefaults": {
           "bgcolor": "#506784",
           "borderwidth": 0
          },
          "xaxis": {
           "automargin": true,
           "gridcolor": "#283442",
           "linecolor": "#506784",
           "ticks": "",
           "title": {
            "standoff": 15
           },
           "zerolinecolor": "#283442",
           "zerolinewidth": 2
          },
          "yaxis": {
           "automargin": true,
           "gridcolor": "#283442",
           "linecolor": "#506784",
           "ticks": "",
           "title": {
            "standoff": 15
           },
           "zerolinecolor": "#283442",
           "zerolinewidth": 2
          }
         }
        },
        "title": {
         "font": {
          "color": "rgb(42,63,95)"
         },
         "text": "Asielverzoeken per EU land per maand"
        },
        "updatemenus": [
         {
          "buttons": [
           {
            "args": [
             null,
             {
              "frame": {
               "duration": 500,
               "redraw": true
              },
              "fromcurrent": true,
              "mode": "immediate",
              "transition": {
               "duration": 500,
               "easing": "linear"
              }
             }
            ],
            "label": "&#9654;",
            "method": "animate"
           },
           {
            "args": [
             [
              null
             ],
             {
              "frame": {
               "duration": 0,
               "redraw": true
              },
              "fromcurrent": true,
              "mode": "immediate",
              "transition": {
               "duration": 0,
               "easing": "linear"
              }
             }
            ],
            "label": "&#9724;",
            "method": "animate"
           }
          ],
          "direction": "left",
          "pad": {
           "r": 10,
           "t": 70
          },
          "showactive": false,
          "type": "buttons",
          "x": 0.1,
          "xanchor": "right",
          "y": 0,
          "yanchor": "top"
         }
        ]
       }
      },
      "text/html": [
       "<div>                            <div id=\"9e593361-1015-43f9-a5ac-660e8a05afda\" class=\"plotly-graph-div\" style=\"height:525px; width:100%;\"></div>            <script type=\"text/javascript\">                require([\"plotly\"], function(Plotly) {                    window.PLOTLYENV=window.PLOTLYENV || {};                                    if (document.getElementById(\"9e593361-1015-43f9-a5ac-660e8a05afda\")) {                    Plotly.newPlot(                        \"9e593361-1015-43f9-a5ac-660e8a05afda\",                        [{\"coloraxis\":\"coloraxis\",\"geo\":\"geo\",\"hovertemplate\":\"TIME_PERIOD=2022-06<br>geo=%{location}<br>OBS_VALUE=%{z}<extra></extra>\",\"locationmode\":\"country names\",\"locations\":[\"Austria\",\"Belgium\",\"Bulgaria\",\"Switzerland\",\"Cyprus\",\"Czechia\",\"Germany (until 1990 former territory of the FRG)\",\"Denmark\",\"Estonia\",\"Greece\",\"Spain\",\"European Union - 27 countries (from 2020)\",\"Finland\",\"France\",\"Croatia\",\"Hungary\",\"Ireland\",\"Iceland\",\"Italy\",\"Liechtenstein\",\"Lithuania\",\"Luxembourg\",\"Latvia\",\"Montenegro\",\"Malta\",\"Netherlands\",\"Norway\",\"Poland\",\"Portugal\",\"Romania\",\"Sweden\",\"Slovenia\",\"Slovakia\"],\"name\":\"\",\"z\":[9540,2515,905,1610,2405,100,12945,165,155,2220,10595,66845,195,11095,760,5,1605,325,5690,0,55,160,65,15,55,2575,300,460,130,590,1125,715,25],\"type\":\"choropleth\"}],                        {\"template\":{\"data\":{\"histogram2dcontour\":[{\"type\":\"histogram2dcontour\",\"colorbar\":{\"outlinewidth\":0,\"ticks\":\"\"},\"colorscale\":[[0.0,\"#0d0887\"],[0.1111111111111111,\"#46039f\"],[0.2222222222222222,\"#7201a8\"],[0.3333333333333333,\"#9c179e\"],[0.4444444444444444,\"#bd3786\"],[0.5555555555555556,\"#d8576b\"],[0.6666666666666666,\"#ed7953\"],[0.7777777777777778,\"#fb9f3a\"],[0.8888888888888888,\"#fdca26\"],[1.0,\"#f0f921\"]]}],\"choropleth\":[{\"type\":\"choropleth\",\"colorbar\":{\"outlinewidth\":0,\"ticks\":\"\"}}],\"histogram2d\":[{\"type\":\"histogram2d\",\"colorbar\":{\"outlinewidth\":0,\"ticks\":\"\"},\"colorscale\":[[0.0,\"#0d0887\"],[0.1111111111111111,\"#46039f\"],[0.2222222222222222,\"#7201a8\"],[0.3333333333333333,\"#9c179e\"],[0.4444444444444444,\"#bd3786\"],[0.5555555555555556,\"#d8576b\"],[0.6666666666666666,\"#ed7953\"],[0.7777777777777778,\"#fb9f3a\"],[0.8888888888888888,\"#fdca26\"],[1.0,\"#f0f921\"]]}],\"heatmap\":[{\"type\":\"heatmap\",\"colorbar\":{\"outlinewidth\":0,\"ticks\":\"\"},\"colorscale\":[[0.0,\"#0d0887\"],[0.1111111111111111,\"#46039f\"],[0.2222222222222222,\"#7201a8\"],[0.3333333333333333,\"#9c179e\"],[0.4444444444444444,\"#bd3786\"],[0.5555555555555556,\"#d8576b\"],[0.6666666666666666,\"#ed7953\"],[0.7777777777777778,\"#fb9f3a\"],[0.8888888888888888,\"#fdca26\"],[1.0,\"#f0f921\"]]}],\"heatmapgl\":[{\"type\":\"heatmapgl\",\"colorbar\":{\"outlinewidth\":0,\"ticks\":\"\"},\"colorscale\":[[0.0,\"#0d0887\"],[0.1111111111111111,\"#46039f\"],[0.2222222222222222,\"#7201a8\"],[0.3333333333333333,\"#9c179e\"],[0.4444444444444444,\"#bd3786\"],[0.5555555555555556,\"#d8576b\"],[0.6666666666666666,\"#ed7953\"],[0.7777777777777778,\"#fb9f3a\"],[0.8888888888888888,\"#fdca26\"],[1.0,\"#f0f921\"]]}],\"contourcarpet\":[{\"type\":\"contourcarpet\",\"colorbar\":{\"outlinewidth\":0,\"ticks\":\"\"}}],\"contour\":[{\"type\":\"contour\",\"colorbar\":{\"outlinewidth\":0,\"ticks\":\"\"},\"colorscale\":[[0.0,\"#0d0887\"],[0.1111111111111111,\"#46039f\"],[0.2222222222222222,\"#7201a8\"],[0.3333333333333333,\"#9c179e\"],[0.4444444444444444,\"#bd3786\"],[0.5555555555555556,\"#d8576b\"],[0.6666666666666666,\"#ed7953\"],[0.7777777777777778,\"#fb9f3a\"],[0.8888888888888888,\"#fdca26\"],[1.0,\"#f0f921\"]]}],\"surface\":[{\"type\":\"surface\",\"colorbar\":{\"outlinewidth\":0,\"ticks\":\"\"},\"colorscale\":[[0.0,\"#0d0887\"],[0.1111111111111111,\"#46039f\"],[0.2222222222222222,\"#7201a8\"],[0.3333333333333333,\"#9c179e\"],[0.4444444444444444,\"#bd3786\"],[0.5555555555555556,\"#d8576b\"],[0.6666666666666666,\"#ed7953\"],[0.7777777777777778,\"#fb9f3a\"],[0.8888888888888888,\"#fdca26\"],[1.0,\"#f0f921\"]]}],\"mesh3d\":[{\"type\":\"mesh3d\",\"colorbar\":{\"outlinewidth\":0,\"ticks\":\"\"}}],\"scatter\":[{\"marker\":{\"line\":{\"color\":\"#283442\"}},\"type\":\"scatter\"}],\"parcoords\":[{\"type\":\"parcoords\",\"line\":{\"colorbar\":{\"outlinewidth\":0,\"ticks\":\"\"}}}],\"scatterpolargl\":[{\"type\":\"scatterpolargl\",\"marker\":{\"colorbar\":{\"outlinewidth\":0,\"ticks\":\"\"}}}],\"bar\":[{\"error_x\":{\"color\":\"#f2f5fa\"},\"error_y\":{\"color\":\"#f2f5fa\"},\"marker\":{\"line\":{\"color\":\"rgb(17,17,17)\",\"width\":0.5},\"pattern\":{\"fillmode\":\"overlay\",\"size\":10,\"solidity\":0.2}},\"type\":\"bar\"}],\"scattergeo\":[{\"type\":\"scattergeo\",\"marker\":{\"colorbar\":{\"outlinewidth\":0,\"ticks\":\"\"}}}],\"scatterpolar\":[{\"type\":\"scatterpolar\",\"marker\":{\"colorbar\":{\"outlinewidth\":0,\"ticks\":\"\"}}}],\"histogram\":[{\"marker\":{\"pattern\":{\"fillmode\":\"overlay\",\"size\":10,\"solidity\":0.2}},\"type\":\"histogram\"}],\"scattergl\":[{\"marker\":{\"line\":{\"color\":\"#283442\"}},\"type\":\"scattergl\"}],\"scatter3d\":[{\"type\":\"scatter3d\",\"line\":{\"colorbar\":{\"outlinewidth\":0,\"ticks\":\"\"}},\"marker\":{\"colorbar\":{\"outlinewidth\":0,\"ticks\":\"\"}}}],\"scattermapbox\":[{\"type\":\"scattermapbox\",\"marker\":{\"colorbar\":{\"outlinewidth\":0,\"ticks\":\"\"}}}],\"scatterternary\":[{\"type\":\"scatterternary\",\"marker\":{\"colorbar\":{\"outlinewidth\":0,\"ticks\":\"\"}}}],\"scattercarpet\":[{\"type\":\"scattercarpet\",\"marker\":{\"colorbar\":{\"outlinewidth\":0,\"ticks\":\"\"}}}],\"carpet\":[{\"aaxis\":{\"endlinecolor\":\"#A2B1C6\",\"gridcolor\":\"#506784\",\"linecolor\":\"#506784\",\"minorgridcolor\":\"#506784\",\"startlinecolor\":\"#A2B1C6\"},\"baxis\":{\"endlinecolor\":\"#A2B1C6\",\"gridcolor\":\"#506784\",\"linecolor\":\"#506784\",\"minorgridcolor\":\"#506784\",\"startlinecolor\":\"#A2B1C6\"},\"type\":\"carpet\"}],\"table\":[{\"cells\":{\"fill\":{\"color\":\"#506784\"},\"line\":{\"color\":\"rgb(17,17,17)\"}},\"header\":{\"fill\":{\"color\":\"#2a3f5f\"},\"line\":{\"color\":\"rgb(17,17,17)\"}},\"type\":\"table\"}],\"barpolar\":[{\"marker\":{\"line\":{\"color\":\"rgb(17,17,17)\",\"width\":0.5},\"pattern\":{\"fillmode\":\"overlay\",\"size\":10,\"solidity\":0.2}},\"type\":\"barpolar\"}],\"pie\":[{\"automargin\":true,\"type\":\"pie\"}]},\"layout\":{\"autotypenumbers\":\"strict\",\"colorway\":[\"#636efa\",\"#EF553B\",\"#00cc96\",\"#ab63fa\",\"#FFA15A\",\"#19d3f3\",\"#FF6692\",\"#B6E880\",\"#FF97FF\",\"#FECB52\"],\"font\":{\"color\":\"#f2f5fa\"},\"hovermode\":\"closest\",\"hoverlabel\":{\"align\":\"left\"},\"paper_bgcolor\":\"rgb(17,17,17)\",\"plot_bgcolor\":\"rgb(17,17,17)\",\"polar\":{\"bgcolor\":\"rgb(17,17,17)\",\"angularaxis\":{\"gridcolor\":\"#506784\",\"linecolor\":\"#506784\",\"ticks\":\"\"},\"radialaxis\":{\"gridcolor\":\"#506784\",\"linecolor\":\"#506784\",\"ticks\":\"\"}},\"ternary\":{\"bgcolor\":\"rgb(17,17,17)\",\"aaxis\":{\"gridcolor\":\"#506784\",\"linecolor\":\"#506784\",\"ticks\":\"\"},\"baxis\":{\"gridcolor\":\"#506784\",\"linecolor\":\"#506784\",\"ticks\":\"\"},\"caxis\":{\"gridcolor\":\"#506784\",\"linecolor\":\"#506784\",\"ticks\":\"\"}},\"coloraxis\":{\"colorbar\":{\"outlinewidth\":0,\"ticks\":\"\"}},\"colorscale\":{\"sequential\":[[0.0,\"#0d0887\"],[0.1111111111111111,\"#46039f\"],[0.2222222222222222,\"#7201a8\"],[0.3333333333333333,\"#9c179e\"],[0.4444444444444444,\"#bd3786\"],[0.5555555555555556,\"#d8576b\"],[0.6666666666666666,\"#ed7953\"],[0.7777777777777778,\"#fb9f3a\"],[0.8888888888888888,\"#fdca26\"],[1.0,\"#f0f921\"]],\"sequentialminus\":[[0.0,\"#0d0887\"],[0.1111111111111111,\"#46039f\"],[0.2222222222222222,\"#7201a8\"],[0.3333333333333333,\"#9c179e\"],[0.4444444444444444,\"#bd3786\"],[0.5555555555555556,\"#d8576b\"],[0.6666666666666666,\"#ed7953\"],[0.7777777777777778,\"#fb9f3a\"],[0.8888888888888888,\"#fdca26\"],[1.0,\"#f0f921\"]],\"diverging\":[[0,\"#8e0152\"],[0.1,\"#c51b7d\"],[0.2,\"#de77ae\"],[0.3,\"#f1b6da\"],[0.4,\"#fde0ef\"],[0.5,\"#f7f7f7\"],[0.6,\"#e6f5d0\"],[0.7,\"#b8e186\"],[0.8,\"#7fbc41\"],[0.9,\"#4d9221\"],[1,\"#276419\"]]},\"xaxis\":{\"gridcolor\":\"#283442\",\"linecolor\":\"#506784\",\"ticks\":\"\",\"title\":{\"standoff\":15},\"zerolinecolor\":\"#283442\",\"automargin\":true,\"zerolinewidth\":2},\"yaxis\":{\"gridcolor\":\"#283442\",\"linecolor\":\"#506784\",\"ticks\":\"\",\"title\":{\"standoff\":15},\"zerolinecolor\":\"#283442\",\"automargin\":true,\"zerolinewidth\":2},\"scene\":{\"xaxis\":{\"backgroundcolor\":\"rgb(17,17,17)\",\"gridcolor\":\"#506784\",\"linecolor\":\"#506784\",\"showbackground\":true,\"ticks\":\"\",\"zerolinecolor\":\"#C8D4E3\",\"gridwidth\":2},\"yaxis\":{\"backgroundcolor\":\"rgb(17,17,17)\",\"gridcolor\":\"#506784\",\"linecolor\":\"#506784\",\"showbackground\":true,\"ticks\":\"\",\"zerolinecolor\":\"#C8D4E3\",\"gridwidth\":2},\"zaxis\":{\"backgroundcolor\":\"rgb(17,17,17)\",\"gridcolor\":\"#506784\",\"linecolor\":\"#506784\",\"showbackground\":true,\"ticks\":\"\",\"zerolinecolor\":\"#C8D4E3\",\"gridwidth\":2}},\"shapedefaults\":{\"line\":{\"color\":\"#f2f5fa\"}},\"annotationdefaults\":{\"arrowcolor\":\"#f2f5fa\",\"arrowhead\":0,\"arrowwidth\":1},\"geo\":{\"bgcolor\":\"rgb(17,17,17)\",\"landcolor\":\"rgb(17,17,17)\",\"subunitcolor\":\"#506784\",\"showland\":true,\"showlakes\":true,\"lakecolor\":\"rgb(17,17,17)\"},\"title\":{\"x\":0.05},\"updatemenudefaults\":{\"bgcolor\":\"#506784\",\"borderwidth\":0},\"sliderdefaults\":{\"bgcolor\":\"#C8D4E3\",\"borderwidth\":1,\"bordercolor\":\"rgb(17,17,17)\",\"tickwidth\":0},\"mapbox\":{\"style\":\"dark\"}}},\"geo\":{\"domain\":{\"x\":[0.0,1.0],\"y\":[0.0,1.0]},\"center\":{},\"lataxis\":{\"range\":[35,70]},\"lonaxis\":{\"range\":[-9,38]},\"bgcolor\":\"#e8ecf4\",\"showframe\":false,\"showcoastlines\":true,\"showland\":true,\"scope\":\"europe\"},\"coloraxis\":{\"colorbar\":{\"title\":{\"text\":\"waardes\",\"font\":{\"color\":\"rgb(42,63,95)\"}},\"tickfont\":{\"color\":\"rgb(42,63,95)\"},\"tickmode\":\"array\"},\"colorscale\":[[0.0,\"rgb(255,245,240)\"],[0.125,\"rgb(254,224,210)\"],[0.25,\"rgb(252,187,161)\"],[0.375,\"rgb(252,146,114)\"],[0.5,\"rgb(251,106,74)\"],[0.625,\"rgb(239,59,44)\"],[0.75,\"rgb(203,24,29)\"],[0.875,\"rgb(165,15,21)\"],[1.0,\"rgb(103,0,13)\"]],\"cmin\":0,\"cmax\":4714.180327868852},\"legend\":{\"tracegroupgap\":0},\"margin\":{\"t\":60},\"updatemenus\":[{\"buttons\":[{\"args\":[null,{\"frame\":{\"duration\":500,\"redraw\":true},\"mode\":\"immediate\",\"fromcurrent\":true,\"transition\":{\"duration\":500,\"easing\":\"linear\"}}],\"label\":\"&#9654;\",\"method\":\"animate\"},{\"args\":[[null],{\"frame\":{\"duration\":0,\"redraw\":true},\"mode\":\"immediate\",\"fromcurrent\":true,\"transition\":{\"duration\":0,\"easing\":\"linear\"}}],\"label\":\"&#9724;\",\"method\":\"animate\"}],\"direction\":\"left\",\"pad\":{\"r\":10,\"t\":70},\"showactive\":false,\"type\":\"buttons\",\"x\":0.1,\"xanchor\":\"right\",\"y\":0,\"yanchor\":\"top\"}],\"sliders\":[{\"active\":0,\"currentvalue\":{\"prefix\":\"TIME_PERIOD=\",\"font\":{\"color\":\"rgb(42,63,95)\"}},\"len\":0.9,\"pad\":{\"b\":10,\"t\":60},\"steps\":[{\"args\":[[\"2022-06\"],{\"frame\":{\"duration\":0,\"redraw\":true},\"mode\":\"immediate\",\"fromcurrent\":true,\"transition\":{\"duration\":0,\"easing\":\"linear\"}}],\"label\":\"2022-06\",\"method\":\"animate\"},{\"args\":[[\"2022-07\"],{\"frame\":{\"duration\":0,\"redraw\":true},\"mode\":\"immediate\",\"fromcurrent\":true,\"transition\":{\"duration\":0,\"easing\":\"linear\"}}],\"label\":\"2022-07\",\"method\":\"animate\"},{\"args\":[[\"2022-08\"],{\"frame\":{\"duration\":0,\"redraw\":true},\"mode\":\"immediate\",\"fromcurrent\":true,\"transition\":{\"duration\":0,\"easing\":\"linear\"}}],\"label\":\"2022-08\",\"method\":\"animate\"},{\"args\":[[\"2022-09\"],{\"frame\":{\"duration\":0,\"redraw\":true},\"mode\":\"immediate\",\"fromcurrent\":true,\"transition\":{\"duration\":0,\"easing\":\"linear\"}}],\"label\":\"2022-09\",\"method\":\"animate\"},{\"args\":[[\"2022-10\"],{\"frame\":{\"duration\":0,\"redraw\":true},\"mode\":\"immediate\",\"fromcurrent\":true,\"transition\":{\"duration\":0,\"easing\":\"linear\"}}],\"label\":\"2022-10\",\"method\":\"animate\"},{\"args\":[[\"2022-11\"],{\"frame\":{\"duration\":0,\"redraw\":true},\"mode\":\"immediate\",\"fromcurrent\":true,\"transition\":{\"duration\":0,\"easing\":\"linear\"}}],\"label\":\"2022-11\",\"method\":\"animate\"},{\"args\":[[\"2022-12\"],{\"frame\":{\"duration\":0,\"redraw\":true},\"mode\":\"immediate\",\"fromcurrent\":true,\"transition\":{\"duration\":0,\"easing\":\"linear\"}}],\"label\":\"2022-12\",\"method\":\"animate\"},{\"args\":[[\"2023-01\"],{\"frame\":{\"duration\":0,\"redraw\":true},\"mode\":\"immediate\",\"fromcurrent\":true,\"transition\":{\"duration\":0,\"easing\":\"linear\"}}],\"label\":\"2023-01\",\"method\":\"animate\"},{\"args\":[[\"2023-02\"],{\"frame\":{\"duration\":0,\"redraw\":true},\"mode\":\"immediate\",\"fromcurrent\":true,\"transition\":{\"duration\":0,\"easing\":\"linear\"}}],\"label\":\"2023-02\",\"method\":\"animate\"},{\"args\":[[\"2023-03\"],{\"frame\":{\"duration\":0,\"redraw\":true},\"mode\":\"immediate\",\"fromcurrent\":true,\"transition\":{\"duration\":0,\"easing\":\"linear\"}}],\"label\":\"2023-03\",\"method\":\"animate\"},{\"args\":[[\"2023-04\"],{\"frame\":{\"duration\":0,\"redraw\":true},\"mode\":\"immediate\",\"fromcurrent\":true,\"transition\":{\"duration\":0,\"easing\":\"linear\"}}],\"label\":\"2023-04\",\"method\":\"animate\"},{\"args\":[[\"2023-05\"],{\"frame\":{\"duration\":0,\"redraw\":true},\"mode\":\"immediate\",\"fromcurrent\":true,\"transition\":{\"duration\":0,\"easing\":\"linear\"}}],\"label\":\"2023-05\",\"method\":\"animate\"}],\"x\":0.1,\"xanchor\":\"left\",\"y\":0,\"yanchor\":\"top\"}],\"title\":{\"font\":{\"color\":\"rgb(42,63,95)\"},\"text\":\"Asielverzoeken per EU land per maand\"},\"paper_bgcolor\":\"white\"},                        {\"responsive\": true}                    ).then(function(){\n",
       "                            Plotly.addFrames('9e593361-1015-43f9-a5ac-660e8a05afda', [{\"data\":[{\"coloraxis\":\"coloraxis\",\"geo\":\"geo\",\"hovertemplate\":\"TIME_PERIOD=2022-06<br>geo=%{location}<br>OBS_VALUE=%{z}<extra></extra>\",\"locationmode\":\"country names\",\"locations\":[\"Austria\",\"Belgium\",\"Bulgaria\",\"Switzerland\",\"Cyprus\",\"Czechia\",\"Germany (until 1990 former territory of the FRG)\",\"Denmark\",\"Estonia\",\"Greece\",\"Spain\",\"European Union - 27 countries (from 2020)\",\"Finland\",\"France\",\"Croatia\",\"Hungary\",\"Ireland\",\"Iceland\",\"Italy\",\"Liechtenstein\",\"Lithuania\",\"Luxembourg\",\"Latvia\",\"Montenegro\",\"Malta\",\"Netherlands\",\"Norway\",\"Poland\",\"Portugal\",\"Romania\",\"Sweden\",\"Slovenia\",\"Slovakia\"],\"name\":\"\",\"z\":[9540,2515,905,1610,2405,100,12945,165,155,2220,10595,66845,195,11095,760,5,1605,325,5690,0,55,160,65,15,55,2575,300,460,130,590,1125,715,25],\"type\":\"choropleth\"}],\"name\":\"2022-06\"},{\"data\":[{\"coloraxis\":\"coloraxis\",\"geo\":\"geo\",\"hovertemplate\":\"TIME_PERIOD=2022-07<br>geo=%{location}<br>OBS_VALUE=%{z}<extra></extra>\",\"locationmode\":\"country names\",\"locations\":[\"Austria\",\"Belgium\",\"Bulgaria\",\"Switzerland\",\"Cyprus\",\"Czechia\",\"Germany (until 1990 former territory of the FRG)\",\"Denmark\",\"Estonia\",\"Greece\",\"Spain\",\"European Union - 27 countries (from 2020)\",\"Finland\",\"France\",\"Croatia\",\"Hungary\",\"Ireland\",\"Iceland\",\"Italy\",\"Liechtenstein\",\"Lithuania\",\"Luxembourg\",\"Latvia\",\"Montenegro\",\"Malta\",\"Netherlands\",\"Norway\",\"Poland\",\"Portugal\",\"Romania\",\"Sweden\",\"Slovenia\",\"Slovakia\"],\"name\":\"\",\"z\":[11300,2655,1125,1670,1770,110,14085,170,270,2185,8745,67315,190,10890,1055,5,1265,295,5105,5,70,180,35,10,35,2740,305,545,125,1090,1005,570,5],\"type\":\"choropleth\"}],\"name\":\"2022-07\"},{\"data\":[{\"coloraxis\":\"coloraxis\",\"geo\":\"geo\",\"hovertemplate\":\"TIME_PERIOD=2022-08<br>geo=%{location}<br>OBS_VALUE=%{z}<extra></extra>\",\"locationmode\":\"country names\",\"locations\":[\"Austria\",\"Belgium\",\"Bulgaria\",\"Switzerland\",\"Cyprus\",\"Czechia\",\"Germany (until 1990 former territory of the FRG)\",\"Denmark\",\"Estonia\",\"Greece\",\"Spain\",\"European Union - 27 countries (from 2020)\",\"Finland\",\"France\",\"Croatia\",\"Hungary\",\"Ireland\",\"Iceland\",\"Italy\",\"Liechtenstein\",\"Lithuania\",\"Luxembourg\",\"Latvia\",\"Montenegro\",\"Malta\",\"Netherlands\",\"Norway\",\"Poland\",\"Portugal\",\"Romania\",\"Sweden\",\"Slovenia\",\"Slovakia\"],\"name\":\"\",\"z\":[14495,3200,1895,1930,1340,115,17025,205,375,2385,8650,78360,225,11900,1365,5,1130,235,5985,5,50,225,40,10,75,3835,540,610,135,1190,1205,635,65],\"type\":\"choropleth\"}],\"name\":\"2022-08\"},{\"data\":[{\"coloraxis\":\"coloraxis\",\"geo\":\"geo\",\"hovertemplate\":\"TIME_PERIOD=2022-09<br>geo=%{location}<br>OBS_VALUE=%{z}<extra></extra>\",\"locationmode\":\"country names\",\"locations\":[\"Austria\",\"Belgium\",\"Bulgaria\",\"Switzerland\",\"Cyprus\",\"Czechia\",\"Germany (until 1990 former territory of the FRG)\",\"Denmark\",\"Estonia\",\"Greece\",\"Spain\",\"European Union - 27 countries (from 2020)\",\"Finland\",\"France\",\"Croatia\",\"Hungary\",\"Ireland\",\"Iceland\",\"Italy\",\"Liechtenstein\",\"Lithuania\",\"Luxembourg\",\"Latvia\",\"Montenegro\",\"Malta\",\"Netherlands\",\"Norway\",\"Poland\",\"Portugal\",\"Romania\",\"Sweden\",\"Slovenia\",\"Slovakia\"],\"name\":\"\",\"z\":[15930,3620,2495,2535,1550,175,19670,210,370,2965,11000,91115,490,13500,1845,5,1060,425,7920,10,85,300,40,15,80,4430,635,620,130,805,1300,485,30],\"type\":\"choropleth\"}],\"name\":\"2022-09\"},{\"data\":[{\"coloraxis\":\"coloraxis\",\"geo\":\"geo\",\"hovertemplate\":\"TIME_PERIOD=2022-10<br>geo=%{location}<br>OBS_VALUE=%{z}<extra></extra>\",\"locationmode\":\"country names\",\"locations\":[\"Austria\",\"Belgium\",\"Bulgaria\",\"Switzerland\",\"Cyprus\",\"Czechia\",\"Germany (until 1990 former territory of the FRG)\",\"Denmark\",\"Estonia\",\"Greece\",\"Spain\",\"European Union - 27 countries (from 2020)\",\"Finland\",\"France\",\"Croatia\",\"Hungary\",\"Ireland\",\"Iceland\",\"Italy\",\"Liechtenstein\",\"Lithuania\",\"Luxembourg\",\"Latvia\",\"Montenegro\",\"Malta\",\"Netherlands\",\"Norway\",\"Poland\",\"Portugal\",\"Romania\",\"Sweden\",\"Slovenia\",\"Slovakia\"],\"name\":\"\",\"z\":[18210,3760,2785,3080,1645,130,24910,260,515,3260,10905,99805,600,13680,1960,5,1185,475,8385,0,50,295,55,15,100,4070,715,615,155,575,1155,485,60],\"type\":\"choropleth\"}],\"name\":\"2022-10\"},{\"data\":[{\"coloraxis\":\"coloraxis\",\"geo\":\"geo\",\"hovertemplate\":\"TIME_PERIOD=2022-11<br>geo=%{location}<br>OBS_VALUE=%{z}<extra></extra>\",\"locationmode\":\"country names\",\"locations\":[\"Austria\",\"Belgium\",\"Bulgaria\",\"Switzerland\",\"Cyprus\",\"Czechia\",\"Germany (until 1990 former territory of the FRG)\",\"Denmark\",\"Estonia\",\"Greece\",\"Spain\",\"European Union - 27 countries (from 2020)\",\"Finland\",\"France\",\"Croatia\",\"Hungary\",\"Ireland\",\"Iceland\",\"Italy\",\"Liechtenstein\",\"Lithuania\",\"Luxembourg\",\"Latvia\",\"Montenegro\",\"Malta\",\"Netherlands\",\"Norway\",\"Poland\",\"Portugal\",\"Romania\",\"Sweden\",\"Slovenia\",\"Slovakia\"],\"name\":\"\",\"z\":[11745,3000,2030,3430,1910,80,30390,245,475,3760,11710,99285,300,14060,1715,0,1310,510,9145,10,40,220,50,15,80,4070,565,665,180,535,1075,450,45],\"type\":\"choropleth\"}],\"name\":\"2022-11\"},{\"data\":[{\"coloraxis\":\"coloraxis\",\"geo\":\"geo\",\"hovertemplate\":\"TIME_PERIOD=2022-12<br>geo=%{location}<br>OBS_VALUE=%{z}<extra></extra>\",\"locationmode\":\"country names\",\"locations\":[\"Austria\",\"Belgium\",\"Bulgaria\",\"Switzerland\",\"Cyprus\",\"Czechia\",\"Germany (until 1990 former territory of the FRG)\",\"Denmark\",\"Estonia\",\"Greece\",\"Spain\",\"European Union - 27 countries (from 2020)\",\"Finland\",\"France\",\"Croatia\",\"Hungary\",\"Ireland\",\"Iceland\",\"Italy\",\"Liechtenstein\",\"Lithuania\",\"Luxembourg\",\"Latvia\",\"Montenegro\",\"Malta\",\"Netherlands\",\"Norway\",\"Poland\",\"Portugal\",\"Romania\",\"Sweden\",\"Slovenia\",\"Slovakia\"],\"name\":\"\",\"z\":[6875,2220,1180,2580,1310,70,26670,205,395,4145,8540,82330,220,13730,1900,5,1200,580,7995,5,45,160,95,25,45,2590,385,650,225,485,970,380,40],\"type\":\"choropleth\"}],\"name\":\"2022-12\"},{\"data\":[{\"coloraxis\":\"coloraxis\",\"geo\":\"geo\",\"hovertemplate\":\"TIME_PERIOD=2023-01<br>geo=%{location}<br>OBS_VALUE=%{z}<extra></extra>\",\"locationmode\":\"country names\",\"locations\":[\"Austria\",\"Belgium\",\"Bulgaria\",\"Switzerland\",\"Cyprus\",\"Czechia\",\"Germany (until 1990 former territory of the FRG)\",\"Denmark\",\"Estonia\",\"Greece\",\"Spain\",\"European Union - 27 countries (from 2020)\",\"Finland\",\"France\",\"Croatia\",\"Hungary\",\"Ireland\",\"Italy\",\"Liechtenstein\",\"Lithuania\",\"Luxembourg\",\"Latvia\",\"Montenegro\",\"Malta\",\"Netherlands\",\"Norway\",\"Poland\",\"Portugal\",\"Romania\",\"Sweden\",\"Slovenia\",\"Slovakia\"],\"name\":\"\",\"z\":[4095,2285,1280,2400,705,110,30450,210,560,3435,10885,84740,295,13520,1430,5,1305,8415,10,50,190,65,5,45,2485,375,665,175,670,955,430,15],\"type\":\"choropleth\"}],\"name\":\"2023-01\"},{\"data\":[{\"coloraxis\":\"coloraxis\",\"geo\":\"geo\",\"hovertemplate\":\"TIME_PERIOD=2023-02<br>geo=%{location}<br>OBS_VALUE=%{z}<extra></extra>\",\"locationmode\":\"country names\",\"locations\":[\"Austria\",\"Belgium\",\"Bulgaria\",\"Switzerland\",\"Cyprus\",\"Czechia\",\"Germany (until 1990 former territory of the FRG)\",\"Denmark\",\"Estonia\",\"Greece\",\"Spain\",\"European Union - 27 countries (from 2020)\",\"Finland\",\"France\",\"Croatia\",\"Hungary\",\"Ireland\",\"Iceland\",\"Italy\",\"Liechtenstein\",\"Lithuania\",\"Luxembourg\",\"Latvia\",\"Montenegro\",\"Malta\",\"Netherlands\",\"Norway\",\"Poland\",\"Portugal\",\"Romania\",\"Sweden\",\"Slovenia\",\"Slovakia\"],\"name\":\"\",\"z\":[2460,1935,730,1580,800,70,25335,240,515,2380,12840,76505,235,10520,2510,0,830,465,9840,5,25,160,45,15,25,2190,265,525,170,705,960,385,65],\"type\":\"choropleth\"}],\"name\":\"2023-02\"},{\"data\":[{\"coloraxis\":\"coloraxis\",\"geo\":\"geo\",\"hovertemplate\":\"TIME_PERIOD=2023-03<br>geo=%{location}<br>OBS_VALUE=%{z}<extra></extra>\",\"locationmode\":\"country names\",\"locations\":[\"Austria\",\"Belgium\",\"Bulgaria\",\"Switzerland\",\"Cyprus\",\"Germany (until 1990 former territory of the FRG)\",\"Denmark\",\"Estonia\",\"Greece\",\"Spain\",\"Finland\",\"France\",\"Croatia\",\"Hungary\",\"Ireland\",\"Iceland\",\"Italy\",\"Liechtenstein\",\"Lithuania\",\"Luxembourg\",\"Latvia\",\"Montenegro\",\"Malta\",\"Netherlands\",\"Norway\",\"Poland\",\"Portugal\",\"Romania\",\"Sweden\",\"Slovenia\",\"Slovakia\"],\"name\":\"\",\"z\":[3025,2030,1305,1755,1680,25170,175,525,2550,15570,240,11870,3730,0,855,480,11335,5,55,190,25,15,25,2220,325,580,150,1085,905,555,60],\"type\":\"choropleth\"}],\"name\":\"2023-03\"},{\"data\":[{\"coloraxis\":\"coloraxis\",\"geo\":\"geo\",\"hovertemplate\":\"TIME_PERIOD=2023-04<br>geo=%{location}<br>OBS_VALUE=%{z}<extra></extra>\",\"locationmode\":\"country names\",\"locations\":[\"Austria\",\"Belgium\",\"Bulgaria\",\"Switzerland\",\"Germany (until 1990 former territory of the FRG)\",\"Denmark\",\"Estonia\",\"Greece\",\"Spain\",\"Finland\",\"France\",\"Hungary\",\"Ireland\",\"Iceland\",\"Italy\",\"Liechtenstein\",\"Luxembourg\",\"Montenegro\",\"Malta\",\"Netherlands\",\"Norway\",\"Poland\",\"Portugal\",\"Sweden\",\"Slovenia\",\"Slovakia\"],\"name\":\"\",\"z\":[3290,1625,1010,1520,19630,180,390,2315,12910,230,10260,5,630,370,8175,5,180,10,25,2350,290,450,165,695,515,30],\"type\":\"choropleth\"}],\"name\":\"2023-04\"},{\"data\":[{\"coloraxis\":\"coloraxis\",\"geo\":\"geo\",\"hovertemplate\":\"TIME_PERIOD=2023-05<br>geo=%{location}<br>OBS_VALUE=%{z}<extra></extra>\",\"locationmode\":\"country names\",\"locations\":[\"Belgium\",\"Switzerland\",\"Germany (until 1990 former territory of the FRG)\",\"Denmark\",\"Estonia\",\"Spain\",\"Finland\",\"Hungary\",\"Montenegro\",\"Netherlands\",\"Norway\",\"Poland\",\"Sweden\"],\"name\":\"\",\"z\":[2235,1920,21945,170,390,17405,295,0,10,2540,340,565,835],\"type\":\"choropleth\"}],\"name\":\"2023-05\"}]);\n",
       "                        }).then(function(){\n",
       "                            \n",
       "var gd = document.getElementById('9e593361-1015-43f9-a5ac-660e8a05afda');\n",
       "var x = new MutationObserver(function (mutations, observer) {{\n",
       "        var display = window.getComputedStyle(gd).display;\n",
       "        if (!display || display === 'none') {{\n",
       "            console.log([gd, 'removed!']);\n",
       "            Plotly.purge(gd);\n",
       "            observer.disconnect();\n",
       "        }}\n",
       "}});\n",
       "\n",
       "// Listen for the removal of the full notebook cells\n",
       "var notebookContainer = gd.closest('#notebook-container');\n",
       "if (notebookContainer) {{\n",
       "    x.observe(notebookContainer, {childList: true});\n",
       "}}\n",
       "\n",
       "// Listen for the clearing of the current output cell\n",
       "var outputEl = gd.closest('.output');\n",
       "if (outputEl) {{\n",
       "    x.observe(outputEl, {childList: true});\n",
       "}}\n",
       "\n",
       "                        })                };                });            </script>        </div>"
      ]
     },
     "metadata": {},
     "output_type": "display_data"
    }
   ],
   "source": [
    "fig = px.choropleth(\n",
    "    data_europe,\n",
    "    locations='geo',\n",
    "    color='OBS_VALUE',\n",
    "    color_continuous_scale='reds',\n",
    "    locationmode='country names',\n",
    "    animation_frame='TIME_PERIOD',\n",
    "    range_color=[data_europe['OBS_VALUE'].min(), data_europe['OBS_VALUE'].mean()],\n",
    ")\n",
    "\n",
    "fig.update_layout(\n",
    "    title=dict(\n",
    "        text='Asielverzoeken per EU land per maand',\n",
    "        font=dict(\n",
    "            color='rgb(42,63,95)'\n",
    "        )\n",
    "    ),\n",
    "    paper_bgcolor=\"white\",\n",
    "    coloraxis_colorbar=dict(\n",
    "        tickmode='array',\n",
    "        tickfont=dict(\n",
    "                color='rgb(42,63,95)'\n",
    "            ),\n",
    "        title=dict(\n",
    "            text='waardes',\n",
    "            font=dict(\n",
    "                color='rgb(42,63,95)'\n",
    "            )\n",
    "        ),\n",
    "\n",
    "    ),\n",
    "    geo=dict(\n",
    "        bgcolor='#e8ecf4',\n",
    "        showframe=False,\n",
    "        showcoastlines=True,\n",
    "        showland=True,\n",
    "        scope='europe',\n",
    "        lataxis_range=[35, 70],\n",
    "        lonaxis_range=[-9, 38],\n",
    "    ),\n",
    "    sliders=[\n",
    "        dict(\n",
    "            currentvalue=dict(\n",
    "                font=dict(color='rgb(42,63,95)')\n",
    "            ),\n",
    "\n",
    "        ),\n",
    "    ],\n",
    "\n",
    "\n",
    ")\n",
    "\n",
    "fig.show()\n",
    "\n",
    "#Belanrijk!!: Generatieve Kunstmatige intelligentie (KI) (ChatGPT met GPT 3.5) was gebruikt voor het creëren van deze opdracht. Met als doel het genereren van nieuwe, en het verbeteren van bestaande code. Zie de promps en terug gekregen antwoorden in de appendix"
   ]
  },
  {
   "cell_type": "markdown",
   "metadata": {},
   "source": [
    "# Figuur 2: Asielverzoeken per EU land per maand\n",
    "\n",
    "## Visualisatie 2:\n",
    "Voor: Het aantal asielzoekers in Nederland neemt met name later in de visualisatie toe.\n",
    "Tegen: De stijging in asielzoekers in Nederland is vergelijkbaar met die in andere Europese landen. Deze stijging is dus niet iets wat specifiek met Nederland te maken heeft en Nederland neemt niet meer op zich dan andere Europese landen."
   ]
  },
  {
   "cell_type": "code",
   "execution_count": 39,
   "metadata": {
    "tags": [
     "hide_input"
    ]
   },
   "outputs": [
    {
     "data": {
      "text/html": [
       "<div>\n",
       "<style scoped>\n",
       "    .dataframe tbody tr th:only-of-type {\n",
       "        vertical-align: middle;\n",
       "    }\n",
       "\n",
       "    .dataframe tbody tr th {\n",
       "        vertical-align: top;\n",
       "    }\n",
       "\n",
       "    .dataframe thead th {\n",
       "        text-align: right;\n",
       "    }\n",
       "</style>\n",
       "<table border=\"1\" class=\"dataframe\">\n",
       "  <thead>\n",
       "    <tr style=\"text-align: right;\">\n",
       "      <th></th>\n",
       "      <th>Jaar</th>\n",
       "      <th>Verblijfsvergunningen</th>\n",
       "      <th>Geslacht</th>\n",
       "      <th>Leeftijd</th>\n",
       "      <th>Nationaliteit</th>\n",
       "      <th>Totaal asielverzoeken (aantal)</th>\n",
       "    </tr>\n",
       "  </thead>\n",
       "  <tbody>\n",
       "    <tr>\n",
       "      <th>0</th>\n",
       "      <td>2013</td>\n",
       "      <td>9,545</td>\n",
       "      <td>Totaal mannen en vrouwen</td>\n",
       "      <td>Totaal</td>\n",
       "      <td>Totaal</td>\n",
       "      <td>13095</td>\n",
       "    </tr>\n",
       "    <tr>\n",
       "      <th>1</th>\n",
       "      <td>2014</td>\n",
       "      <td>18,620</td>\n",
       "      <td>Totaal mannen en vrouwen</td>\n",
       "      <td>Totaal</td>\n",
       "      <td>Totaal</td>\n",
       "      <td>24535</td>\n",
       "    </tr>\n",
       "    <tr>\n",
       "      <th>2</th>\n",
       "      <td>2015</td>\n",
       "      <td>31,085</td>\n",
       "      <td>Totaal mannen en vrouwen</td>\n",
       "      <td>Totaal</td>\n",
       "      <td>Totaal</td>\n",
       "      <td>45035</td>\n",
       "    </tr>\n",
       "    <tr>\n",
       "      <th>3</th>\n",
       "      <td>2016</td>\n",
       "      <td>34,250</td>\n",
       "      <td>Totaal mannen en vrouwen</td>\n",
       "      <td>Totaal</td>\n",
       "      <td>Totaal</td>\n",
       "      <td>21025</td>\n",
       "    </tr>\n",
       "    <tr>\n",
       "      <th>4</th>\n",
       "      <td>2017</td>\n",
       "      <td>25,815</td>\n",
       "      <td>Totaal mannen en vrouwen</td>\n",
       "      <td>Totaal</td>\n",
       "      <td>Totaal</td>\n",
       "      <td>18265</td>\n",
       "    </tr>\n",
       "    <tr>\n",
       "      <th>5</th>\n",
       "      <td>2018</td>\n",
       "      <td>12,445</td>\n",
       "      <td>Totaal mannen en vrouwen</td>\n",
       "      <td>Totaal</td>\n",
       "      <td>Totaal</td>\n",
       "      <td>24075</td>\n",
       "    </tr>\n",
       "    <tr>\n",
       "      <th>6</th>\n",
       "      <td>2019</td>\n",
       "      <td>11,890</td>\n",
       "      <td>Totaal mannen en vrouwen</td>\n",
       "      <td>Totaal</td>\n",
       "      <td>Totaal</td>\n",
       "      <td>25265</td>\n",
       "    </tr>\n",
       "    <tr>\n",
       "      <th>7</th>\n",
       "      <td>2020</td>\n",
       "      <td>14,045</td>\n",
       "      <td>Totaal mannen en vrouwen</td>\n",
       "      <td>Totaal</td>\n",
       "      <td>Totaal</td>\n",
       "      <td>15320</td>\n",
       "    </tr>\n",
       "    <tr>\n",
       "      <th>8</th>\n",
       "      <td>2021</td>\n",
       "      <td>24,705</td>\n",
       "      <td>Totaal mannen en vrouwen</td>\n",
       "      <td>Totaal</td>\n",
       "      <td>Totaal</td>\n",
       "      <td>26555</td>\n",
       "    </tr>\n",
       "  </tbody>\n",
       "</table>\n",
       "</div>"
      ],
      "text/plain": [
       "   Jaar Verblijfsvergunningen                   Geslacht Leeftijd  \\\n",
       "0  2013                 9,545  Totaal mannen en vrouwen    Totaal   \n",
       "1  2014                18,620  Totaal mannen en vrouwen    Totaal   \n",
       "2  2015                31,085  Totaal mannen en vrouwen    Totaal   \n",
       "3  2016                34,250  Totaal mannen en vrouwen    Totaal   \n",
       "4  2017                25,815  Totaal mannen en vrouwen    Totaal   \n",
       "5  2018                12,445  Totaal mannen en vrouwen    Totaal   \n",
       "6  2019                11,890  Totaal mannen en vrouwen    Totaal   \n",
       "7  2020                14,045  Totaal mannen en vrouwen    Totaal   \n",
       "8  2021                24,705  Totaal mannen en vrouwen    Totaal   \n",
       "\n",
       "  Nationaliteit  Totaal asielverzoeken (aantal)  \n",
       "0        Totaal                           13095  \n",
       "1        Totaal                           24535  \n",
       "2        Totaal                           45035  \n",
       "3        Totaal                           21025  \n",
       "4        Totaal                           18265  \n",
       "5        Totaal                           24075  \n",
       "6        Totaal                           25265  \n",
       "7        Totaal                           15320  \n",
       "8        Totaal                           26555  "
      ]
     },
     "execution_count": 39,
     "metadata": {},
     "output_type": "execute_result"
    }
   ],
   "source": [
    "data_permits = pd.read_csv('Verblijfsvergunningen asiel voor bepaalde tijd (x 1 000).csv', sep=';')\n",
    "total_request = pd.read_csv('Asielverzoeken__nareizigers__kerncijfers_01072023_122258.csv', sep=';')\n",
    "data_permits['Jaar'] = data_permits['Jaar'].astype(int)\n",
    "total_request['Jaar'] = total_request['Jaar'].astype(int)\n",
    "pd_total_permits_and_request = data_permits.merge(total_request, how='inner', on='Jaar')"
   ]
  },
  {
   "cell_type": "code",
   "execution_count": 41,
   "metadata": {
    "tags": [
     "hide_input"
    ]
   },
   "outputs": [
    {
     "data": {
      "application/vnd.plotly.v1+json": {
       "config": {
        "plotlyServerURL": "https://plot.ly"
       },
       "data": [
        {
         "marker": {
          "color": "rgb(102,194,165)"
         },
         "name": "Totaal aantal asielverzoeken",
         "type": "bar",
         "x": [
          2013,
          2014,
          2015,
          2016,
          2017,
          2018,
          2019,
          2020,
          2021
         ],
         "y": [
          13095,
          24535,
          45035,
          21025,
          18265,
          24075,
          25265,
          15320,
          26555
         ]
        },
        {
         "marker": {
          "color": "rgb(252,141,98)"
         },
         "name": "Totaal aantal verblijfvergunningen",
         "type": "bar",
         "x": [
          2013,
          2014,
          2015,
          2016,
          2017,
          2018,
          2019,
          2020,
          2021
         ],
         "y": [
          "9,545",
          "18,620",
          "31,085",
          "34,250",
          "25,815",
          "12,445",
          "11,890",
          "14,045",
          "24,705"
         ]
        }
       ],
       "layout": {
        "legend": {
         "bgcolor": "white",
         "font": {
          "color": "rgb(42,63,95)"
         }
        },
        "paper_bgcolor": "white",
        "plot_bgcolor": "#e8ecf4",
        "template": {
         "data": {
          "bar": [
           {
            "error_x": {
             "color": "#f2f5fa"
            },
            "error_y": {
             "color": "#f2f5fa"
            },
            "marker": {
             "line": {
              "color": "rgb(17,17,17)",
              "width": 0.5
             },
             "pattern": {
              "fillmode": "overlay",
              "size": 10,
              "solidity": 0.2
             }
            },
            "type": "bar"
           }
          ],
          "barpolar": [
           {
            "marker": {
             "line": {
              "color": "rgb(17,17,17)",
              "width": 0.5
             },
             "pattern": {
              "fillmode": "overlay",
              "size": 10,
              "solidity": 0.2
             }
            },
            "type": "barpolar"
           }
          ],
          "carpet": [
           {
            "aaxis": {
             "endlinecolor": "#A2B1C6",
             "gridcolor": "#506784",
             "linecolor": "#506784",
             "minorgridcolor": "#506784",
             "startlinecolor": "#A2B1C6"
            },
            "baxis": {
             "endlinecolor": "#A2B1C6",
             "gridcolor": "#506784",
             "linecolor": "#506784",
             "minorgridcolor": "#506784",
             "startlinecolor": "#A2B1C6"
            },
            "type": "carpet"
           }
          ],
          "choropleth": [
           {
            "colorbar": {
             "outlinewidth": 0,
             "ticks": ""
            },
            "type": "choropleth"
           }
          ],
          "contour": [
           {
            "colorbar": {
             "outlinewidth": 0,
             "ticks": ""
            },
            "colorscale": [
             [
              0,
              "#0d0887"
             ],
             [
              0.1111111111111111,
              "#46039f"
             ],
             [
              0.2222222222222222,
              "#7201a8"
             ],
             [
              0.3333333333333333,
              "#9c179e"
             ],
             [
              0.4444444444444444,
              "#bd3786"
             ],
             [
              0.5555555555555556,
              "#d8576b"
             ],
             [
              0.6666666666666666,
              "#ed7953"
             ],
             [
              0.7777777777777778,
              "#fb9f3a"
             ],
             [
              0.8888888888888888,
              "#fdca26"
             ],
             [
              1,
              "#f0f921"
             ]
            ],
            "type": "contour"
           }
          ],
          "contourcarpet": [
           {
            "colorbar": {
             "outlinewidth": 0,
             "ticks": ""
            },
            "type": "contourcarpet"
           }
          ],
          "heatmap": [
           {
            "colorbar": {
             "outlinewidth": 0,
             "ticks": ""
            },
            "colorscale": [
             [
              0,
              "#0d0887"
             ],
             [
              0.1111111111111111,
              "#46039f"
             ],
             [
              0.2222222222222222,
              "#7201a8"
             ],
             [
              0.3333333333333333,
              "#9c179e"
             ],
             [
              0.4444444444444444,
              "#bd3786"
             ],
             [
              0.5555555555555556,
              "#d8576b"
             ],
             [
              0.6666666666666666,
              "#ed7953"
             ],
             [
              0.7777777777777778,
              "#fb9f3a"
             ],
             [
              0.8888888888888888,
              "#fdca26"
             ],
             [
              1,
              "#f0f921"
             ]
            ],
            "type": "heatmap"
           }
          ],
          "heatmapgl": [
           {
            "colorbar": {
             "outlinewidth": 0,
             "ticks": ""
            },
            "colorscale": [
             [
              0,
              "#0d0887"
             ],
             [
              0.1111111111111111,
              "#46039f"
             ],
             [
              0.2222222222222222,
              "#7201a8"
             ],
             [
              0.3333333333333333,
              "#9c179e"
             ],
             [
              0.4444444444444444,
              "#bd3786"
             ],
             [
              0.5555555555555556,
              "#d8576b"
             ],
             [
              0.6666666666666666,
              "#ed7953"
             ],
             [
              0.7777777777777778,
              "#fb9f3a"
             ],
             [
              0.8888888888888888,
              "#fdca26"
             ],
             [
              1,
              "#f0f921"
             ]
            ],
            "type": "heatmapgl"
           }
          ],
          "histogram": [
           {
            "marker": {
             "pattern": {
              "fillmode": "overlay",
              "size": 10,
              "solidity": 0.2
             }
            },
            "type": "histogram"
           }
          ],
          "histogram2d": [
           {
            "colorbar": {
             "outlinewidth": 0,
             "ticks": ""
            },
            "colorscale": [
             [
              0,
              "#0d0887"
             ],
             [
              0.1111111111111111,
              "#46039f"
             ],
             [
              0.2222222222222222,
              "#7201a8"
             ],
             [
              0.3333333333333333,
              "#9c179e"
             ],
             [
              0.4444444444444444,
              "#bd3786"
             ],
             [
              0.5555555555555556,
              "#d8576b"
             ],
             [
              0.6666666666666666,
              "#ed7953"
             ],
             [
              0.7777777777777778,
              "#fb9f3a"
             ],
             [
              0.8888888888888888,
              "#fdca26"
             ],
             [
              1,
              "#f0f921"
             ]
            ],
            "type": "histogram2d"
           }
          ],
          "histogram2dcontour": [
           {
            "colorbar": {
             "outlinewidth": 0,
             "ticks": ""
            },
            "colorscale": [
             [
              0,
              "#0d0887"
             ],
             [
              0.1111111111111111,
              "#46039f"
             ],
             [
              0.2222222222222222,
              "#7201a8"
             ],
             [
              0.3333333333333333,
              "#9c179e"
             ],
             [
              0.4444444444444444,
              "#bd3786"
             ],
             [
              0.5555555555555556,
              "#d8576b"
             ],
             [
              0.6666666666666666,
              "#ed7953"
             ],
             [
              0.7777777777777778,
              "#fb9f3a"
             ],
             [
              0.8888888888888888,
              "#fdca26"
             ],
             [
              1,
              "#f0f921"
             ]
            ],
            "type": "histogram2dcontour"
           }
          ],
          "mesh3d": [
           {
            "colorbar": {
             "outlinewidth": 0,
             "ticks": ""
            },
            "type": "mesh3d"
           }
          ],
          "parcoords": [
           {
            "line": {
             "colorbar": {
              "outlinewidth": 0,
              "ticks": ""
             }
            },
            "type": "parcoords"
           }
          ],
          "pie": [
           {
            "automargin": true,
            "type": "pie"
           }
          ],
          "scatter": [
           {
            "marker": {
             "line": {
              "color": "#283442"
             }
            },
            "type": "scatter"
           }
          ],
          "scatter3d": [
           {
            "line": {
             "colorbar": {
              "outlinewidth": 0,
              "ticks": ""
             }
            },
            "marker": {
             "colorbar": {
              "outlinewidth": 0,
              "ticks": ""
             }
            },
            "type": "scatter3d"
           }
          ],
          "scattercarpet": [
           {
            "marker": {
             "colorbar": {
              "outlinewidth": 0,
              "ticks": ""
             }
            },
            "type": "scattercarpet"
           }
          ],
          "scattergeo": [
           {
            "marker": {
             "colorbar": {
              "outlinewidth": 0,
              "ticks": ""
             }
            },
            "type": "scattergeo"
           }
          ],
          "scattergl": [
           {
            "marker": {
             "line": {
              "color": "#283442"
             }
            },
            "type": "scattergl"
           }
          ],
          "scattermapbox": [
           {
            "marker": {
             "colorbar": {
              "outlinewidth": 0,
              "ticks": ""
             }
            },
            "type": "scattermapbox"
           }
          ],
          "scatterpolar": [
           {
            "marker": {
             "colorbar": {
              "outlinewidth": 0,
              "ticks": ""
             }
            },
            "type": "scatterpolar"
           }
          ],
          "scatterpolargl": [
           {
            "marker": {
             "colorbar": {
              "outlinewidth": 0,
              "ticks": ""
             }
            },
            "type": "scatterpolargl"
           }
          ],
          "scatterternary": [
           {
            "marker": {
             "colorbar": {
              "outlinewidth": 0,
              "ticks": ""
             }
            },
            "type": "scatterternary"
           }
          ],
          "surface": [
           {
            "colorbar": {
             "outlinewidth": 0,
             "ticks": ""
            },
            "colorscale": [
             [
              0,
              "#0d0887"
             ],
             [
              0.1111111111111111,
              "#46039f"
             ],
             [
              0.2222222222222222,
              "#7201a8"
             ],
             [
              0.3333333333333333,
              "#9c179e"
             ],
             [
              0.4444444444444444,
              "#bd3786"
             ],
             [
              0.5555555555555556,
              "#d8576b"
             ],
             [
              0.6666666666666666,
              "#ed7953"
             ],
             [
              0.7777777777777778,
              "#fb9f3a"
             ],
             [
              0.8888888888888888,
              "#fdca26"
             ],
             [
              1,
              "#f0f921"
             ]
            ],
            "type": "surface"
           }
          ],
          "table": [
           {
            "cells": {
             "fill": {
              "color": "#506784"
             },
             "line": {
              "color": "rgb(17,17,17)"
             }
            },
            "header": {
             "fill": {
              "color": "#2a3f5f"
             },
             "line": {
              "color": "rgb(17,17,17)"
             }
            },
            "type": "table"
           }
          ]
         },
         "layout": {
          "annotationdefaults": {
           "arrowcolor": "#f2f5fa",
           "arrowhead": 0,
           "arrowwidth": 1
          },
          "autotypenumbers": "strict",
          "coloraxis": {
           "colorbar": {
            "outlinewidth": 0,
            "ticks": ""
           }
          },
          "colorscale": {
           "diverging": [
            [
             0,
             "#8e0152"
            ],
            [
             0.1,
             "#c51b7d"
            ],
            [
             0.2,
             "#de77ae"
            ],
            [
             0.3,
             "#f1b6da"
            ],
            [
             0.4,
             "#fde0ef"
            ],
            [
             0.5,
             "#f7f7f7"
            ],
            [
             0.6,
             "#e6f5d0"
            ],
            [
             0.7,
             "#b8e186"
            ],
            [
             0.8,
             "#7fbc41"
            ],
            [
             0.9,
             "#4d9221"
            ],
            [
             1,
             "#276419"
            ]
           ],
           "sequential": [
            [
             0,
             "#0d0887"
            ],
            [
             0.1111111111111111,
             "#46039f"
            ],
            [
             0.2222222222222222,
             "#7201a8"
            ],
            [
             0.3333333333333333,
             "#9c179e"
            ],
            [
             0.4444444444444444,
             "#bd3786"
            ],
            [
             0.5555555555555556,
             "#d8576b"
            ],
            [
             0.6666666666666666,
             "#ed7953"
            ],
            [
             0.7777777777777778,
             "#fb9f3a"
            ],
            [
             0.8888888888888888,
             "#fdca26"
            ],
            [
             1,
             "#f0f921"
            ]
           ],
           "sequentialminus": [
            [
             0,
             "#0d0887"
            ],
            [
             0.1111111111111111,
             "#46039f"
            ],
            [
             0.2222222222222222,
             "#7201a8"
            ],
            [
             0.3333333333333333,
             "#9c179e"
            ],
            [
             0.4444444444444444,
             "#bd3786"
            ],
            [
             0.5555555555555556,
             "#d8576b"
            ],
            [
             0.6666666666666666,
             "#ed7953"
            ],
            [
             0.7777777777777778,
             "#fb9f3a"
            ],
            [
             0.8888888888888888,
             "#fdca26"
            ],
            [
             1,
             "#f0f921"
            ]
           ]
          },
          "colorway": [
           "#636efa",
           "#EF553B",
           "#00cc96",
           "#ab63fa",
           "#FFA15A",
           "#19d3f3",
           "#FF6692",
           "#B6E880",
           "#FF97FF",
           "#FECB52"
          ],
          "font": {
           "color": "#f2f5fa"
          },
          "geo": {
           "bgcolor": "rgb(17,17,17)",
           "lakecolor": "rgb(17,17,17)",
           "landcolor": "rgb(17,17,17)",
           "showlakes": true,
           "showland": true,
           "subunitcolor": "#506784"
          },
          "hoverlabel": {
           "align": "left"
          },
          "hovermode": "closest",
          "mapbox": {
           "style": "dark"
          },
          "paper_bgcolor": "rgb(17,17,17)",
          "plot_bgcolor": "rgb(17,17,17)",
          "polar": {
           "angularaxis": {
            "gridcolor": "#506784",
            "linecolor": "#506784",
            "ticks": ""
           },
           "bgcolor": "rgb(17,17,17)",
           "radialaxis": {
            "gridcolor": "#506784",
            "linecolor": "#506784",
            "ticks": ""
           }
          },
          "scene": {
           "xaxis": {
            "backgroundcolor": "rgb(17,17,17)",
            "gridcolor": "#506784",
            "gridwidth": 2,
            "linecolor": "#506784",
            "showbackground": true,
            "ticks": "",
            "zerolinecolor": "#C8D4E3"
           },
           "yaxis": {
            "backgroundcolor": "rgb(17,17,17)",
            "gridcolor": "#506784",
            "gridwidth": 2,
            "linecolor": "#506784",
            "showbackground": true,
            "ticks": "",
            "zerolinecolor": "#C8D4E3"
           },
           "zaxis": {
            "backgroundcolor": "rgb(17,17,17)",
            "gridcolor": "#506784",
            "gridwidth": 2,
            "linecolor": "#506784",
            "showbackground": true,
            "ticks": "",
            "zerolinecolor": "#C8D4E3"
           }
          },
          "shapedefaults": {
           "line": {
            "color": "#f2f5fa"
           }
          },
          "sliderdefaults": {
           "bgcolor": "#C8D4E3",
           "bordercolor": "rgb(17,17,17)",
           "borderwidth": 1,
           "tickwidth": 0
          },
          "ternary": {
           "aaxis": {
            "gridcolor": "#506784",
            "linecolor": "#506784",
            "ticks": ""
           },
           "baxis": {
            "gridcolor": "#506784",
            "linecolor": "#506784",
            "ticks": ""
           },
           "bgcolor": "rgb(17,17,17)",
           "caxis": {
            "gridcolor": "#506784",
            "linecolor": "#506784",
            "ticks": ""
           }
          },
          "title": {
           "x": 0.05
          },
          "updatemenudefaults": {
           "bgcolor": "#506784",
           "borderwidth": 0
          },
          "xaxis": {
           "automargin": true,
           "gridcolor": "#283442",
           "linecolor": "#506784",
           "ticks": "",
           "title": {
            "standoff": 15
           },
           "zerolinecolor": "#283442",
           "zerolinewidth": 2
          },
          "yaxis": {
           "automargin": true,
           "gridcolor": "#283442",
           "linecolor": "#506784",
           "ticks": "",
           "title": {
            "standoff": 15
           },
           "zerolinecolor": "#283442",
           "zerolinewidth": 2
          }
         }
        },
        "title": {
         "font": {
          "color": "rgb(42,63,95)"
         },
         "text": "Aantal asielverzoeken en verblijfvergunningen per jaar 2013-2021"
        },
        "xaxis": {
         "tickfont": {
          "color": "rgb(42,63,95)"
         },
         "title": {
          "font": {
           "color": "rgb(42,63,95)"
          },
          "text": "Jaar"
         },
         "type": "category"
        },
        "yaxis": {
         "tickfont": {
          "color": "rgb(42,63,95)"
         },
         "title": {
          "font": {
           "color": "rgb(42,63,95)"
          },
          "text": "Asielverzoeken en Verblijfvergunningen"
         }
        }
       }
      },
      "text/html": [
       "<div>                            <div id=\"592ea3cb-9c21-4d64-9bfb-fb4cadff699b\" class=\"plotly-graph-div\" style=\"height:525px; width:100%;\"></div>            <script type=\"text/javascript\">                require([\"plotly\"], function(Plotly) {                    window.PLOTLYENV=window.PLOTLYENV || {};                                    if (document.getElementById(\"592ea3cb-9c21-4d64-9bfb-fb4cadff699b\")) {                    Plotly.newPlot(                        \"592ea3cb-9c21-4d64-9bfb-fb4cadff699b\",                        [{\"marker\":{\"color\":\"rgb(102,194,165)\"},\"name\":\"Totaal aantal asielverzoeken\",\"x\":[2013,2014,2015,2016,2017,2018,2019,2020,2021],\"y\":[13095,24535,45035,21025,18265,24075,25265,15320,26555],\"type\":\"bar\"},{\"marker\":{\"color\":\"rgb(252,141,98)\"},\"name\":\"Totaal aantal verblijfvergunningen\",\"x\":[2013,2014,2015,2016,2017,2018,2019,2020,2021],\"y\":[\"9,545\",\"18,620\",\"31,085\",\"34,250\",\"25,815\",\"12,445\",\"11,890\",\"14,045\",\"24,705\"],\"type\":\"bar\"}],                        {\"legend\":{\"bgcolor\":\"white\",\"font\":{\"color\":\"rgb(42,63,95)\"}},\"paper_bgcolor\":\"white\",\"plot_bgcolor\":\"#e8ecf4\",\"title\":{\"font\":{\"color\":\"rgb(42,63,95)\"},\"text\":\"Aantal asielverzoeken en verblijfvergunningen per jaar 2013-2021\"},\"xaxis\":{\"tickfont\":{\"color\":\"rgb(42,63,95)\"},\"title\":{\"font\":{\"color\":\"rgb(42,63,95)\"},\"text\":\"Jaar\"},\"type\":\"category\"},\"yaxis\":{\"tickfont\":{\"color\":\"rgb(42,63,95)\"},\"title\":{\"font\":{\"color\":\"rgb(42,63,95)\"},\"text\":\"Asielverzoeken en Verblijfvergunningen\"}},\"template\":{\"data\":{\"histogram2dcontour\":[{\"type\":\"histogram2dcontour\",\"colorbar\":{\"outlinewidth\":0,\"ticks\":\"\"},\"colorscale\":[[0.0,\"#0d0887\"],[0.1111111111111111,\"#46039f\"],[0.2222222222222222,\"#7201a8\"],[0.3333333333333333,\"#9c179e\"],[0.4444444444444444,\"#bd3786\"],[0.5555555555555556,\"#d8576b\"],[0.6666666666666666,\"#ed7953\"],[0.7777777777777778,\"#fb9f3a\"],[0.8888888888888888,\"#fdca26\"],[1.0,\"#f0f921\"]]}],\"choropleth\":[{\"type\":\"choropleth\",\"colorbar\":{\"outlinewidth\":0,\"ticks\":\"\"}}],\"histogram2d\":[{\"type\":\"histogram2d\",\"colorbar\":{\"outlinewidth\":0,\"ticks\":\"\"},\"colorscale\":[[0.0,\"#0d0887\"],[0.1111111111111111,\"#46039f\"],[0.2222222222222222,\"#7201a8\"],[0.3333333333333333,\"#9c179e\"],[0.4444444444444444,\"#bd3786\"],[0.5555555555555556,\"#d8576b\"],[0.6666666666666666,\"#ed7953\"],[0.7777777777777778,\"#fb9f3a\"],[0.8888888888888888,\"#fdca26\"],[1.0,\"#f0f921\"]]}],\"heatmap\":[{\"type\":\"heatmap\",\"colorbar\":{\"outlinewidth\":0,\"ticks\":\"\"},\"colorscale\":[[0.0,\"#0d0887\"],[0.1111111111111111,\"#46039f\"],[0.2222222222222222,\"#7201a8\"],[0.3333333333333333,\"#9c179e\"],[0.4444444444444444,\"#bd3786\"],[0.5555555555555556,\"#d8576b\"],[0.6666666666666666,\"#ed7953\"],[0.7777777777777778,\"#fb9f3a\"],[0.8888888888888888,\"#fdca26\"],[1.0,\"#f0f921\"]]}],\"heatmapgl\":[{\"type\":\"heatmapgl\",\"colorbar\":{\"outlinewidth\":0,\"ticks\":\"\"},\"colorscale\":[[0.0,\"#0d0887\"],[0.1111111111111111,\"#46039f\"],[0.2222222222222222,\"#7201a8\"],[0.3333333333333333,\"#9c179e\"],[0.4444444444444444,\"#bd3786\"],[0.5555555555555556,\"#d8576b\"],[0.6666666666666666,\"#ed7953\"],[0.7777777777777778,\"#fb9f3a\"],[0.8888888888888888,\"#fdca26\"],[1.0,\"#f0f921\"]]}],\"contourcarpet\":[{\"type\":\"contourcarpet\",\"colorbar\":{\"outlinewidth\":0,\"ticks\":\"\"}}],\"contour\":[{\"type\":\"contour\",\"colorbar\":{\"outlinewidth\":0,\"ticks\":\"\"},\"colorscale\":[[0.0,\"#0d0887\"],[0.1111111111111111,\"#46039f\"],[0.2222222222222222,\"#7201a8\"],[0.3333333333333333,\"#9c179e\"],[0.4444444444444444,\"#bd3786\"],[0.5555555555555556,\"#d8576b\"],[0.6666666666666666,\"#ed7953\"],[0.7777777777777778,\"#fb9f3a\"],[0.8888888888888888,\"#fdca26\"],[1.0,\"#f0f921\"]]}],\"surface\":[{\"type\":\"surface\",\"colorbar\":{\"outlinewidth\":0,\"ticks\":\"\"},\"colorscale\":[[0.0,\"#0d0887\"],[0.1111111111111111,\"#46039f\"],[0.2222222222222222,\"#7201a8\"],[0.3333333333333333,\"#9c179e\"],[0.4444444444444444,\"#bd3786\"],[0.5555555555555556,\"#d8576b\"],[0.6666666666666666,\"#ed7953\"],[0.7777777777777778,\"#fb9f3a\"],[0.8888888888888888,\"#fdca26\"],[1.0,\"#f0f921\"]]}],\"mesh3d\":[{\"type\":\"mesh3d\",\"colorbar\":{\"outlinewidth\":0,\"ticks\":\"\"}}],\"scatter\":[{\"marker\":{\"line\":{\"color\":\"#283442\"}},\"type\":\"scatter\"}],\"parcoords\":[{\"type\":\"parcoords\",\"line\":{\"colorbar\":{\"outlinewidth\":0,\"ticks\":\"\"}}}],\"scatterpolargl\":[{\"type\":\"scatterpolargl\",\"marker\":{\"colorbar\":{\"outlinewidth\":0,\"ticks\":\"\"}}}],\"bar\":[{\"error_x\":{\"color\":\"#f2f5fa\"},\"error_y\":{\"color\":\"#f2f5fa\"},\"marker\":{\"line\":{\"color\":\"rgb(17,17,17)\",\"width\":0.5},\"pattern\":{\"fillmode\":\"overlay\",\"size\":10,\"solidity\":0.2}},\"type\":\"bar\"}],\"scattergeo\":[{\"type\":\"scattergeo\",\"marker\":{\"colorbar\":{\"outlinewidth\":0,\"ticks\":\"\"}}}],\"scatterpolar\":[{\"type\":\"scatterpolar\",\"marker\":{\"colorbar\":{\"outlinewidth\":0,\"ticks\":\"\"}}}],\"histogram\":[{\"marker\":{\"pattern\":{\"fillmode\":\"overlay\",\"size\":10,\"solidity\":0.2}},\"type\":\"histogram\"}],\"scattergl\":[{\"marker\":{\"line\":{\"color\":\"#283442\"}},\"type\":\"scattergl\"}],\"scatter3d\":[{\"type\":\"scatter3d\",\"line\":{\"colorbar\":{\"outlinewidth\":0,\"ticks\":\"\"}},\"marker\":{\"colorbar\":{\"outlinewidth\":0,\"ticks\":\"\"}}}],\"scattermapbox\":[{\"type\":\"scattermapbox\",\"marker\":{\"colorbar\":{\"outlinewidth\":0,\"ticks\":\"\"}}}],\"scatterternary\":[{\"type\":\"scatterternary\",\"marker\":{\"colorbar\":{\"outlinewidth\":0,\"ticks\":\"\"}}}],\"scattercarpet\":[{\"type\":\"scattercarpet\",\"marker\":{\"colorbar\":{\"outlinewidth\":0,\"ticks\":\"\"}}}],\"carpet\":[{\"aaxis\":{\"endlinecolor\":\"#A2B1C6\",\"gridcolor\":\"#506784\",\"linecolor\":\"#506784\",\"minorgridcolor\":\"#506784\",\"startlinecolor\":\"#A2B1C6\"},\"baxis\":{\"endlinecolor\":\"#A2B1C6\",\"gridcolor\":\"#506784\",\"linecolor\":\"#506784\",\"minorgridcolor\":\"#506784\",\"startlinecolor\":\"#A2B1C6\"},\"type\":\"carpet\"}],\"table\":[{\"cells\":{\"fill\":{\"color\":\"#506784\"},\"line\":{\"color\":\"rgb(17,17,17)\"}},\"header\":{\"fill\":{\"color\":\"#2a3f5f\"},\"line\":{\"color\":\"rgb(17,17,17)\"}},\"type\":\"table\"}],\"barpolar\":[{\"marker\":{\"line\":{\"color\":\"rgb(17,17,17)\",\"width\":0.5},\"pattern\":{\"fillmode\":\"overlay\",\"size\":10,\"solidity\":0.2}},\"type\":\"barpolar\"}],\"pie\":[{\"automargin\":true,\"type\":\"pie\"}]},\"layout\":{\"autotypenumbers\":\"strict\",\"colorway\":[\"#636efa\",\"#EF553B\",\"#00cc96\",\"#ab63fa\",\"#FFA15A\",\"#19d3f3\",\"#FF6692\",\"#B6E880\",\"#FF97FF\",\"#FECB52\"],\"font\":{\"color\":\"#f2f5fa\"},\"hovermode\":\"closest\",\"hoverlabel\":{\"align\":\"left\"},\"paper_bgcolor\":\"rgb(17,17,17)\",\"plot_bgcolor\":\"rgb(17,17,17)\",\"polar\":{\"bgcolor\":\"rgb(17,17,17)\",\"angularaxis\":{\"gridcolor\":\"#506784\",\"linecolor\":\"#506784\",\"ticks\":\"\"},\"radialaxis\":{\"gridcolor\":\"#506784\",\"linecolor\":\"#506784\",\"ticks\":\"\"}},\"ternary\":{\"bgcolor\":\"rgb(17,17,17)\",\"aaxis\":{\"gridcolor\":\"#506784\",\"linecolor\":\"#506784\",\"ticks\":\"\"},\"baxis\":{\"gridcolor\":\"#506784\",\"linecolor\":\"#506784\",\"ticks\":\"\"},\"caxis\":{\"gridcolor\":\"#506784\",\"linecolor\":\"#506784\",\"ticks\":\"\"}},\"coloraxis\":{\"colorbar\":{\"outlinewidth\":0,\"ticks\":\"\"}},\"colorscale\":{\"sequential\":[[0.0,\"#0d0887\"],[0.1111111111111111,\"#46039f\"],[0.2222222222222222,\"#7201a8\"],[0.3333333333333333,\"#9c179e\"],[0.4444444444444444,\"#bd3786\"],[0.5555555555555556,\"#d8576b\"],[0.6666666666666666,\"#ed7953\"],[0.7777777777777778,\"#fb9f3a\"],[0.8888888888888888,\"#fdca26\"],[1.0,\"#f0f921\"]],\"sequentialminus\":[[0.0,\"#0d0887\"],[0.1111111111111111,\"#46039f\"],[0.2222222222222222,\"#7201a8\"],[0.3333333333333333,\"#9c179e\"],[0.4444444444444444,\"#bd3786\"],[0.5555555555555556,\"#d8576b\"],[0.6666666666666666,\"#ed7953\"],[0.7777777777777778,\"#fb9f3a\"],[0.8888888888888888,\"#fdca26\"],[1.0,\"#f0f921\"]],\"diverging\":[[0,\"#8e0152\"],[0.1,\"#c51b7d\"],[0.2,\"#de77ae\"],[0.3,\"#f1b6da\"],[0.4,\"#fde0ef\"],[0.5,\"#f7f7f7\"],[0.6,\"#e6f5d0\"],[0.7,\"#b8e186\"],[0.8,\"#7fbc41\"],[0.9,\"#4d9221\"],[1,\"#276419\"]]},\"xaxis\":{\"gridcolor\":\"#283442\",\"linecolor\":\"#506784\",\"ticks\":\"\",\"title\":{\"standoff\":15},\"zerolinecolor\":\"#283442\",\"automargin\":true,\"zerolinewidth\":2},\"yaxis\":{\"gridcolor\":\"#283442\",\"linecolor\":\"#506784\",\"ticks\":\"\",\"title\":{\"standoff\":15},\"zerolinecolor\":\"#283442\",\"automargin\":true,\"zerolinewidth\":2},\"scene\":{\"xaxis\":{\"backgroundcolor\":\"rgb(17,17,17)\",\"gridcolor\":\"#506784\",\"linecolor\":\"#506784\",\"showbackground\":true,\"ticks\":\"\",\"zerolinecolor\":\"#C8D4E3\",\"gridwidth\":2},\"yaxis\":{\"backgroundcolor\":\"rgb(17,17,17)\",\"gridcolor\":\"#506784\",\"linecolor\":\"#506784\",\"showbackground\":true,\"ticks\":\"\",\"zerolinecolor\":\"#C8D4E3\",\"gridwidth\":2},\"zaxis\":{\"backgroundcolor\":\"rgb(17,17,17)\",\"gridcolor\":\"#506784\",\"linecolor\":\"#506784\",\"showbackground\":true,\"ticks\":\"\",\"zerolinecolor\":\"#C8D4E3\",\"gridwidth\":2}},\"shapedefaults\":{\"line\":{\"color\":\"#f2f5fa\"}},\"annotationdefaults\":{\"arrowcolor\":\"#f2f5fa\",\"arrowhead\":0,\"arrowwidth\":1},\"geo\":{\"bgcolor\":\"rgb(17,17,17)\",\"landcolor\":\"rgb(17,17,17)\",\"subunitcolor\":\"#506784\",\"showland\":true,\"showlakes\":true,\"lakecolor\":\"rgb(17,17,17)\"},\"title\":{\"x\":0.05},\"updatemenudefaults\":{\"bgcolor\":\"#506784\",\"borderwidth\":0},\"sliderdefaults\":{\"bgcolor\":\"#C8D4E3\",\"borderwidth\":1,\"bordercolor\":\"rgb(17,17,17)\",\"tickwidth\":0},\"mapbox\":{\"style\":\"dark\"}}}},                        {\"responsive\": true}                    ).then(function(){\n",
       "                            \n",
       "var gd = document.getElementById('592ea3cb-9c21-4d64-9bfb-fb4cadff699b');\n",
       "var x = new MutationObserver(function (mutations, observer) {{\n",
       "        var display = window.getComputedStyle(gd).display;\n",
       "        if (!display || display === 'none') {{\n",
       "            console.log([gd, 'removed!']);\n",
       "            Plotly.purge(gd);\n",
       "            observer.disconnect();\n",
       "        }}\n",
       "}});\n",
       "\n",
       "// Listen for the removal of the full notebook cells\n",
       "var notebookContainer = gd.closest('#notebook-container');\n",
       "if (notebookContainer) {{\n",
       "    x.observe(notebookContainer, {childList: true});\n",
       "}}\n",
       "\n",
       "// Listen for the clearing of the current output cell\n",
       "var outputEl = gd.closest('.output');\n",
       "if (outputEl) {{\n",
       "    x.observe(outputEl, {childList: true});\n",
       "}}\n",
       "\n",
       "                        })                };                });            </script>        </div>"
      ]
     },
     "metadata": {},
     "output_type": "display_data"
    }
   ],
   "source": [
    "asielverzoeken= go.Bar(\n",
    "    x = pd_total_permits_and_request['Jaar'],\n",
    "    y = pd_total_permits_and_request['Totaal asielverzoeken (aantal)']\n",
    ")\n",
    "\n",
    "verblijfvergunningen = go.Bar(\n",
    "    x = pd_total_permits_and_request['Jaar'],\n",
    "    y = pd_total_permits_and_request['Verblijfsvergunningen']\n",
    ")\n",
    "\n",
    "\n",
    "\n",
    "\n",
    "\n",
    "\n",
    "layout = go.Layout(\n",
    "    plot_bgcolor='#e8ecf4',\n",
    "    paper_bgcolor='white',\n",
    "    title=dict(\n",
    "        text='Aantal asielverzoeken en verblijfvergunningen per jaar 2013-2021',\n",
    "        font=dict(\n",
    "            color='rgb(42,63,95)'\n",
    "        )\n",
    "    ),\n",
    "    xaxis=go.layout.XAxis(\n",
    "        type='category',\n",
    "        title=dict(\n",
    "            text='Jaar',\n",
    "            font=dict(\n",
    "                color='rgb(42,63,95)'\n",
    "            )\n",
    "        ),\n",
    "        tickfont=dict(\n",
    "            color='rgb(42,63,95)'\n",
    "        )\n",
    "    ),\n",
    "    yaxis=go.layout.YAxis(\n",
    "        title=dict(\n",
    "            text='Asielverzoeken en Verblijfvergunningen',\n",
    "            font=dict(\n",
    "                color='rgb(42,63,95)'\n",
    "            )\n",
    "        ),\n",
    "        tickfont=dict(\n",
    "            color='rgb(42,63,95)'\n",
    "        ),\n",
    "\n",
    "    ),\n",
    "\n",
    "    legend=dict(\n",
    "        font=dict(\n",
    "            color='rgb(42,63,95)'\n",
    "        ),\n",
    "        bgcolor='white',\n",
    "    ),\n",
    "\n",
    "\n",
    "\n",
    ")\n",
    "asielverzoeken.marker.color = 'rgb(102,194,165)'\n",
    "verblijfvergunningen.marker.color = 'rgb(252,141,98)'\n",
    "asielverzoeken.name = 'Totaal aantal asielverzoeken'\n",
    "verblijfvergunningen.name = 'Totaal aantal verblijfvergunningen'\n",
    "\n",
    "fig = go.Figure(data=[asielverzoeken, verblijfvergunningen], layout=layout)\n",
    "fig.show()\n",
    "#Belanrijk!!: Generatieve Kunstmatige intelligentie (KI) (ChatGPT met GPT 3.5) was gebruikt voor het creëren van deze opdracht. Met als doel het genereren van nieuwe, en het verbeteren van bestaande code. Zie de promps en terug gekregen antwoorden in de appendix"
   ]
  },
  {
   "cell_type": "markdown",
   "metadata": {},
   "source": [
    "# Figuur 3: Verblijfsvergunningen toegekend voor asiel voor bepaalde tijd per maand\n",
    "\n",
    "## Visualisatie 3:\n",
    "Voor: Er lijkt een stijgende trend in de hoeveelheid verblijfsvergunningen die voor bepaalde tijd toegekend worden te zitten. Nederland krijgt dus meer asielzoekers dan in het verleden.\n",
    "Tegen: Er is geen duidelijk blijvende stijging in het aantal tijdelijke verblijfsvergunningen, enkel het begin van een stijgende lijn die net als na de piek in 2016 weer naar beneden kan gaan. Verder zijn deze verblijfsvergunningen tijdelijk, en blijven deze mensen dus niet permanent in Nederland.\n"
   ]
  },
  {
   "cell_type": "code",
   "execution_count": 42,
   "metadata": {
    "tags": [
     "hide_input"
    ]
   },
   "outputs": [
    {
     "name": "stderr",
     "output_type": "stream",
     "text": [
      "C:\\Users\\Dario\\AppData\\Local\\Temp\\ipykernel_30992\\1120109641.py:4: FutureWarning:\n",
      "\n",
      "The default value of numeric_only in DataFrameGroupBy.sum is deprecated. In a future version, numeric_only will default to False. Either specify numeric_only or select only columns which should be valid for the function.\n",
      "\n"
     ]
    }
   ],
   "source": [
    "data_permits_total = pd.read_csv('totaalverblijfvergunningen.csv')\n",
    "\n",
    "data_permits_total.head()\n",
    "reasons =data_permits_total.groupby(by=['Nationaliteit'], as_index = False).sum()\n",
    "reasons.head()\n",
    "\n",
    "total = reasons['Verblijfsvergunning regulier naar motief Totaal verblijfsvergunning regulier (aantal)'] + reasons['Verblijfsvergunning asiel Totaal verblijfsvergunningen asiel (aantal)']"
   ]
  },
  {
   "cell_type": "markdown",
   "metadata": {},
   "source": [
    "You can also plot the data using static visualizations, such as the [seaborn](https://seaborn.pydata.org/#) library."
   ]
  },
  {
   "cell_type": "code",
   "execution_count": 43,
   "metadata": {
    "tags": [
     "hide_input"
    ]
   },
   "outputs": [
    {
     "name": "stdout",
     "output_type": "stream",
     "text": [
      "0    79.395041\n",
      "dtype: float64\n"
     ]
    },
    {
     "data": {
      "application/vnd.plotly.v1+json": {
       "config": {
        "plotlyServerURL": "https://plot.ly"
       },
       "data": [
        {
         "hole": 0.6,
         "hovertemplate": "House type: %{label}<br>Percentage: %{percent}",
         "insidetextfont": {
          "color": "white"
         },
         "labels": [
          "Totale aantal Verblijfsvergunning voor asiel",
          "Totale aantal Verblijfsvergunning niet voor asiel"
         ],
         "textfont": {
          "color": "rgb(42,63,95)"
         },
         "textinfo": "label+percent",
         "textposition": "none",
         "type": "pie",
         "values": [
          20.604959204129237,
          79.39504079587077
         ]
        }
       ],
       "layout": {
        "height": 600,
        "legend": {
         "font": {
          "color": "rgb(42,63,95)"
         }
        },
        "paper_bgcolor": "white",
        "showlegend": true,
        "template": {
         "data": {
          "bar": [
           {
            "error_x": {
             "color": "#f2f5fa"
            },
            "error_y": {
             "color": "#f2f5fa"
            },
            "marker": {
             "line": {
              "color": "rgb(17,17,17)",
              "width": 0.5
             },
             "pattern": {
              "fillmode": "overlay",
              "size": 10,
              "solidity": 0.2
             }
            },
            "type": "bar"
           }
          ],
          "barpolar": [
           {
            "marker": {
             "line": {
              "color": "rgb(17,17,17)",
              "width": 0.5
             },
             "pattern": {
              "fillmode": "overlay",
              "size": 10,
              "solidity": 0.2
             }
            },
            "type": "barpolar"
           }
          ],
          "carpet": [
           {
            "aaxis": {
             "endlinecolor": "#A2B1C6",
             "gridcolor": "#506784",
             "linecolor": "#506784",
             "minorgridcolor": "#506784",
             "startlinecolor": "#A2B1C6"
            },
            "baxis": {
             "endlinecolor": "#A2B1C6",
             "gridcolor": "#506784",
             "linecolor": "#506784",
             "minorgridcolor": "#506784",
             "startlinecolor": "#A2B1C6"
            },
            "type": "carpet"
           }
          ],
          "choropleth": [
           {
            "colorbar": {
             "outlinewidth": 0,
             "ticks": ""
            },
            "type": "choropleth"
           }
          ],
          "contour": [
           {
            "colorbar": {
             "outlinewidth": 0,
             "ticks": ""
            },
            "colorscale": [
             [
              0,
              "#0d0887"
             ],
             [
              0.1111111111111111,
              "#46039f"
             ],
             [
              0.2222222222222222,
              "#7201a8"
             ],
             [
              0.3333333333333333,
              "#9c179e"
             ],
             [
              0.4444444444444444,
              "#bd3786"
             ],
             [
              0.5555555555555556,
              "#d8576b"
             ],
             [
              0.6666666666666666,
              "#ed7953"
             ],
             [
              0.7777777777777778,
              "#fb9f3a"
             ],
             [
              0.8888888888888888,
              "#fdca26"
             ],
             [
              1,
              "#f0f921"
             ]
            ],
            "type": "contour"
           }
          ],
          "contourcarpet": [
           {
            "colorbar": {
             "outlinewidth": 0,
             "ticks": ""
            },
            "type": "contourcarpet"
           }
          ],
          "heatmap": [
           {
            "colorbar": {
             "outlinewidth": 0,
             "ticks": ""
            },
            "colorscale": [
             [
              0,
              "#0d0887"
             ],
             [
              0.1111111111111111,
              "#46039f"
             ],
             [
              0.2222222222222222,
              "#7201a8"
             ],
             [
              0.3333333333333333,
              "#9c179e"
             ],
             [
              0.4444444444444444,
              "#bd3786"
             ],
             [
              0.5555555555555556,
              "#d8576b"
             ],
             [
              0.6666666666666666,
              "#ed7953"
             ],
             [
              0.7777777777777778,
              "#fb9f3a"
             ],
             [
              0.8888888888888888,
              "#fdca26"
             ],
             [
              1,
              "#f0f921"
             ]
            ],
            "type": "heatmap"
           }
          ],
          "heatmapgl": [
           {
            "colorbar": {
             "outlinewidth": 0,
             "ticks": ""
            },
            "colorscale": [
             [
              0,
              "#0d0887"
             ],
             [
              0.1111111111111111,
              "#46039f"
             ],
             [
              0.2222222222222222,
              "#7201a8"
             ],
             [
              0.3333333333333333,
              "#9c179e"
             ],
             [
              0.4444444444444444,
              "#bd3786"
             ],
             [
              0.5555555555555556,
              "#d8576b"
             ],
             [
              0.6666666666666666,
              "#ed7953"
             ],
             [
              0.7777777777777778,
              "#fb9f3a"
             ],
             [
              0.8888888888888888,
              "#fdca26"
             ],
             [
              1,
              "#f0f921"
             ]
            ],
            "type": "heatmapgl"
           }
          ],
          "histogram": [
           {
            "marker": {
             "pattern": {
              "fillmode": "overlay",
              "size": 10,
              "solidity": 0.2
             }
            },
            "type": "histogram"
           }
          ],
          "histogram2d": [
           {
            "colorbar": {
             "outlinewidth": 0,
             "ticks": ""
            },
            "colorscale": [
             [
              0,
              "#0d0887"
             ],
             [
              0.1111111111111111,
              "#46039f"
             ],
             [
              0.2222222222222222,
              "#7201a8"
             ],
             [
              0.3333333333333333,
              "#9c179e"
             ],
             [
              0.4444444444444444,
              "#bd3786"
             ],
             [
              0.5555555555555556,
              "#d8576b"
             ],
             [
              0.6666666666666666,
              "#ed7953"
             ],
             [
              0.7777777777777778,
              "#fb9f3a"
             ],
             [
              0.8888888888888888,
              "#fdca26"
             ],
             [
              1,
              "#f0f921"
             ]
            ],
            "type": "histogram2d"
           }
          ],
          "histogram2dcontour": [
           {
            "colorbar": {
             "outlinewidth": 0,
             "ticks": ""
            },
            "colorscale": [
             [
              0,
              "#0d0887"
             ],
             [
              0.1111111111111111,
              "#46039f"
             ],
             [
              0.2222222222222222,
              "#7201a8"
             ],
             [
              0.3333333333333333,
              "#9c179e"
             ],
             [
              0.4444444444444444,
              "#bd3786"
             ],
             [
              0.5555555555555556,
              "#d8576b"
             ],
             [
              0.6666666666666666,
              "#ed7953"
             ],
             [
              0.7777777777777778,
              "#fb9f3a"
             ],
             [
              0.8888888888888888,
              "#fdca26"
             ],
             [
              1,
              "#f0f921"
             ]
            ],
            "type": "histogram2dcontour"
           }
          ],
          "mesh3d": [
           {
            "colorbar": {
             "outlinewidth": 0,
             "ticks": ""
            },
            "type": "mesh3d"
           }
          ],
          "parcoords": [
           {
            "line": {
             "colorbar": {
              "outlinewidth": 0,
              "ticks": ""
             }
            },
            "type": "parcoords"
           }
          ],
          "pie": [
           {
            "automargin": true,
            "type": "pie"
           }
          ],
          "scatter": [
           {
            "marker": {
             "line": {
              "color": "#283442"
             }
            },
            "type": "scatter"
           }
          ],
          "scatter3d": [
           {
            "line": {
             "colorbar": {
              "outlinewidth": 0,
              "ticks": ""
             }
            },
            "marker": {
             "colorbar": {
              "outlinewidth": 0,
              "ticks": ""
             }
            },
            "type": "scatter3d"
           }
          ],
          "scattercarpet": [
           {
            "marker": {
             "colorbar": {
              "outlinewidth": 0,
              "ticks": ""
             }
            },
            "type": "scattercarpet"
           }
          ],
          "scattergeo": [
           {
            "marker": {
             "colorbar": {
              "outlinewidth": 0,
              "ticks": ""
             }
            },
            "type": "scattergeo"
           }
          ],
          "scattergl": [
           {
            "marker": {
             "line": {
              "color": "#283442"
             }
            },
            "type": "scattergl"
           }
          ],
          "scattermapbox": [
           {
            "marker": {
             "colorbar": {
              "outlinewidth": 0,
              "ticks": ""
             }
            },
            "type": "scattermapbox"
           }
          ],
          "scatterpolar": [
           {
            "marker": {
             "colorbar": {
              "outlinewidth": 0,
              "ticks": ""
             }
            },
            "type": "scatterpolar"
           }
          ],
          "scatterpolargl": [
           {
            "marker": {
             "colorbar": {
              "outlinewidth": 0,
              "ticks": ""
             }
            },
            "type": "scatterpolargl"
           }
          ],
          "scatterternary": [
           {
            "marker": {
             "colorbar": {
              "outlinewidth": 0,
              "ticks": ""
             }
            },
            "type": "scatterternary"
           }
          ],
          "surface": [
           {
            "colorbar": {
             "outlinewidth": 0,
             "ticks": ""
            },
            "colorscale": [
             [
              0,
              "#0d0887"
             ],
             [
              0.1111111111111111,
              "#46039f"
             ],
             [
              0.2222222222222222,
              "#7201a8"
             ],
             [
              0.3333333333333333,
              "#9c179e"
             ],
             [
              0.4444444444444444,
              "#bd3786"
             ],
             [
              0.5555555555555556,
              "#d8576b"
             ],
             [
              0.6666666666666666,
              "#ed7953"
             ],
             [
              0.7777777777777778,
              "#fb9f3a"
             ],
             [
              0.8888888888888888,
              "#fdca26"
             ],
             [
              1,
              "#f0f921"
             ]
            ],
            "type": "surface"
           }
          ],
          "table": [
           {
            "cells": {
             "fill": {
              "color": "#506784"
             },
             "line": {
              "color": "rgb(17,17,17)"
             }
            },
            "header": {
             "fill": {
              "color": "#2a3f5f"
             },
             "line": {
              "color": "rgb(17,17,17)"
             }
            },
            "type": "table"
           }
          ]
         },
         "layout": {
          "annotationdefaults": {
           "arrowcolor": "#f2f5fa",
           "arrowhead": 0,
           "arrowwidth": 1
          },
          "autotypenumbers": "strict",
          "coloraxis": {
           "colorbar": {
            "outlinewidth": 0,
            "ticks": ""
           }
          },
          "colorscale": {
           "diverging": [
            [
             0,
             "#8e0152"
            ],
            [
             0.1,
             "#c51b7d"
            ],
            [
             0.2,
             "#de77ae"
            ],
            [
             0.3,
             "#f1b6da"
            ],
            [
             0.4,
             "#fde0ef"
            ],
            [
             0.5,
             "#f7f7f7"
            ],
            [
             0.6,
             "#e6f5d0"
            ],
            [
             0.7,
             "#b8e186"
            ],
            [
             0.8,
             "#7fbc41"
            ],
            [
             0.9,
             "#4d9221"
            ],
            [
             1,
             "#276419"
            ]
           ],
           "sequential": [
            [
             0,
             "#0d0887"
            ],
            [
             0.1111111111111111,
             "#46039f"
            ],
            [
             0.2222222222222222,
             "#7201a8"
            ],
            [
             0.3333333333333333,
             "#9c179e"
            ],
            [
             0.4444444444444444,
             "#bd3786"
            ],
            [
             0.5555555555555556,
             "#d8576b"
            ],
            [
             0.6666666666666666,
             "#ed7953"
            ],
            [
             0.7777777777777778,
             "#fb9f3a"
            ],
            [
             0.8888888888888888,
             "#fdca26"
            ],
            [
             1,
             "#f0f921"
            ]
           ],
           "sequentialminus": [
            [
             0,
             "#0d0887"
            ],
            [
             0.1111111111111111,
             "#46039f"
            ],
            [
             0.2222222222222222,
             "#7201a8"
            ],
            [
             0.3333333333333333,
             "#9c179e"
            ],
            [
             0.4444444444444444,
             "#bd3786"
            ],
            [
             0.5555555555555556,
             "#d8576b"
            ],
            [
             0.6666666666666666,
             "#ed7953"
            ],
            [
             0.7777777777777778,
             "#fb9f3a"
            ],
            [
             0.8888888888888888,
             "#fdca26"
            ],
            [
             1,
             "#f0f921"
            ]
           ]
          },
          "colorway": [
           "#636efa",
           "#EF553B",
           "#00cc96",
           "#ab63fa",
           "#FFA15A",
           "#19d3f3",
           "#FF6692",
           "#B6E880",
           "#FF97FF",
           "#FECB52"
          ],
          "font": {
           "color": "#f2f5fa"
          },
          "geo": {
           "bgcolor": "rgb(17,17,17)",
           "lakecolor": "rgb(17,17,17)",
           "landcolor": "rgb(17,17,17)",
           "showlakes": true,
           "showland": true,
           "subunitcolor": "#506784"
          },
          "hoverlabel": {
           "align": "left"
          },
          "hovermode": "closest",
          "mapbox": {
           "style": "dark"
          },
          "paper_bgcolor": "rgb(17,17,17)",
          "plot_bgcolor": "rgb(17,17,17)",
          "polar": {
           "angularaxis": {
            "gridcolor": "#506784",
            "linecolor": "#506784",
            "ticks": ""
           },
           "bgcolor": "rgb(17,17,17)",
           "radialaxis": {
            "gridcolor": "#506784",
            "linecolor": "#506784",
            "ticks": ""
           }
          },
          "scene": {
           "xaxis": {
            "backgroundcolor": "rgb(17,17,17)",
            "gridcolor": "#506784",
            "gridwidth": 2,
            "linecolor": "#506784",
            "showbackground": true,
            "ticks": "",
            "zerolinecolor": "#C8D4E3"
           },
           "yaxis": {
            "backgroundcolor": "rgb(17,17,17)",
            "gridcolor": "#506784",
            "gridwidth": 2,
            "linecolor": "#506784",
            "showbackground": true,
            "ticks": "",
            "zerolinecolor": "#C8D4E3"
           },
           "zaxis": {
            "backgroundcolor": "rgb(17,17,17)",
            "gridcolor": "#506784",
            "gridwidth": 2,
            "linecolor": "#506784",
            "showbackground": true,
            "ticks": "",
            "zerolinecolor": "#C8D4E3"
           }
          },
          "shapedefaults": {
           "line": {
            "color": "#f2f5fa"
           }
          },
          "sliderdefaults": {
           "bgcolor": "#C8D4E3",
           "bordercolor": "rgb(17,17,17)",
           "borderwidth": 1,
           "tickwidth": 0
          },
          "ternary": {
           "aaxis": {
            "gridcolor": "#506784",
            "linecolor": "#506784",
            "ticks": ""
           },
           "baxis": {
            "gridcolor": "#506784",
            "linecolor": "#506784",
            "ticks": ""
           },
           "bgcolor": "rgb(17,17,17)",
           "caxis": {
            "gridcolor": "#506784",
            "linecolor": "#506784",
            "ticks": ""
           }
          },
          "title": {
           "x": 0.05
          },
          "updatemenudefaults": {
           "bgcolor": "#506784",
           "borderwidth": 0
          },
          "xaxis": {
           "automargin": true,
           "gridcolor": "#283442",
           "linecolor": "#506784",
           "ticks": "",
           "title": {
            "standoff": 15
           },
           "zerolinecolor": "#283442",
           "zerolinewidth": 2
          },
          "yaxis": {
           "automargin": true,
           "gridcolor": "#283442",
           "linecolor": "#506784",
           "ticks": "",
           "title": {
            "standoff": 15
           },
           "zerolinecolor": "#283442",
           "zerolinewidth": 2
          }
         }
        },
        "title": {
         "font": {
          "color": "rgb(42,63,95)"
         },
         "text": "Verblijfsvergunningen per reden 2008-2021"
        }
       }
      },
      "text/html": [
       "<div>                            <div id=\"52644876-0801-4de4-ba89-3aa23fcd6e37\" class=\"plotly-graph-div\" style=\"height:600px; width:100%;\"></div>            <script type=\"text/javascript\">                require([\"plotly\"], function(Plotly) {                    window.PLOTLYENV=window.PLOTLYENV || {};                                    if (document.getElementById(\"52644876-0801-4de4-ba89-3aa23fcd6e37\")) {                    Plotly.newPlot(                        \"52644876-0801-4de4-ba89-3aa23fcd6e37\",                        [{\"hole\":0.6,\"hovertemplate\":\"House type: %{label}<br>Percentage: %{percent}\",\"insidetextfont\":{\"color\":\"white\"},\"labels\":[\"Totale aantal Verblijfsvergunning voor asiel\",\"Totale aantal Verblijfsvergunning niet voor asiel\"],\"textfont\":{\"color\":\"rgb(42,63,95)\"},\"textinfo\":\"label+percent\",\"textposition\":\"none\",\"values\":[20.604959204129237,79.39504079587077],\"type\":\"pie\"}],                        {\"template\":{\"data\":{\"histogram2dcontour\":[{\"type\":\"histogram2dcontour\",\"colorbar\":{\"outlinewidth\":0,\"ticks\":\"\"},\"colorscale\":[[0.0,\"#0d0887\"],[0.1111111111111111,\"#46039f\"],[0.2222222222222222,\"#7201a8\"],[0.3333333333333333,\"#9c179e\"],[0.4444444444444444,\"#bd3786\"],[0.5555555555555556,\"#d8576b\"],[0.6666666666666666,\"#ed7953\"],[0.7777777777777778,\"#fb9f3a\"],[0.8888888888888888,\"#fdca26\"],[1.0,\"#f0f921\"]]}],\"choropleth\":[{\"type\":\"choropleth\",\"colorbar\":{\"outlinewidth\":0,\"ticks\":\"\"}}],\"histogram2d\":[{\"type\":\"histogram2d\",\"colorbar\":{\"outlinewidth\":0,\"ticks\":\"\"},\"colorscale\":[[0.0,\"#0d0887\"],[0.1111111111111111,\"#46039f\"],[0.2222222222222222,\"#7201a8\"],[0.3333333333333333,\"#9c179e\"],[0.4444444444444444,\"#bd3786\"],[0.5555555555555556,\"#d8576b\"],[0.6666666666666666,\"#ed7953\"],[0.7777777777777778,\"#fb9f3a\"],[0.8888888888888888,\"#fdca26\"],[1.0,\"#f0f921\"]]}],\"heatmap\":[{\"type\":\"heatmap\",\"colorbar\":{\"outlinewidth\":0,\"ticks\":\"\"},\"colorscale\":[[0.0,\"#0d0887\"],[0.1111111111111111,\"#46039f\"],[0.2222222222222222,\"#7201a8\"],[0.3333333333333333,\"#9c179e\"],[0.4444444444444444,\"#bd3786\"],[0.5555555555555556,\"#d8576b\"],[0.6666666666666666,\"#ed7953\"],[0.7777777777777778,\"#fb9f3a\"],[0.8888888888888888,\"#fdca26\"],[1.0,\"#f0f921\"]]}],\"heatmapgl\":[{\"type\":\"heatmapgl\",\"colorbar\":{\"outlinewidth\":0,\"ticks\":\"\"},\"colorscale\":[[0.0,\"#0d0887\"],[0.1111111111111111,\"#46039f\"],[0.2222222222222222,\"#7201a8\"],[0.3333333333333333,\"#9c179e\"],[0.4444444444444444,\"#bd3786\"],[0.5555555555555556,\"#d8576b\"],[0.6666666666666666,\"#ed7953\"],[0.7777777777777778,\"#fb9f3a\"],[0.8888888888888888,\"#fdca26\"],[1.0,\"#f0f921\"]]}],\"contourcarpet\":[{\"type\":\"contourcarpet\",\"colorbar\":{\"outlinewidth\":0,\"ticks\":\"\"}}],\"contour\":[{\"type\":\"contour\",\"colorbar\":{\"outlinewidth\":0,\"ticks\":\"\"},\"colorscale\":[[0.0,\"#0d0887\"],[0.1111111111111111,\"#46039f\"],[0.2222222222222222,\"#7201a8\"],[0.3333333333333333,\"#9c179e\"],[0.4444444444444444,\"#bd3786\"],[0.5555555555555556,\"#d8576b\"],[0.6666666666666666,\"#ed7953\"],[0.7777777777777778,\"#fb9f3a\"],[0.8888888888888888,\"#fdca26\"],[1.0,\"#f0f921\"]]}],\"surface\":[{\"type\":\"surface\",\"colorbar\":{\"outlinewidth\":0,\"ticks\":\"\"},\"colorscale\":[[0.0,\"#0d0887\"],[0.1111111111111111,\"#46039f\"],[0.2222222222222222,\"#7201a8\"],[0.3333333333333333,\"#9c179e\"],[0.4444444444444444,\"#bd3786\"],[0.5555555555555556,\"#d8576b\"],[0.6666666666666666,\"#ed7953\"],[0.7777777777777778,\"#fb9f3a\"],[0.8888888888888888,\"#fdca26\"],[1.0,\"#f0f921\"]]}],\"mesh3d\":[{\"type\":\"mesh3d\",\"colorbar\":{\"outlinewidth\":0,\"ticks\":\"\"}}],\"scatter\":[{\"marker\":{\"line\":{\"color\":\"#283442\"}},\"type\":\"scatter\"}],\"parcoords\":[{\"type\":\"parcoords\",\"line\":{\"colorbar\":{\"outlinewidth\":0,\"ticks\":\"\"}}}],\"scatterpolargl\":[{\"type\":\"scatterpolargl\",\"marker\":{\"colorbar\":{\"outlinewidth\":0,\"ticks\":\"\"}}}],\"bar\":[{\"error_x\":{\"color\":\"#f2f5fa\"},\"error_y\":{\"color\":\"#f2f5fa\"},\"marker\":{\"line\":{\"color\":\"rgb(17,17,17)\",\"width\":0.5},\"pattern\":{\"fillmode\":\"overlay\",\"size\":10,\"solidity\":0.2}},\"type\":\"bar\"}],\"scattergeo\":[{\"type\":\"scattergeo\",\"marker\":{\"colorbar\":{\"outlinewidth\":0,\"ticks\":\"\"}}}],\"scatterpolar\":[{\"type\":\"scatterpolar\",\"marker\":{\"colorbar\":{\"outlinewidth\":0,\"ticks\":\"\"}}}],\"histogram\":[{\"marker\":{\"pattern\":{\"fillmode\":\"overlay\",\"size\":10,\"solidity\":0.2}},\"type\":\"histogram\"}],\"scattergl\":[{\"marker\":{\"line\":{\"color\":\"#283442\"}},\"type\":\"scattergl\"}],\"scatter3d\":[{\"type\":\"scatter3d\",\"line\":{\"colorbar\":{\"outlinewidth\":0,\"ticks\":\"\"}},\"marker\":{\"colorbar\":{\"outlinewidth\":0,\"ticks\":\"\"}}}],\"scattermapbox\":[{\"type\":\"scattermapbox\",\"marker\":{\"colorbar\":{\"outlinewidth\":0,\"ticks\":\"\"}}}],\"scatterternary\":[{\"type\":\"scatterternary\",\"marker\":{\"colorbar\":{\"outlinewidth\":0,\"ticks\":\"\"}}}],\"scattercarpet\":[{\"type\":\"scattercarpet\",\"marker\":{\"colorbar\":{\"outlinewidth\":0,\"ticks\":\"\"}}}],\"carpet\":[{\"aaxis\":{\"endlinecolor\":\"#A2B1C6\",\"gridcolor\":\"#506784\",\"linecolor\":\"#506784\",\"minorgridcolor\":\"#506784\",\"startlinecolor\":\"#A2B1C6\"},\"baxis\":{\"endlinecolor\":\"#A2B1C6\",\"gridcolor\":\"#506784\",\"linecolor\":\"#506784\",\"minorgridcolor\":\"#506784\",\"startlinecolor\":\"#A2B1C6\"},\"type\":\"carpet\"}],\"table\":[{\"cells\":{\"fill\":{\"color\":\"#506784\"},\"line\":{\"color\":\"rgb(17,17,17)\"}},\"header\":{\"fill\":{\"color\":\"#2a3f5f\"},\"line\":{\"color\":\"rgb(17,17,17)\"}},\"type\":\"table\"}],\"barpolar\":[{\"marker\":{\"line\":{\"color\":\"rgb(17,17,17)\",\"width\":0.5},\"pattern\":{\"fillmode\":\"overlay\",\"size\":10,\"solidity\":0.2}},\"type\":\"barpolar\"}],\"pie\":[{\"automargin\":true,\"type\":\"pie\"}]},\"layout\":{\"autotypenumbers\":\"strict\",\"colorway\":[\"#636efa\",\"#EF553B\",\"#00cc96\",\"#ab63fa\",\"#FFA15A\",\"#19d3f3\",\"#FF6692\",\"#B6E880\",\"#FF97FF\",\"#FECB52\"],\"font\":{\"color\":\"#f2f5fa\"},\"hovermode\":\"closest\",\"hoverlabel\":{\"align\":\"left\"},\"paper_bgcolor\":\"rgb(17,17,17)\",\"plot_bgcolor\":\"rgb(17,17,17)\",\"polar\":{\"bgcolor\":\"rgb(17,17,17)\",\"angularaxis\":{\"gridcolor\":\"#506784\",\"linecolor\":\"#506784\",\"ticks\":\"\"},\"radialaxis\":{\"gridcolor\":\"#506784\",\"linecolor\":\"#506784\",\"ticks\":\"\"}},\"ternary\":{\"bgcolor\":\"rgb(17,17,17)\",\"aaxis\":{\"gridcolor\":\"#506784\",\"linecolor\":\"#506784\",\"ticks\":\"\"},\"baxis\":{\"gridcolor\":\"#506784\",\"linecolor\":\"#506784\",\"ticks\":\"\"},\"caxis\":{\"gridcolor\":\"#506784\",\"linecolor\":\"#506784\",\"ticks\":\"\"}},\"coloraxis\":{\"colorbar\":{\"outlinewidth\":0,\"ticks\":\"\"}},\"colorscale\":{\"sequential\":[[0.0,\"#0d0887\"],[0.1111111111111111,\"#46039f\"],[0.2222222222222222,\"#7201a8\"],[0.3333333333333333,\"#9c179e\"],[0.4444444444444444,\"#bd3786\"],[0.5555555555555556,\"#d8576b\"],[0.6666666666666666,\"#ed7953\"],[0.7777777777777778,\"#fb9f3a\"],[0.8888888888888888,\"#fdca26\"],[1.0,\"#f0f921\"]],\"sequentialminus\":[[0.0,\"#0d0887\"],[0.1111111111111111,\"#46039f\"],[0.2222222222222222,\"#7201a8\"],[0.3333333333333333,\"#9c179e\"],[0.4444444444444444,\"#bd3786\"],[0.5555555555555556,\"#d8576b\"],[0.6666666666666666,\"#ed7953\"],[0.7777777777777778,\"#fb9f3a\"],[0.8888888888888888,\"#fdca26\"],[1.0,\"#f0f921\"]],\"diverging\":[[0,\"#8e0152\"],[0.1,\"#c51b7d\"],[0.2,\"#de77ae\"],[0.3,\"#f1b6da\"],[0.4,\"#fde0ef\"],[0.5,\"#f7f7f7\"],[0.6,\"#e6f5d0\"],[0.7,\"#b8e186\"],[0.8,\"#7fbc41\"],[0.9,\"#4d9221\"],[1,\"#276419\"]]},\"xaxis\":{\"gridcolor\":\"#283442\",\"linecolor\":\"#506784\",\"ticks\":\"\",\"title\":{\"standoff\":15},\"zerolinecolor\":\"#283442\",\"automargin\":true,\"zerolinewidth\":2},\"yaxis\":{\"gridcolor\":\"#283442\",\"linecolor\":\"#506784\",\"ticks\":\"\",\"title\":{\"standoff\":15},\"zerolinecolor\":\"#283442\",\"automargin\":true,\"zerolinewidth\":2},\"scene\":{\"xaxis\":{\"backgroundcolor\":\"rgb(17,17,17)\",\"gridcolor\":\"#506784\",\"linecolor\":\"#506784\",\"showbackground\":true,\"ticks\":\"\",\"zerolinecolor\":\"#C8D4E3\",\"gridwidth\":2},\"yaxis\":{\"backgroundcolor\":\"rgb(17,17,17)\",\"gridcolor\":\"#506784\",\"linecolor\":\"#506784\",\"showbackground\":true,\"ticks\":\"\",\"zerolinecolor\":\"#C8D4E3\",\"gridwidth\":2},\"zaxis\":{\"backgroundcolor\":\"rgb(17,17,17)\",\"gridcolor\":\"#506784\",\"linecolor\":\"#506784\",\"showbackground\":true,\"ticks\":\"\",\"zerolinecolor\":\"#C8D4E3\",\"gridwidth\":2}},\"shapedefaults\":{\"line\":{\"color\":\"#f2f5fa\"}},\"annotationdefaults\":{\"arrowcolor\":\"#f2f5fa\",\"arrowhead\":0,\"arrowwidth\":1},\"geo\":{\"bgcolor\":\"rgb(17,17,17)\",\"landcolor\":\"rgb(17,17,17)\",\"subunitcolor\":\"#506784\",\"showland\":true,\"showlakes\":true,\"lakecolor\":\"rgb(17,17,17)\"},\"title\":{\"x\":0.05},\"updatemenudefaults\":{\"bgcolor\":\"#506784\",\"borderwidth\":0},\"sliderdefaults\":{\"bgcolor\":\"#C8D4E3\",\"borderwidth\":1,\"bordercolor\":\"rgb(17,17,17)\",\"tickwidth\":0},\"mapbox\":{\"style\":\"dark\"}}},\"title\":{\"font\":{\"color\":\"rgb(42,63,95)\"},\"text\":\"Verblijfsvergunningen per reden 2008-2021\"},\"legend\":{\"font\":{\"color\":\"rgb(42,63,95)\"}},\"paper_bgcolor\":\"white\",\"showlegend\":true,\"height\":600},                        {\"responsive\": true}                    ).then(function(){\n",
       "                            \n",
       "var gd = document.getElementById('52644876-0801-4de4-ba89-3aa23fcd6e37');\n",
       "var x = new MutationObserver(function (mutations, observer) {{\n",
       "        var display = window.getComputedStyle(gd).display;\n",
       "        if (!display || display === 'none') {{\n",
       "            console.log([gd, 'removed!']);\n",
       "            Plotly.purge(gd);\n",
       "            observer.disconnect();\n",
       "        }}\n",
       "}});\n",
       "\n",
       "// Listen for the removal of the full notebook cells\n",
       "var notebookContainer = gd.closest('#notebook-container');\n",
       "if (notebookContainer) {{\n",
       "    x.observe(notebookContainer, {childList: true});\n",
       "}}\n",
       "\n",
       "// Listen for the clearing of the current output cell\n",
       "var outputEl = gd.closest('.output');\n",
       "if (outputEl) {{\n",
       "    x.observe(outputEl, {childList: true});\n",
       "}}\n",
       "\n",
       "                        })                };                });            </script>        </div>"
      ]
     },
     "metadata": {},
     "output_type": "display_data"
    }
   ],
   "source": [
    "\n",
    "\n",
    "percentages_asiel = ((reasons['Verblijfsvergunning asiel Totaal verblijfsvergunningen asiel (aantal)'] / total) * 100)\n",
    "\n",
    "percentages_regulier = ((reasons['Verblijfsvergunning regulier naar motief Totaal verblijfsvergunning regulier (aantal)'] / total) * 100)\n",
    "print(percentages_regulier)\n",
    "\n",
    "fig = go.Figure(data=[go.Pie(\n",
    "    labels=['Totale aantal Verblijfsvergunning voor asiel', 'Totale aantal Verblijfsvergunning niet voor asiel'],\n",
    "    values=[percentages_asiel[0], percentages_regulier[0]],\n",
    "    hole=0.6,\n",
    "    textposition='none',\n",
    "    textfont=dict(color='rgb(42,63,95)'),\n",
    "    textinfo='label+percent',\n",
    "    insidetextfont=dict(color='white'),\n",
    "    hovertemplate='House type: %{label}<br>Percentage: %{percent}',\n",
    ")])\n",
    "\n",
    "\n",
    "fig.update_layout(\n",
    "    title=dict(\n",
    "        text='Verblijfsvergunningen per reden 2008-2021',\n",
    "        font=dict(\n",
    "            color='rgb(42,63,95)'\n",
    "        )\n",
    "    ),\n",
    "    legend=dict(\n",
    "        font=dict(\n",
    "            color='rgb(42,63,95)'\n",
    "        )\n",
    "    ),\n",
    "    paper_bgcolor='white',\n",
    "    showlegend=True,\n",
    "    height=600,\n",
    ")\n",
    "\n",
    "fig.show()\n",
    "\n",
    "#Belanrijk!!: Generatieve Kunstmatige intelligentie (KI) (ChatGPT met GPT 3.5) was gebruikt voor het creëren van deze opdracht. Met als doel het genereren van nieuwe, en het verbeteren van bestaande code. Zie de promps en terug gekregen antwoorden in de appendix."
   ]
  },
  {
   "cell_type": "markdown",
   "metadata": {},
   "source": []
  },
  {
   "cell_type": "markdown",
   "metadata": {},
   "source": [
    "# Figuur 4: Verblijfsvergunningen per reden 2008-2021"
   ]
  },
  {
   "cell_type": "code",
   "execution_count": 43,
   "metadata": {},
   "outputs": [],
   "source": []
  },
  {
   "cell_type": "markdown",
   "metadata": {},
   "source": [
    "## Beschrijving overige visualisaties\n",
    "\n",
    "Datavisualisatie 5 is een kaart van Europa waarin elk land een kleur op schaal krijgt op basis van de hoeveelheid asielzoekers per duizend inwoners, om zo de verhouding in asielzoekers tegenover totale inwoners te laten zien.\n",
    "\n",
    "Datavisualisatie 6 is een kaart van Europa waarin elk land een kleur op schaal krijgt op basis van de hoeveelheid asielzoekers in verhouding tot totale oppervlakte, om zo de verhouding in asielzoekers tegenover oppervlakte te laten zien. Hierin is het belangrijk om enkel de gebieden binnen Europa te tellen, en niet de oppervlakte van bijvoorbeeld Groenland bij Denemarken in te calculeren."
   ]
  },
  {
   "cell_type": "code",
   "execution_count": 52,
   "metadata": {
    "tags": [
     "hide_input"
    ]
   },
   "outputs": [],
   "source": [
    "data_europe = pd.read_csv('europa_asielzoekers.csv')\n",
    "\n",
    "data_europe['geo'] = data_europe['geo'].str.split(':').str[-1]\n",
    "\n",
    "\n",
    "data_europe_population = pd.read_csv('demo_r_d2jan__custom_6715026_linear.csv')\n",
    "\n",
    "data_europe_population['geo'] = data_europe_population['geo'].str.split(':').str[-1]\n",
    "\n",
    "pd_europe_population_and_migrants = data_europe.merge(data_europe_population, how='inner', on='geo')\n",
    "\n",
    "\n",
    "\n",
    "data_europe_area = pd.read_csv('reg_area3__custom_6715054_linear.csv')\n",
    "\n",
    "data_europe_area['geo'] = data_europe_area['geo'].str.split(':').str[-1]\n",
    "\n",
    "pd_europe_population_and_migrants_and_area = pd_europe_population_and_migrants.merge(data_europe_area, how='inner', on='geo')\n",
    "pd_europe_population_and_migrants_and_area['mean_population'] = pd_europe_population_and_migrants_and_area['OBS_VALUE_x'] / (pd_europe_population_and_migrants_and_area['OBS_VALUE_y'] / 1000)\n",
    "pd_europe_population_and_migrants_and_area['mean_area'] = pd_europe_population_and_migrants_and_area['OBS_VALUE_x'] / (pd_europe_population_and_migrants_and_area['OBS_VALUE'])"
   ]
  },
  {
   "cell_type": "code",
   "execution_count": 47,
   "metadata": {
    "tags": [
     "hide_input"
    ]
   },
   "outputs": [
    {
     "data": {
      "application/vnd.plotly.v1+json": {
       "config": {
        "plotlyServerURL": "https://plot.ly"
       },
       "data": [
        {
         "coloraxis": "coloraxis",
         "geo": "geo",
         "hovertemplate": "TIME_PERIOD_x=2022-06<br>geo=%{location}<br>mean_population=%{z}<extra></extra>",
         "locationmode": "country names",
         "locations": [
          "Austria",
          "Belgium",
          "Bulgaria",
          "Switzerland",
          "Cyprus",
          "Czechia",
          "Germany (until 1990 former territory of the FRG)",
          "Denmark",
          "Estonia",
          "Greece",
          "Spain",
          "Finland",
          "France",
          "Croatia",
          "Hungary",
          "Ireland",
          "Iceland",
          "Italy",
          "Liechtenstein",
          "Lithuania",
          "Luxembourg",
          "Latvia",
          "Montenegro",
          "Malta",
          "Netherlands",
          "Norway",
          "Poland",
          "Portugal",
          "Romania",
          "Sweden",
          "Slovenia",
          "Slovakia"
         ],
         "name": "",
         "type": "choropleth",
         "z": [
          1.0624875193912324,
          0.21648146096667106,
          0.1323305069194233,
          0.18423601159473893,
          2.65832508939378,
          0.009508679855776147,
          0.15551954918576957,
          0.02809266151577786,
          0.11638419097219094,
          0.21224151707941907,
          0.22336820147149786,
          0.03514627428765261,
          0.16346965258462906,
          0.1967736882509279,
          5.160485952641188E-4,
          0.31719342514353743,
          0.8637919670004891,
          0.09639144807618848,
          0,
          0.019600869280733627,
          0.24790942629110452,
          0.034652676226184946,
          0.024284301170665212,
          0.10557209518380102,
          0.14638440191483307,
          0.05529678707234847,
          0.012216417446881888,
          0.012557908864743788,
          0.03098339998702898,
          0.10763154536129088,
          0.33931605273398574,
          0.004600059763976453
         ]
        }
       ],
       "frames": [
        {
         "data": [
          {
           "coloraxis": "coloraxis",
           "geo": "geo",
           "hovertemplate": "TIME_PERIOD_x=2022-06<br>geo=%{location}<br>mean_population=%{z}<extra></extra>",
           "locationmode": "country names",
           "locations": [
            "Austria",
            "Belgium",
            "Bulgaria",
            "Switzerland",
            "Cyprus",
            "Czechia",
            "Germany (until 1990 former territory of the FRG)",
            "Denmark",
            "Estonia",
            "Greece",
            "Spain",
            "Finland",
            "France",
            "Croatia",
            "Hungary",
            "Ireland",
            "Iceland",
            "Italy",
            "Liechtenstein",
            "Lithuania",
            "Luxembourg",
            "Latvia",
            "Montenegro",
            "Malta",
            "Netherlands",
            "Norway",
            "Poland",
            "Portugal",
            "Romania",
            "Sweden",
            "Slovenia",
            "Slovakia"
           ],
           "name": "",
           "type": "choropleth",
           "z": [
            1.0624875193912324,
            0.21648146096667106,
            0.1323305069194233,
            0.18423601159473893,
            2.65832508939378,
            0.009508679855776147,
            0.15551954918576957,
            0.02809266151577786,
            0.11638419097219094,
            0.21224151707941907,
            0.22336820147149786,
            0.03514627428765261,
            0.16346965258462906,
            0.1967736882509279,
            5.160485952641188E-4,
            0.31719342514353743,
            0.8637919670004891,
            0.09639144807618848,
            0,
            0.019600869280733627,
            0.24790942629110452,
            0.034652676226184946,
            0.024284301170665212,
            0.10557209518380102,
            0.14638440191483307,
            0.05529678707234847,
            0.012216417446881888,
            0.012557908864743788,
            0.03098339998702898,
            0.10763154536129088,
            0.33931605273398574,
            0.004600059763976453
           ]
          }
         ],
         "name": "2022-06"
        },
        {
         "data": [
          {
           "coloraxis": "coloraxis",
           "geo": "geo",
           "hovertemplate": "TIME_PERIOD_x=2022-07<br>geo=%{location}<br>mean_population=%{z}<extra></extra>",
           "locationmode": "country names",
           "locations": [
            "Austria",
            "Belgium",
            "Bulgaria",
            "Switzerland",
            "Cyprus",
            "Czechia",
            "Germany (until 1990 former territory of the FRG)",
            "Denmark",
            "Estonia",
            "Greece",
            "Spain",
            "Finland",
            "France",
            "Croatia",
            "Hungary",
            "Ireland",
            "Iceland",
            "Italy",
            "Liechtenstein",
            "Lithuania",
            "Luxembourg",
            "Latvia",
            "Montenegro",
            "Malta",
            "Netherlands",
            "Norway",
            "Poland",
            "Portugal",
            "Romania",
            "Sweden",
            "Slovenia",
            "Slovakia"
           ],
           "name": "",
           "type": "choropleth",
           "z": [
            1.2585019883774557,
            0.22853211883360305,
            0.16449924893298476,
            0.19110194991503976,
            1.956438839179622,
            0.010459547841353762,
            0.1692153611650494,
            0.028943954288983248,
            0.20273375201607452,
            0.20889536703537417,
            0.1843657311815242,
            0.03424508776745639,
            0.1604492579221821,
            0.27315294882201174,
            5.160485952641188E-4,
            0.24999980237169772,
            0.7840573238927516,
            0.08648125525991954,
            0.12720056985855296,
            0.02494656090275189,
            0.2788981045774926,
            0.018659133352561124,
            0.01618953411377681,
            0.06718224238969156,
            0.15576437329966702,
            0.056218400190220945,
            0.0144737989316318,
            0.012074912369945949,
            0.05724051862010439,
            0.09615084718941985,
            0.27050370637534527,
            9.200119527952907E-4
           ]
          }
         ],
         "name": "2022-07"
        },
        {
         "data": [
          {
           "coloraxis": "coloraxis",
           "geo": "geo",
           "hovertemplate": "TIME_PERIOD_x=2022-08<br>geo=%{location}<br>mean_population=%{z}<extra></extra>",
           "locationmode": "country names",
           "locations": [
            "Austria",
            "Belgium",
            "Bulgaria",
            "Switzerland",
            "Cyprus",
            "Czechia",
            "Germany (until 1990 former territory of the FRG)",
            "Denmark",
            "Estonia",
            "Greece",
            "Spain",
            "Finland",
            "France",
            "Croatia",
            "Hungary",
            "Ireland",
            "Iceland",
            "Italy",
            "Liechtenstein",
            "Lithuania",
            "Luxembourg",
            "Latvia",
            "Montenegro",
            "Malta",
            "Netherlands",
            "Norway",
            "Poland",
            "Portugal",
            "Romania",
            "Sweden",
            "Slovenia",
            "Slovakia"
           ],
           "name": "",
           "type": "choropleth",
           "z": [
            1.614335072701878,
            0.27544360838701687,
            0.2770898459804499,
            0.22085434930301,
            1.481145787853499,
            0.010934981834142569,
            0.20453613942740262,
            0.03490300370142098,
            0.2815746555778813,
            0.22801622442991643,
            0.18236290162609312,
            0.040553393408829935,
            0.17533022674692075,
            0.3534159006085744,
            5.160485952641188E-4,
            0.22331998156523197,
            0.6245880376772767,
            0.10138889573567453,
            0.12720056985855296,
            0.017818972073394206,
            0.3486226307218657,
            0.02132472383149843,
            0.01618953411377681,
            0.14396194797791048,
            0.2180132743081106,
            0.09953421673022725,
            0.016200031831734678,
            0.013040905359541626,
            0.06249194234671947,
            0.11528534414253823,
            0.30135062026025305,
            0.011960155386338779
           ]
          }
         ],
         "name": "2022-08"
        },
        {
         "data": [
          {
           "coloraxis": "coloraxis",
           "geo": "geo",
           "hovertemplate": "TIME_PERIOD_x=2022-09<br>geo=%{location}<br>mean_population=%{z}<extra></extra>",
           "locationmode": "country names",
           "locations": [
            "Austria",
            "Belgium",
            "Bulgaria",
            "Switzerland",
            "Cyprus",
            "Czechia",
            "Germany (until 1990 former territory of the FRG)",
            "Denmark",
            "Estonia",
            "Greece",
            "Spain",
            "Finland",
            "France",
            "Croatia",
            "Hungary",
            "Ireland",
            "Iceland",
            "Italy",
            "Liechtenstein",
            "Lithuania",
            "Luxembourg",
            "Latvia",
            "Montenegro",
            "Malta",
            "Netherlands",
            "Norway",
            "Poland",
            "Portugal",
            "Romania",
            "Sweden",
            "Slovenia",
            "Slovakia"
           ],
           "name": "",
           "type": "choropleth",
           "z": [
            1.774153688040077,
            0.31159558198781284,
            0.3648227787447084,
            0.29008589403271007,
            1.7132656501290475,
            0.016640189747608256,
            0.23631282599336326,
            0.035754296474626364,
            0.2778203268368429,
            0.283466710874089,
            0.23190658010254617,
            0.08831627897922964,
            0.19890403874650675,
            0.4776940195038973,
            5.160485952641188E-4,
            0.20948600040632379,
            1.1295741106929473,
            0.13416876428179486,
            0.25440113971710593,
            0.030292252524770153,
            0.46483017429582096,
            0.02132472383149843,
            0.024284301170665212,
            0.15355941117643784,
            0.25183801960493607,
            0.11704486596980426,
            0.016465606124058195,
            0.012557908864743788,
            0.0422739609992514,
            0.12437423019526947,
            0.23016543437200432,
            0.005520071716771744
           ]
          }
         ],
         "name": "2022-09"
        },
        {
         "data": [
          {
           "coloraxis": "coloraxis",
           "geo": "geo",
           "hovertemplate": "TIME_PERIOD_x=2022-10<br>geo=%{location}<br>mean_population=%{z}<extra></extra>",
           "locationmode": "country names",
           "locations": [
            "Austria",
            "Belgium",
            "Bulgaria",
            "Switzerland",
            "Cyprus",
            "Czechia",
            "Germany (until 1990 former territory of the FRG)",
            "Denmark",
            "Estonia",
            "Greece",
            "Spain",
            "Finland",
            "France",
            "Croatia",
            "Hungary",
            "Ireland",
            "Iceland",
            "Italy",
            "Liechtenstein",
            "Lithuania",
            "Luxembourg",
            "Latvia",
            "Montenegro",
            "Malta",
            "Netherlands",
            "Norway",
            "Poland",
            "Portugal",
            "Romania",
            "Sweden",
            "Slovenia",
            "Slovakia"
           ],
           "name": "",
           "type": "choropleth",
           "z": [
            2.028081522863139,
            0.32364623985474483,
            0.40722702958076673,
            0.35245150044210927,
            1.8182722544917955,
            0.012361283812508991,
            0.2992655056174214,
            0.044267224206680264,
            0.38669586032695696,
            0.3116699755310388,
            0.22990375054711507,
            0.10814238242354648,
            0.20155609259646015,
            0.507468985489235,
            5.160485952641188E-4,
            0.2341895381900884,
            1.2624651825391764,
            0.1420460970331881,
            0,
            0.017818972073394206,
            0.457083004724224,
            0.02932149526831034,
            0.024284301170665212,
            0.1919492639705473,
            0.2313726274925711,
            0.13179067585576384,
            0.016332818977896436,
            0.014972891338732978,
            0.03019568642803672,
            0.11050171990425864,
            0.23016543437200432,
            0.011040143433543488
           ]
          }
         ],
         "name": "2022-10"
        },
        {
         "data": [
          {
           "coloraxis": "coloraxis",
           "geo": "geo",
           "hovertemplate": "TIME_PERIOD_x=2022-11<br>geo=%{location}<br>mean_population=%{z}<extra></extra>",
           "locationmode": "country names",
           "locations": [
            "Austria",
            "Belgium",
            "Bulgaria",
            "Switzerland",
            "Cyprus",
            "Czechia",
            "Germany (until 1990 former territory of the FRG)",
            "Denmark",
            "Estonia",
            "Greece",
            "Spain",
            "Finland",
            "France",
            "Croatia",
            "Hungary",
            "Ireland",
            "Iceland",
            "Italy",
            "Liechtenstein",
            "Lithuania",
            "Luxembourg",
            "Latvia",
            "Montenegro",
            "Malta",
            "Netherlands",
            "Norway",
            "Poland",
            "Portugal",
            "Romania",
            "Sweden",
            "Slovenia",
            "Slovakia"
           ],
           "name": "",
           "type": "choropleth",
           "z": [
            1.3080624649109043,
            0.25822838286282834,
            0.29682975585240806,
            0.3925028073105307,
            2.1111854140299875,
            0.007606943884620918,
            0.36510151407922264,
            0.041713345887064095,
            0.3566612303986496,
            0.35947211901739445,
            0.24687509572734687,
            0.05407119121177324,
            0.20715487294636184,
            0.4440353623030807,
            0,
            0.25889307597385297,
            1.3554889328315367,
            0.1549208774440674,
            0.25440113971710593,
            0.014255177658715366,
            0.34087546115026873,
            0.026655904789373037,
            0.024284301170665212,
            0.15355941117643784,
            0.2313726274925711,
            0.10414228231958962,
            0.017660690439514033,
            0.01738787381272217,
            0.028095116937390686,
            0.10284792112301129,
            0.21355555766474627,
            0.008280107575157616
           ]
          }
         ],
         "name": "2022-11"
        },
        {
         "data": [
          {
           "coloraxis": "coloraxis",
           "geo": "geo",
           "hovertemplate": "TIME_PERIOD_x=2022-12<br>geo=%{location}<br>mean_population=%{z}<extra></extra>",
           "locationmode": "country names",
           "locations": [
            "Austria",
            "Belgium",
            "Bulgaria",
            "Switzerland",
            "Cyprus",
            "Czechia",
            "Germany (until 1990 former territory of the FRG)",
            "Denmark",
            "Estonia",
            "Greece",
            "Spain",
            "Finland",
            "France",
            "Croatia",
            "Hungary",
            "Ireland",
            "Iceland",
            "Italy",
            "Liechtenstein",
            "Lithuania",
            "Luxembourg",
            "Latvia",
            "Montenegro",
            "Malta",
            "Netherlands",
            "Norway",
            "Poland",
            "Portugal",
            "Romania",
            "Sweden",
            "Slovenia",
            "Slovakia"
           ],
           "name": "",
           "type": "choropleth",
           "z": [
            0.7656815194774343,
            0.19108900331849296,
            0.17254143443637512,
            0.29523534777293564,
            1.4479858075284209,
            0.006656075899043303,
            0.3204099170942043,
            0.03490300370142098,
            0.29659197054203496,
            0.3962797695018883,
            0.18004383582506764,
            0.03965220688863371,
            0.20229277422144723,
            0.49193422062731973,
            5.160485952641188E-4,
            0.23715396272414013,
            1.5415364334162573,
            0.13543930182234215,
            0.12720056985855296,
            0.016037074866054785,
            0.24790942629110452,
            0.05064621909980877,
            0.04047383528444202,
            0.08637716878674628,
            0.1472371265861816,
            0.07096421007618053,
            0.017262329001028753,
            0.02173484226590271,
            0.025469405074083146,
            0.09280231022262414,
            0.18033580425023019,
            0.007360095622362325
           ]
          }
         ],
         "name": "2022-12"
        },
        {
         "data": [
          {
           "coloraxis": "coloraxis",
           "geo": "geo",
           "hovertemplate": "TIME_PERIOD_x=2023-01<br>geo=%{location}<br>mean_population=%{z}<extra></extra>",
           "locationmode": "country names",
           "locations": [
            "Austria",
            "Belgium",
            "Bulgaria",
            "Switzerland",
            "Cyprus",
            "Czechia",
            "Germany (until 1990 former territory of the FRG)",
            "Denmark",
            "Estonia",
            "Greece",
            "Spain",
            "Finland",
            "France",
            "Croatia",
            "Hungary",
            "Ireland",
            "Italy",
            "Liechtenstein",
            "Lithuania",
            "Luxembourg",
            "Latvia",
            "Montenegro",
            "Malta",
            "Netherlands",
            "Norway",
            "Poland",
            "Portugal",
            "Romania",
            "Sweden",
            "Slovenia",
            "Slovakia"
           ],
           "name": "",
           "type": "choropleth",
           "z": [
            0.4560677559651045,
            0.19668395161385424,
            0.1871635898970849,
            0.2746375328120332,
            0.779259537639341,
            0.010459547841353762,
            0.36582234628865845,
            0.035754296474626364,
            0.42048481899630274,
            0.3284007257512633,
            0.2294821022196559,
            0.053170004691577025,
            0.19919871139650155,
            0.37024522920898273,
            5.160485952641188E-4,
            0.2579049344625024,
            0.14255431204940702,
            0.25440113971710593,
            0.017818972073394206,
            0.2943924437206866,
            0.034652676226184946,
            0.008094767056888405,
            0.08637716878674628,
            0.1412680538867418,
            0.06912098384043558,
            0.017660690439514033,
            0.016904877317924328,
            0.03518453896832104,
            0.09136722295114026,
            0.2040641995463131,
            0.002760035858385872
           ]
          }
         ],
         "name": "2023-01"
        },
        {
         "data": [
          {
           "coloraxis": "coloraxis",
           "geo": "geo",
           "hovertemplate": "TIME_PERIOD_x=2023-02<br>geo=%{location}<br>mean_population=%{z}<extra></extra>",
           "locationmode": "country names",
           "locations": [
            "Austria",
            "Belgium",
            "Bulgaria",
            "Switzerland",
            "Cyprus",
            "Czechia",
            "Germany (until 1990 former territory of the FRG)",
            "Denmark",
            "Estonia",
            "Greece",
            "Spain",
            "Finland",
            "France",
            "Croatia",
            "Hungary",
            "Ireland",
            "Iceland",
            "Italy",
            "Liechtenstein",
            "Lithuania",
            "Luxembourg",
            "Latvia",
            "Montenegro",
            "Malta",
            "Netherlands",
            "Norway",
            "Poland",
            "Portugal",
            "Romania",
            "Sweden",
            "Slovenia",
            "Slovakia"
           ],
           "name": "",
           "type": "choropleth",
           "z": [
            0.27397476915119834,
            0.16655730694652426,
            0.10674173486318123,
            0.1808030424345885,
            0.8842661420020891,
            0.006656075899043303,
            0.30437140043425814,
            0.0408620531138587,
            0.38669586032695696,
            0.22753820299505287,
            0.27069822622879025,
            0.04235576644922238,
            0.15499781389727785,
            0.6498709967234592,
            0,
            0.16403149088419694,
            1.2358869681699305,
            0.16669452531980572,
            0.12720056985855296,
            0.008909486036697103,
            0.24790942629110452,
            0.02399031431043573,
            0.024284301170665212,
            0.04798731599263682,
            0.12449780201688714,
            0.04884549524724115,
            0.013942650346984763,
            0.01642188082312649,
            0.037022537272636324,
            0.09184558537496822,
            0.18270864377983848,
            0.011960155386338779
           ]
          }
         ],
         "name": "2023-02"
        },
        {
         "data": [
          {
           "coloraxis": "coloraxis",
           "geo": "geo",
           "hovertemplate": "TIME_PERIOD_x=2023-03<br>geo=%{location}<br>mean_population=%{z}<extra></extra>",
           "locationmode": "country names",
           "locations": [
            "Austria",
            "Belgium",
            "Bulgaria",
            "Switzerland",
            "Cyprus",
            "Germany (until 1990 former territory of the FRG)",
            "Denmark",
            "Estonia",
            "Greece",
            "Spain",
            "Finland",
            "France",
            "Croatia",
            "Hungary",
            "Ireland",
            "Iceland",
            "Italy",
            "Liechtenstein",
            "Lithuania",
            "Luxembourg",
            "Latvia",
            "Montenegro",
            "Malta",
            "Netherlands",
            "Norway",
            "Poland",
            "Portugal",
            "Romania",
            "Sweden",
            "Slovenia",
            "Slovakia"
           ],
           "name": "",
           "type": "choropleth",
           "z": [
            0.3368998685700711,
            0.17473453907051384,
            0.1908191287622623,
            0.20082869586879926,
            1.856958898204387,
            0.3023891118583098,
            0.02979524706218864,
            0.3942045178090338,
            0.2437909317804138,
            0.3282532229269676,
            0.043256952969418595,
            0.1748882177719285,
            0.9657445489157381,
            0,
            0.16897219844094985,
            1.2757542897237992,
            0.19202057362804856,
            0.12720056985855296,
            0.019600869280733627,
            0.2943924437206866,
            0.013327952394686518,
            0.024284301170665212,
            0.04798731599263682,
            0.1262032513595842,
            0.05990485266171084,
            0.01540330895476412,
            0.01448989484393514,
            0.056977947433773636,
            0.08658359871286067,
            0.26338518778652037,
            0.011040143433543488
           ]
          }
         ],
         "name": "2023-03"
        },
        {
         "data": [
          {
           "coloraxis": "coloraxis",
           "geo": "geo",
           "hovertemplate": "TIME_PERIOD_x=2023-04<br>geo=%{location}<br>mean_population=%{z}<extra></extra>",
           "locationmode": "country names",
           "locations": [
            "Austria",
            "Belgium",
            "Bulgaria",
            "Switzerland",
            "Germany (until 1990 former territory of the FRG)",
            "Denmark",
            "Estonia",
            "Greece",
            "Spain",
            "Finland",
            "France",
            "Hungary",
            "Ireland",
            "Iceland",
            "Italy",
            "Liechtenstein",
            "Luxembourg",
            "Montenegro",
            "Malta",
            "Netherlands",
            "Norway",
            "Poland",
            "Portugal",
            "Sweden",
            "Slovenia",
            "Slovakia"
           ],
           "name": "",
           "type": "choropleth",
           "z": [
            0.36641341077538314,
            0.13987370738403201,
            0.14768377015316855,
            0.17393710411428767,
            0.23583227118707273,
            0.03064653983539403,
            0.29283764180099653,
            0.22132392434182666,
            0.27217399537489734,
            0.04145457992902615,
            0.15116706944734512,
            5.160485952641188E-4,
            0.12450583043017358,
            0.9833939316620952,
            0.13848859191965568,
            0.12720056985855296,
            0.2788981045774926,
            0.01618953411377681,
            0.04798731599263682,
            0.13359353184460493,
            0.05345356083660352,
            0.011950843154558369,
            0.015938884328328653,
            0.06649237691208637,
            0.24440247154965405,
            0.005520071716771744
           ]
          }
         ],
         "name": "2023-04"
        },
        {
         "data": [
          {
           "coloraxis": "coloraxis",
           "geo": "geo",
           "hovertemplate": "TIME_PERIOD_x=2023-05<br>geo=%{location}<br>mean_population=%{z}<extra></extra>",
           "locationmode": "country names",
           "locations": [
            "Belgium",
            "Switzerland",
            "Germany (until 1990 former territory of the FRG)",
            "Denmark",
            "Estonia",
            "Spain",
            "Finland",
            "Hungary",
            "Montenegro",
            "Netherlands",
            "Norway",
            "Poland",
            "Sweden"
           ],
           "name": "",
           "type": "choropleth",
           "z": [
            0.1923801452328071,
            0.21971002624962654,
            0.2636443806011366,
            0.028943954288983248,
            0.29283764180099653,
            0.3669394569713469,
            0.053170004691577025,
            0,
            0.01618953411377681,
            0.1443947110150198,
            0.06266969201532827,
            0.01500494751627884,
            0.07988652477926923
           ]
          }
         ],
         "name": "2023-05"
        }
       ],
       "layout": {
        "coloraxis": {
         "cmax": 0.24182107142181683,
         "cmid": 0.1,
         "cmin": 0,
         "colorbar": {
          "tickfont": {
           "color": "rgb(42,63,95)"
          },
          "tickmode": "array",
          "title": {
           "font": {
            "color": "rgb(42,63,95)"
           },
           "text": "waardes"
          }
         },
         "colorscale": [
          [
           0,
           "rgb(255,245,240)"
          ],
          [
           0.125,
           "rgb(254,224,210)"
          ],
          [
           0.25,
           "rgb(252,187,161)"
          ],
          [
           0.375,
           "rgb(252,146,114)"
          ],
          [
           0.5,
           "rgb(251,106,74)"
          ],
          [
           0.625,
           "rgb(239,59,44)"
          ],
          [
           0.75,
           "rgb(203,24,29)"
          ],
          [
           0.875,
           "rgb(165,15,21)"
          ],
          [
           1,
           "rgb(103,0,13)"
          ]
         ]
        },
        "geo": {
         "bgcolor": "#e8ecf4",
         "center": {},
         "domain": {
          "x": [
           0,
           1
          ],
          "y": [
           0,
           1
          ]
         },
         "lataxis": {
          "range": [
           35,
           70
          ]
         },
         "lonaxis": {
          "range": [
           -9,
           38
          ]
         },
         "scope": "europe",
         "showcoastlines": true,
         "showframe": false,
         "showland": true
        },
        "legend": {
         "tracegroupgap": 0
        },
        "margin": {
         "t": 60
        },
        "paper_bgcolor": "white",
        "sliders": [
         {
          "active": 0,
          "currentvalue": {
           "font": {
            "color": "rgb(42,63,95)"
           },
           "prefix": "TIME_PERIOD_x="
          },
          "len": 0.9,
          "pad": {
           "b": 10,
           "t": 60
          },
          "steps": [
           {
            "args": [
             [
              "2022-06"
             ],
             {
              "frame": {
               "duration": 0,
               "redraw": true
              },
              "fromcurrent": true,
              "mode": "immediate",
              "transition": {
               "duration": 0,
               "easing": "linear"
              }
             }
            ],
            "label": "2022-06",
            "method": "animate"
           },
           {
            "args": [
             [
              "2022-07"
             ],
             {
              "frame": {
               "duration": 0,
               "redraw": true
              },
              "fromcurrent": true,
              "mode": "immediate",
              "transition": {
               "duration": 0,
               "easing": "linear"
              }
             }
            ],
            "label": "2022-07",
            "method": "animate"
           },
           {
            "args": [
             [
              "2022-08"
             ],
             {
              "frame": {
               "duration": 0,
               "redraw": true
              },
              "fromcurrent": true,
              "mode": "immediate",
              "transition": {
               "duration": 0,
               "easing": "linear"
              }
             }
            ],
            "label": "2022-08",
            "method": "animate"
           },
           {
            "args": [
             [
              "2022-09"
             ],
             {
              "frame": {
               "duration": 0,
               "redraw": true
              },
              "fromcurrent": true,
              "mode": "immediate",
              "transition": {
               "duration": 0,
               "easing": "linear"
              }
             }
            ],
            "label": "2022-09",
            "method": "animate"
           },
           {
            "args": [
             [
              "2022-10"
             ],
             {
              "frame": {
               "duration": 0,
               "redraw": true
              },
              "fromcurrent": true,
              "mode": "immediate",
              "transition": {
               "duration": 0,
               "easing": "linear"
              }
             }
            ],
            "label": "2022-10",
            "method": "animate"
           },
           {
            "args": [
             [
              "2022-11"
             ],
             {
              "frame": {
               "duration": 0,
               "redraw": true
              },
              "fromcurrent": true,
              "mode": "immediate",
              "transition": {
               "duration": 0,
               "easing": "linear"
              }
             }
            ],
            "label": "2022-11",
            "method": "animate"
           },
           {
            "args": [
             [
              "2022-12"
             ],
             {
              "frame": {
               "duration": 0,
               "redraw": true
              },
              "fromcurrent": true,
              "mode": "immediate",
              "transition": {
               "duration": 0,
               "easing": "linear"
              }
             }
            ],
            "label": "2022-12",
            "method": "animate"
           },
           {
            "args": [
             [
              "2023-01"
             ],
             {
              "frame": {
               "duration": 0,
               "redraw": true
              },
              "fromcurrent": true,
              "mode": "immediate",
              "transition": {
               "duration": 0,
               "easing": "linear"
              }
             }
            ],
            "label": "2023-01",
            "method": "animate"
           },
           {
            "args": [
             [
              "2023-02"
             ],
             {
              "frame": {
               "duration": 0,
               "redraw": true
              },
              "fromcurrent": true,
              "mode": "immediate",
              "transition": {
               "duration": 0,
               "easing": "linear"
              }
             }
            ],
            "label": "2023-02",
            "method": "animate"
           },
           {
            "args": [
             [
              "2023-03"
             ],
             {
              "frame": {
               "duration": 0,
               "redraw": true
              },
              "fromcurrent": true,
              "mode": "immediate",
              "transition": {
               "duration": 0,
               "easing": "linear"
              }
             }
            ],
            "label": "2023-03",
            "method": "animate"
           },
           {
            "args": [
             [
              "2023-04"
             ],
             {
              "frame": {
               "duration": 0,
               "redraw": true
              },
              "fromcurrent": true,
              "mode": "immediate",
              "transition": {
               "duration": 0,
               "easing": "linear"
              }
             }
            ],
            "label": "2023-04",
            "method": "animate"
           },
           {
            "args": [
             [
              "2023-05"
             ],
             {
              "frame": {
               "duration": 0,
               "redraw": true
              },
              "fromcurrent": true,
              "mode": "immediate",
              "transition": {
               "duration": 0,
               "easing": "linear"
              }
             }
            ],
            "label": "2023-05",
            "method": "animate"
           }
          ],
          "x": 0.1,
          "xanchor": "left",
          "y": 0,
          "yanchor": "top"
         }
        ],
        "template": {
         "data": {
          "bar": [
           {
            "error_x": {
             "color": "#f2f5fa"
            },
            "error_y": {
             "color": "#f2f5fa"
            },
            "marker": {
             "line": {
              "color": "rgb(17,17,17)",
              "width": 0.5
             },
             "pattern": {
              "fillmode": "overlay",
              "size": 10,
              "solidity": 0.2
             }
            },
            "type": "bar"
           }
          ],
          "barpolar": [
           {
            "marker": {
             "line": {
              "color": "rgb(17,17,17)",
              "width": 0.5
             },
             "pattern": {
              "fillmode": "overlay",
              "size": 10,
              "solidity": 0.2
             }
            },
            "type": "barpolar"
           }
          ],
          "carpet": [
           {
            "aaxis": {
             "endlinecolor": "#A2B1C6",
             "gridcolor": "#506784",
             "linecolor": "#506784",
             "minorgridcolor": "#506784",
             "startlinecolor": "#A2B1C6"
            },
            "baxis": {
             "endlinecolor": "#A2B1C6",
             "gridcolor": "#506784",
             "linecolor": "#506784",
             "minorgridcolor": "#506784",
             "startlinecolor": "#A2B1C6"
            },
            "type": "carpet"
           }
          ],
          "choropleth": [
           {
            "colorbar": {
             "outlinewidth": 0,
             "ticks": ""
            },
            "type": "choropleth"
           }
          ],
          "contour": [
           {
            "colorbar": {
             "outlinewidth": 0,
             "ticks": ""
            },
            "colorscale": [
             [
              0,
              "#0d0887"
             ],
             [
              0.1111111111111111,
              "#46039f"
             ],
             [
              0.2222222222222222,
              "#7201a8"
             ],
             [
              0.3333333333333333,
              "#9c179e"
             ],
             [
              0.4444444444444444,
              "#bd3786"
             ],
             [
              0.5555555555555556,
              "#d8576b"
             ],
             [
              0.6666666666666666,
              "#ed7953"
             ],
             [
              0.7777777777777778,
              "#fb9f3a"
             ],
             [
              0.8888888888888888,
              "#fdca26"
             ],
             [
              1,
              "#f0f921"
             ]
            ],
            "type": "contour"
           }
          ],
          "contourcarpet": [
           {
            "colorbar": {
             "outlinewidth": 0,
             "ticks": ""
            },
            "type": "contourcarpet"
           }
          ],
          "heatmap": [
           {
            "colorbar": {
             "outlinewidth": 0,
             "ticks": ""
            },
            "colorscale": [
             [
              0,
              "#0d0887"
             ],
             [
              0.1111111111111111,
              "#46039f"
             ],
             [
              0.2222222222222222,
              "#7201a8"
             ],
             [
              0.3333333333333333,
              "#9c179e"
             ],
             [
              0.4444444444444444,
              "#bd3786"
             ],
             [
              0.5555555555555556,
              "#d8576b"
             ],
             [
              0.6666666666666666,
              "#ed7953"
             ],
             [
              0.7777777777777778,
              "#fb9f3a"
             ],
             [
              0.8888888888888888,
              "#fdca26"
             ],
             [
              1,
              "#f0f921"
             ]
            ],
            "type": "heatmap"
           }
          ],
          "heatmapgl": [
           {
            "colorbar": {
             "outlinewidth": 0,
             "ticks": ""
            },
            "colorscale": [
             [
              0,
              "#0d0887"
             ],
             [
              0.1111111111111111,
              "#46039f"
             ],
             [
              0.2222222222222222,
              "#7201a8"
             ],
             [
              0.3333333333333333,
              "#9c179e"
             ],
             [
              0.4444444444444444,
              "#bd3786"
             ],
             [
              0.5555555555555556,
              "#d8576b"
             ],
             [
              0.6666666666666666,
              "#ed7953"
             ],
             [
              0.7777777777777778,
              "#fb9f3a"
             ],
             [
              0.8888888888888888,
              "#fdca26"
             ],
             [
              1,
              "#f0f921"
             ]
            ],
            "type": "heatmapgl"
           }
          ],
          "histogram": [
           {
            "marker": {
             "pattern": {
              "fillmode": "overlay",
              "size": 10,
              "solidity": 0.2
             }
            },
            "type": "histogram"
           }
          ],
          "histogram2d": [
           {
            "colorbar": {
             "outlinewidth": 0,
             "ticks": ""
            },
            "colorscale": [
             [
              0,
              "#0d0887"
             ],
             [
              0.1111111111111111,
              "#46039f"
             ],
             [
              0.2222222222222222,
              "#7201a8"
             ],
             [
              0.3333333333333333,
              "#9c179e"
             ],
             [
              0.4444444444444444,
              "#bd3786"
             ],
             [
              0.5555555555555556,
              "#d8576b"
             ],
             [
              0.6666666666666666,
              "#ed7953"
             ],
             [
              0.7777777777777778,
              "#fb9f3a"
             ],
             [
              0.8888888888888888,
              "#fdca26"
             ],
             [
              1,
              "#f0f921"
             ]
            ],
            "type": "histogram2d"
           }
          ],
          "histogram2dcontour": [
           {
            "colorbar": {
             "outlinewidth": 0,
             "ticks": ""
            },
            "colorscale": [
             [
              0,
              "#0d0887"
             ],
             [
              0.1111111111111111,
              "#46039f"
             ],
             [
              0.2222222222222222,
              "#7201a8"
             ],
             [
              0.3333333333333333,
              "#9c179e"
             ],
             [
              0.4444444444444444,
              "#bd3786"
             ],
             [
              0.5555555555555556,
              "#d8576b"
             ],
             [
              0.6666666666666666,
              "#ed7953"
             ],
             [
              0.7777777777777778,
              "#fb9f3a"
             ],
             [
              0.8888888888888888,
              "#fdca26"
             ],
             [
              1,
              "#f0f921"
             ]
            ],
            "type": "histogram2dcontour"
           }
          ],
          "mesh3d": [
           {
            "colorbar": {
             "outlinewidth": 0,
             "ticks": ""
            },
            "type": "mesh3d"
           }
          ],
          "parcoords": [
           {
            "line": {
             "colorbar": {
              "outlinewidth": 0,
              "ticks": ""
             }
            },
            "type": "parcoords"
           }
          ],
          "pie": [
           {
            "automargin": true,
            "type": "pie"
           }
          ],
          "scatter": [
           {
            "marker": {
             "line": {
              "color": "#283442"
             }
            },
            "type": "scatter"
           }
          ],
          "scatter3d": [
           {
            "line": {
             "colorbar": {
              "outlinewidth": 0,
              "ticks": ""
             }
            },
            "marker": {
             "colorbar": {
              "outlinewidth": 0,
              "ticks": ""
             }
            },
            "type": "scatter3d"
           }
          ],
          "scattercarpet": [
           {
            "marker": {
             "colorbar": {
              "outlinewidth": 0,
              "ticks": ""
             }
            },
            "type": "scattercarpet"
           }
          ],
          "scattergeo": [
           {
            "marker": {
             "colorbar": {
              "outlinewidth": 0,
              "ticks": ""
             }
            },
            "type": "scattergeo"
           }
          ],
          "scattergl": [
           {
            "marker": {
             "line": {
              "color": "#283442"
             }
            },
            "type": "scattergl"
           }
          ],
          "scattermapbox": [
           {
            "marker": {
             "colorbar": {
              "outlinewidth": 0,
              "ticks": ""
             }
            },
            "type": "scattermapbox"
           }
          ],
          "scatterpolar": [
           {
            "marker": {
             "colorbar": {
              "outlinewidth": 0,
              "ticks": ""
             }
            },
            "type": "scatterpolar"
           }
          ],
          "scatterpolargl": [
           {
            "marker": {
             "colorbar": {
              "outlinewidth": 0,
              "ticks": ""
             }
            },
            "type": "scatterpolargl"
           }
          ],
          "scatterternary": [
           {
            "marker": {
             "colorbar": {
              "outlinewidth": 0,
              "ticks": ""
             }
            },
            "type": "scatterternary"
           }
          ],
          "surface": [
           {
            "colorbar": {
             "outlinewidth": 0,
             "ticks": ""
            },
            "colorscale": [
             [
              0,
              "#0d0887"
             ],
             [
              0.1111111111111111,
              "#46039f"
             ],
             [
              0.2222222222222222,
              "#7201a8"
             ],
             [
              0.3333333333333333,
              "#9c179e"
             ],
             [
              0.4444444444444444,
              "#bd3786"
             ],
             [
              0.5555555555555556,
              "#d8576b"
             ],
             [
              0.6666666666666666,
              "#ed7953"
             ],
             [
              0.7777777777777778,
              "#fb9f3a"
             ],
             [
              0.8888888888888888,
              "#fdca26"
             ],
             [
              1,
              "#f0f921"
             ]
            ],
            "type": "surface"
           }
          ],
          "table": [
           {
            "cells": {
             "fill": {
              "color": "#506784"
             },
             "line": {
              "color": "rgb(17,17,17)"
             }
            },
            "header": {
             "fill": {
              "color": "#2a3f5f"
             },
             "line": {
              "color": "rgb(17,17,17)"
             }
            },
            "type": "table"
           }
          ]
         },
         "layout": {
          "annotationdefaults": {
           "arrowcolor": "#f2f5fa",
           "arrowhead": 0,
           "arrowwidth": 1
          },
          "autotypenumbers": "strict",
          "coloraxis": {
           "colorbar": {
            "outlinewidth": 0,
            "ticks": ""
           }
          },
          "colorscale": {
           "diverging": [
            [
             0,
             "#8e0152"
            ],
            [
             0.1,
             "#c51b7d"
            ],
            [
             0.2,
             "#de77ae"
            ],
            [
             0.3,
             "#f1b6da"
            ],
            [
             0.4,
             "#fde0ef"
            ],
            [
             0.5,
             "#f7f7f7"
            ],
            [
             0.6,
             "#e6f5d0"
            ],
            [
             0.7,
             "#b8e186"
            ],
            [
             0.8,
             "#7fbc41"
            ],
            [
             0.9,
             "#4d9221"
            ],
            [
             1,
             "#276419"
            ]
           ],
           "sequential": [
            [
             0,
             "#0d0887"
            ],
            [
             0.1111111111111111,
             "#46039f"
            ],
            [
             0.2222222222222222,
             "#7201a8"
            ],
            [
             0.3333333333333333,
             "#9c179e"
            ],
            [
             0.4444444444444444,
             "#bd3786"
            ],
            [
             0.5555555555555556,
             "#d8576b"
            ],
            [
             0.6666666666666666,
             "#ed7953"
            ],
            [
             0.7777777777777778,
             "#fb9f3a"
            ],
            [
             0.8888888888888888,
             "#fdca26"
            ],
            [
             1,
             "#f0f921"
            ]
           ],
           "sequentialminus": [
            [
             0,
             "#0d0887"
            ],
            [
             0.1111111111111111,
             "#46039f"
            ],
            [
             0.2222222222222222,
             "#7201a8"
            ],
            [
             0.3333333333333333,
             "#9c179e"
            ],
            [
             0.4444444444444444,
             "#bd3786"
            ],
            [
             0.5555555555555556,
             "#d8576b"
            ],
            [
             0.6666666666666666,
             "#ed7953"
            ],
            [
             0.7777777777777778,
             "#fb9f3a"
            ],
            [
             0.8888888888888888,
             "#fdca26"
            ],
            [
             1,
             "#f0f921"
            ]
           ]
          },
          "colorway": [
           "#636efa",
           "#EF553B",
           "#00cc96",
           "#ab63fa",
           "#FFA15A",
           "#19d3f3",
           "#FF6692",
           "#B6E880",
           "#FF97FF",
           "#FECB52"
          ],
          "font": {
           "color": "#f2f5fa"
          },
          "geo": {
           "bgcolor": "rgb(17,17,17)",
           "lakecolor": "rgb(17,17,17)",
           "landcolor": "rgb(17,17,17)",
           "showlakes": true,
           "showland": true,
           "subunitcolor": "#506784"
          },
          "hoverlabel": {
           "align": "left"
          },
          "hovermode": "closest",
          "mapbox": {
           "style": "dark"
          },
          "paper_bgcolor": "rgb(17,17,17)",
          "plot_bgcolor": "rgb(17,17,17)",
          "polar": {
           "angularaxis": {
            "gridcolor": "#506784",
            "linecolor": "#506784",
            "ticks": ""
           },
           "bgcolor": "rgb(17,17,17)",
           "radialaxis": {
            "gridcolor": "#506784",
            "linecolor": "#506784",
            "ticks": ""
           }
          },
          "scene": {
           "xaxis": {
            "backgroundcolor": "rgb(17,17,17)",
            "gridcolor": "#506784",
            "gridwidth": 2,
            "linecolor": "#506784",
            "showbackground": true,
            "ticks": "",
            "zerolinecolor": "#C8D4E3"
           },
           "yaxis": {
            "backgroundcolor": "rgb(17,17,17)",
            "gridcolor": "#506784",
            "gridwidth": 2,
            "linecolor": "#506784",
            "showbackground": true,
            "ticks": "",
            "zerolinecolor": "#C8D4E3"
           },
           "zaxis": {
            "backgroundcolor": "rgb(17,17,17)",
            "gridcolor": "#506784",
            "gridwidth": 2,
            "linecolor": "#506784",
            "showbackground": true,
            "ticks": "",
            "zerolinecolor": "#C8D4E3"
           }
          },
          "shapedefaults": {
           "line": {
            "color": "#f2f5fa"
           }
          },
          "sliderdefaults": {
           "bgcolor": "#C8D4E3",
           "bordercolor": "rgb(17,17,17)",
           "borderwidth": 1,
           "tickwidth": 0
          },
          "ternary": {
           "aaxis": {
            "gridcolor": "#506784",
            "linecolor": "#506784",
            "ticks": ""
           },
           "baxis": {
            "gridcolor": "#506784",
            "linecolor": "#506784",
            "ticks": ""
           },
           "bgcolor": "rgb(17,17,17)",
           "caxis": {
            "gridcolor": "#506784",
            "linecolor": "#506784",
            "ticks": ""
           }
          },
          "title": {
           "x": 0.05
          },
          "updatemenudefaults": {
           "bgcolor": "#506784",
           "borderwidth": 0
          },
          "xaxis": {
           "automargin": true,
           "gridcolor": "#283442",
           "linecolor": "#506784",
           "ticks": "",
           "title": {
            "standoff": 15
           },
           "zerolinecolor": "#283442",
           "zerolinewidth": 2
          },
          "yaxis": {
           "automargin": true,
           "gridcolor": "#283442",
           "linecolor": "#506784",
           "ticks": "",
           "title": {
            "standoff": 15
           },
           "zerolinecolor": "#283442",
           "zerolinewidth": 2
          }
         }
        },
        "title": {
         "font": {
          "color": "rgb(42,63,95)"
         },
         "text": "Asielverzoeken per EU land per maand per 1000 inwoners"
        },
        "updatemenus": [
         {
          "buttons": [
           {
            "args": [
             null,
             {
              "frame": {
               "duration": 500,
               "redraw": true
              },
              "fromcurrent": true,
              "mode": "immediate",
              "transition": {
               "duration": 500,
               "easing": "linear"
              }
             }
            ],
            "label": "&#9654;",
            "method": "animate"
           },
           {
            "args": [
             [
              null
             ],
             {
              "frame": {
               "duration": 0,
               "redraw": true
              },
              "fromcurrent": true,
              "mode": "immediate",
              "transition": {
               "duration": 0,
               "easing": "linear"
              }
             }
            ],
            "label": "&#9724;",
            "method": "animate"
           }
          ],
          "direction": "left",
          "pad": {
           "r": 10,
           "t": 70
          },
          "showactive": false,
          "type": "buttons",
          "x": 0.1,
          "xanchor": "right",
          "y": 0,
          "yanchor": "top"
         }
        ]
       }
      },
      "text/html": [
       "<div>                            <div id=\"ec773c3e-4755-44b0-b50d-80fa3130ae15\" class=\"plotly-graph-div\" style=\"height:525px; width:100%;\"></div>            <script type=\"text/javascript\">                require([\"plotly\"], function(Plotly) {                    window.PLOTLYENV=window.PLOTLYENV || {};                                    if (document.getElementById(\"ec773c3e-4755-44b0-b50d-80fa3130ae15\")) {                    Plotly.newPlot(                        \"ec773c3e-4755-44b0-b50d-80fa3130ae15\",                        [{\"coloraxis\":\"coloraxis\",\"geo\":\"geo\",\"hovertemplate\":\"TIME_PERIOD_x=2022-06<br>geo=%{location}<br>mean_population=%{z}<extra></extra>\",\"locationmode\":\"country names\",\"locations\":[\"Austria\",\"Belgium\",\"Bulgaria\",\"Switzerland\",\"Cyprus\",\"Czechia\",\"Germany (until 1990 former territory of the FRG)\",\"Denmark\",\"Estonia\",\"Greece\",\"Spain\",\"Finland\",\"France\",\"Croatia\",\"Hungary\",\"Ireland\",\"Iceland\",\"Italy\",\"Liechtenstein\",\"Lithuania\",\"Luxembourg\",\"Latvia\",\"Montenegro\",\"Malta\",\"Netherlands\",\"Norway\",\"Poland\",\"Portugal\",\"Romania\",\"Sweden\",\"Slovenia\",\"Slovakia\"],\"name\":\"\",\"z\":[1.0624875193912324,0.21648146096667106,0.1323305069194233,0.18423601159473893,2.65832508939378,0.009508679855776147,0.15551954918576957,0.02809266151577786,0.11638419097219094,0.21224151707941907,0.22336820147149786,0.03514627428765261,0.16346965258462906,0.1967736882509279,0.0005160485952641188,0.31719342514353743,0.8637919670004891,0.09639144807618848,0.0,0.019600869280733627,0.24790942629110452,0.034652676226184946,0.024284301170665212,0.10557209518380102,0.14638440191483307,0.05529678707234847,0.012216417446881888,0.012557908864743788,0.03098339998702898,0.10763154536129088,0.33931605273398574,0.004600059763976453],\"type\":\"choropleth\"}],                        {\"template\":{\"data\":{\"histogram2dcontour\":[{\"type\":\"histogram2dcontour\",\"colorbar\":{\"outlinewidth\":0,\"ticks\":\"\"},\"colorscale\":[[0.0,\"#0d0887\"],[0.1111111111111111,\"#46039f\"],[0.2222222222222222,\"#7201a8\"],[0.3333333333333333,\"#9c179e\"],[0.4444444444444444,\"#bd3786\"],[0.5555555555555556,\"#d8576b\"],[0.6666666666666666,\"#ed7953\"],[0.7777777777777778,\"#fb9f3a\"],[0.8888888888888888,\"#fdca26\"],[1.0,\"#f0f921\"]]}],\"choropleth\":[{\"type\":\"choropleth\",\"colorbar\":{\"outlinewidth\":0,\"ticks\":\"\"}}],\"histogram2d\":[{\"type\":\"histogram2d\",\"colorbar\":{\"outlinewidth\":0,\"ticks\":\"\"},\"colorscale\":[[0.0,\"#0d0887\"],[0.1111111111111111,\"#46039f\"],[0.2222222222222222,\"#7201a8\"],[0.3333333333333333,\"#9c179e\"],[0.4444444444444444,\"#bd3786\"],[0.5555555555555556,\"#d8576b\"],[0.6666666666666666,\"#ed7953\"],[0.7777777777777778,\"#fb9f3a\"],[0.8888888888888888,\"#fdca26\"],[1.0,\"#f0f921\"]]}],\"heatmap\":[{\"type\":\"heatmap\",\"colorbar\":{\"outlinewidth\":0,\"ticks\":\"\"},\"colorscale\":[[0.0,\"#0d0887\"],[0.1111111111111111,\"#46039f\"],[0.2222222222222222,\"#7201a8\"],[0.3333333333333333,\"#9c179e\"],[0.4444444444444444,\"#bd3786\"],[0.5555555555555556,\"#d8576b\"],[0.6666666666666666,\"#ed7953\"],[0.7777777777777778,\"#fb9f3a\"],[0.8888888888888888,\"#fdca26\"],[1.0,\"#f0f921\"]]}],\"heatmapgl\":[{\"type\":\"heatmapgl\",\"colorbar\":{\"outlinewidth\":0,\"ticks\":\"\"},\"colorscale\":[[0.0,\"#0d0887\"],[0.1111111111111111,\"#46039f\"],[0.2222222222222222,\"#7201a8\"],[0.3333333333333333,\"#9c179e\"],[0.4444444444444444,\"#bd3786\"],[0.5555555555555556,\"#d8576b\"],[0.6666666666666666,\"#ed7953\"],[0.7777777777777778,\"#fb9f3a\"],[0.8888888888888888,\"#fdca26\"],[1.0,\"#f0f921\"]]}],\"contourcarpet\":[{\"type\":\"contourcarpet\",\"colorbar\":{\"outlinewidth\":0,\"ticks\":\"\"}}],\"contour\":[{\"type\":\"contour\",\"colorbar\":{\"outlinewidth\":0,\"ticks\":\"\"},\"colorscale\":[[0.0,\"#0d0887\"],[0.1111111111111111,\"#46039f\"],[0.2222222222222222,\"#7201a8\"],[0.3333333333333333,\"#9c179e\"],[0.4444444444444444,\"#bd3786\"],[0.5555555555555556,\"#d8576b\"],[0.6666666666666666,\"#ed7953\"],[0.7777777777777778,\"#fb9f3a\"],[0.8888888888888888,\"#fdca26\"],[1.0,\"#f0f921\"]]}],\"surface\":[{\"type\":\"surface\",\"colorbar\":{\"outlinewidth\":0,\"ticks\":\"\"},\"colorscale\":[[0.0,\"#0d0887\"],[0.1111111111111111,\"#46039f\"],[0.2222222222222222,\"#7201a8\"],[0.3333333333333333,\"#9c179e\"],[0.4444444444444444,\"#bd3786\"],[0.5555555555555556,\"#d8576b\"],[0.6666666666666666,\"#ed7953\"],[0.7777777777777778,\"#fb9f3a\"],[0.8888888888888888,\"#fdca26\"],[1.0,\"#f0f921\"]]}],\"mesh3d\":[{\"type\":\"mesh3d\",\"colorbar\":{\"outlinewidth\":0,\"ticks\":\"\"}}],\"scatter\":[{\"marker\":{\"line\":{\"color\":\"#283442\"}},\"type\":\"scatter\"}],\"parcoords\":[{\"type\":\"parcoords\",\"line\":{\"colorbar\":{\"outlinewidth\":0,\"ticks\":\"\"}}}],\"scatterpolargl\":[{\"type\":\"scatterpolargl\",\"marker\":{\"colorbar\":{\"outlinewidth\":0,\"ticks\":\"\"}}}],\"bar\":[{\"error_x\":{\"color\":\"#f2f5fa\"},\"error_y\":{\"color\":\"#f2f5fa\"},\"marker\":{\"line\":{\"color\":\"rgb(17,17,17)\",\"width\":0.5},\"pattern\":{\"fillmode\":\"overlay\",\"size\":10,\"solidity\":0.2}},\"type\":\"bar\"}],\"scattergeo\":[{\"type\":\"scattergeo\",\"marker\":{\"colorbar\":{\"outlinewidth\":0,\"ticks\":\"\"}}}],\"scatterpolar\":[{\"type\":\"scatterpolar\",\"marker\":{\"colorbar\":{\"outlinewidth\":0,\"ticks\":\"\"}}}],\"histogram\":[{\"marker\":{\"pattern\":{\"fillmode\":\"overlay\",\"size\":10,\"solidity\":0.2}},\"type\":\"histogram\"}],\"scattergl\":[{\"marker\":{\"line\":{\"color\":\"#283442\"}},\"type\":\"scattergl\"}],\"scatter3d\":[{\"type\":\"scatter3d\",\"line\":{\"colorbar\":{\"outlinewidth\":0,\"ticks\":\"\"}},\"marker\":{\"colorbar\":{\"outlinewidth\":0,\"ticks\":\"\"}}}],\"scattermapbox\":[{\"type\":\"scattermapbox\",\"marker\":{\"colorbar\":{\"outlinewidth\":0,\"ticks\":\"\"}}}],\"scatterternary\":[{\"type\":\"scatterternary\",\"marker\":{\"colorbar\":{\"outlinewidth\":0,\"ticks\":\"\"}}}],\"scattercarpet\":[{\"type\":\"scattercarpet\",\"marker\":{\"colorbar\":{\"outlinewidth\":0,\"ticks\":\"\"}}}],\"carpet\":[{\"aaxis\":{\"endlinecolor\":\"#A2B1C6\",\"gridcolor\":\"#506784\",\"linecolor\":\"#506784\",\"minorgridcolor\":\"#506784\",\"startlinecolor\":\"#A2B1C6\"},\"baxis\":{\"endlinecolor\":\"#A2B1C6\",\"gridcolor\":\"#506784\",\"linecolor\":\"#506784\",\"minorgridcolor\":\"#506784\",\"startlinecolor\":\"#A2B1C6\"},\"type\":\"carpet\"}],\"table\":[{\"cells\":{\"fill\":{\"color\":\"#506784\"},\"line\":{\"color\":\"rgb(17,17,17)\"}},\"header\":{\"fill\":{\"color\":\"#2a3f5f\"},\"line\":{\"color\":\"rgb(17,17,17)\"}},\"type\":\"table\"}],\"barpolar\":[{\"marker\":{\"line\":{\"color\":\"rgb(17,17,17)\",\"width\":0.5},\"pattern\":{\"fillmode\":\"overlay\",\"size\":10,\"solidity\":0.2}},\"type\":\"barpolar\"}],\"pie\":[{\"automargin\":true,\"type\":\"pie\"}]},\"layout\":{\"autotypenumbers\":\"strict\",\"colorway\":[\"#636efa\",\"#EF553B\",\"#00cc96\",\"#ab63fa\",\"#FFA15A\",\"#19d3f3\",\"#FF6692\",\"#B6E880\",\"#FF97FF\",\"#FECB52\"],\"font\":{\"color\":\"#f2f5fa\"},\"hovermode\":\"closest\",\"hoverlabel\":{\"align\":\"left\"},\"paper_bgcolor\":\"rgb(17,17,17)\",\"plot_bgcolor\":\"rgb(17,17,17)\",\"polar\":{\"bgcolor\":\"rgb(17,17,17)\",\"angularaxis\":{\"gridcolor\":\"#506784\",\"linecolor\":\"#506784\",\"ticks\":\"\"},\"radialaxis\":{\"gridcolor\":\"#506784\",\"linecolor\":\"#506784\",\"ticks\":\"\"}},\"ternary\":{\"bgcolor\":\"rgb(17,17,17)\",\"aaxis\":{\"gridcolor\":\"#506784\",\"linecolor\":\"#506784\",\"ticks\":\"\"},\"baxis\":{\"gridcolor\":\"#506784\",\"linecolor\":\"#506784\",\"ticks\":\"\"},\"caxis\":{\"gridcolor\":\"#506784\",\"linecolor\":\"#506784\",\"ticks\":\"\"}},\"coloraxis\":{\"colorbar\":{\"outlinewidth\":0,\"ticks\":\"\"}},\"colorscale\":{\"sequential\":[[0.0,\"#0d0887\"],[0.1111111111111111,\"#46039f\"],[0.2222222222222222,\"#7201a8\"],[0.3333333333333333,\"#9c179e\"],[0.4444444444444444,\"#bd3786\"],[0.5555555555555556,\"#d8576b\"],[0.6666666666666666,\"#ed7953\"],[0.7777777777777778,\"#fb9f3a\"],[0.8888888888888888,\"#fdca26\"],[1.0,\"#f0f921\"]],\"sequentialminus\":[[0.0,\"#0d0887\"],[0.1111111111111111,\"#46039f\"],[0.2222222222222222,\"#7201a8\"],[0.3333333333333333,\"#9c179e\"],[0.4444444444444444,\"#bd3786\"],[0.5555555555555556,\"#d8576b\"],[0.6666666666666666,\"#ed7953\"],[0.7777777777777778,\"#fb9f3a\"],[0.8888888888888888,\"#fdca26\"],[1.0,\"#f0f921\"]],\"diverging\":[[0,\"#8e0152\"],[0.1,\"#c51b7d\"],[0.2,\"#de77ae\"],[0.3,\"#f1b6da\"],[0.4,\"#fde0ef\"],[0.5,\"#f7f7f7\"],[0.6,\"#e6f5d0\"],[0.7,\"#b8e186\"],[0.8,\"#7fbc41\"],[0.9,\"#4d9221\"],[1,\"#276419\"]]},\"xaxis\":{\"gridcolor\":\"#283442\",\"linecolor\":\"#506784\",\"ticks\":\"\",\"title\":{\"standoff\":15},\"zerolinecolor\":\"#283442\",\"automargin\":true,\"zerolinewidth\":2},\"yaxis\":{\"gridcolor\":\"#283442\",\"linecolor\":\"#506784\",\"ticks\":\"\",\"title\":{\"standoff\":15},\"zerolinecolor\":\"#283442\",\"automargin\":true,\"zerolinewidth\":2},\"scene\":{\"xaxis\":{\"backgroundcolor\":\"rgb(17,17,17)\",\"gridcolor\":\"#506784\",\"linecolor\":\"#506784\",\"showbackground\":true,\"ticks\":\"\",\"zerolinecolor\":\"#C8D4E3\",\"gridwidth\":2},\"yaxis\":{\"backgroundcolor\":\"rgb(17,17,17)\",\"gridcolor\":\"#506784\",\"linecolor\":\"#506784\",\"showbackground\":true,\"ticks\":\"\",\"zerolinecolor\":\"#C8D4E3\",\"gridwidth\":2},\"zaxis\":{\"backgroundcolor\":\"rgb(17,17,17)\",\"gridcolor\":\"#506784\",\"linecolor\":\"#506784\",\"showbackground\":true,\"ticks\":\"\",\"zerolinecolor\":\"#C8D4E3\",\"gridwidth\":2}},\"shapedefaults\":{\"line\":{\"color\":\"#f2f5fa\"}},\"annotationdefaults\":{\"arrowcolor\":\"#f2f5fa\",\"arrowhead\":0,\"arrowwidth\":1},\"geo\":{\"bgcolor\":\"rgb(17,17,17)\",\"landcolor\":\"rgb(17,17,17)\",\"subunitcolor\":\"#506784\",\"showland\":true,\"showlakes\":true,\"lakecolor\":\"rgb(17,17,17)\"},\"title\":{\"x\":0.05},\"updatemenudefaults\":{\"bgcolor\":\"#506784\",\"borderwidth\":0},\"sliderdefaults\":{\"bgcolor\":\"#C8D4E3\",\"borderwidth\":1,\"bordercolor\":\"rgb(17,17,17)\",\"tickwidth\":0},\"mapbox\":{\"style\":\"dark\"}}},\"geo\":{\"domain\":{\"x\":[0.0,1.0],\"y\":[0.0,1.0]},\"center\":{},\"lataxis\":{\"range\":[35,70]},\"lonaxis\":{\"range\":[-9,38]},\"bgcolor\":\"#e8ecf4\",\"showframe\":false,\"showcoastlines\":true,\"showland\":true,\"scope\":\"europe\"},\"coloraxis\":{\"colorbar\":{\"title\":{\"text\":\"waardes\",\"font\":{\"color\":\"rgb(42,63,95)\"}},\"tickfont\":{\"color\":\"rgb(42,63,95)\"},\"tickmode\":\"array\"},\"colorscale\":[[0.0,\"rgb(255,245,240)\"],[0.125,\"rgb(254,224,210)\"],[0.25,\"rgb(252,187,161)\"],[0.375,\"rgb(252,146,114)\"],[0.5,\"rgb(251,106,74)\"],[0.625,\"rgb(239,59,44)\"],[0.75,\"rgb(203,24,29)\"],[0.875,\"rgb(165,15,21)\"],[1.0,\"rgb(103,0,13)\"]],\"cmid\":0.1,\"cmin\":0,\"cmax\":0.24182107142181683},\"legend\":{\"tracegroupgap\":0},\"margin\":{\"t\":60},\"updatemenus\":[{\"buttons\":[{\"args\":[null,{\"frame\":{\"duration\":500,\"redraw\":true},\"mode\":\"immediate\",\"fromcurrent\":true,\"transition\":{\"duration\":500,\"easing\":\"linear\"}}],\"label\":\"&#9654;\",\"method\":\"animate\"},{\"args\":[[null],{\"frame\":{\"duration\":0,\"redraw\":true},\"mode\":\"immediate\",\"fromcurrent\":true,\"transition\":{\"duration\":0,\"easing\":\"linear\"}}],\"label\":\"&#9724;\",\"method\":\"animate\"}],\"direction\":\"left\",\"pad\":{\"r\":10,\"t\":70},\"showactive\":false,\"type\":\"buttons\",\"x\":0.1,\"xanchor\":\"right\",\"y\":0,\"yanchor\":\"top\"}],\"sliders\":[{\"active\":0,\"currentvalue\":{\"prefix\":\"TIME_PERIOD_x=\",\"font\":{\"color\":\"rgb(42,63,95)\"}},\"len\":0.9,\"pad\":{\"b\":10,\"t\":60},\"steps\":[{\"args\":[[\"2022-06\"],{\"frame\":{\"duration\":0,\"redraw\":true},\"mode\":\"immediate\",\"fromcurrent\":true,\"transition\":{\"duration\":0,\"easing\":\"linear\"}}],\"label\":\"2022-06\",\"method\":\"animate\"},{\"args\":[[\"2022-07\"],{\"frame\":{\"duration\":0,\"redraw\":true},\"mode\":\"immediate\",\"fromcurrent\":true,\"transition\":{\"duration\":0,\"easing\":\"linear\"}}],\"label\":\"2022-07\",\"method\":\"animate\"},{\"args\":[[\"2022-08\"],{\"frame\":{\"duration\":0,\"redraw\":true},\"mode\":\"immediate\",\"fromcurrent\":true,\"transition\":{\"duration\":0,\"easing\":\"linear\"}}],\"label\":\"2022-08\",\"method\":\"animate\"},{\"args\":[[\"2022-09\"],{\"frame\":{\"duration\":0,\"redraw\":true},\"mode\":\"immediate\",\"fromcurrent\":true,\"transition\":{\"duration\":0,\"easing\":\"linear\"}}],\"label\":\"2022-09\",\"method\":\"animate\"},{\"args\":[[\"2022-10\"],{\"frame\":{\"duration\":0,\"redraw\":true},\"mode\":\"immediate\",\"fromcurrent\":true,\"transition\":{\"duration\":0,\"easing\":\"linear\"}}],\"label\":\"2022-10\",\"method\":\"animate\"},{\"args\":[[\"2022-11\"],{\"frame\":{\"duration\":0,\"redraw\":true},\"mode\":\"immediate\",\"fromcurrent\":true,\"transition\":{\"duration\":0,\"easing\":\"linear\"}}],\"label\":\"2022-11\",\"method\":\"animate\"},{\"args\":[[\"2022-12\"],{\"frame\":{\"duration\":0,\"redraw\":true},\"mode\":\"immediate\",\"fromcurrent\":true,\"transition\":{\"duration\":0,\"easing\":\"linear\"}}],\"label\":\"2022-12\",\"method\":\"animate\"},{\"args\":[[\"2023-01\"],{\"frame\":{\"duration\":0,\"redraw\":true},\"mode\":\"immediate\",\"fromcurrent\":true,\"transition\":{\"duration\":0,\"easing\":\"linear\"}}],\"label\":\"2023-01\",\"method\":\"animate\"},{\"args\":[[\"2023-02\"],{\"frame\":{\"duration\":0,\"redraw\":true},\"mode\":\"immediate\",\"fromcurrent\":true,\"transition\":{\"duration\":0,\"easing\":\"linear\"}}],\"label\":\"2023-02\",\"method\":\"animate\"},{\"args\":[[\"2023-03\"],{\"frame\":{\"duration\":0,\"redraw\":true},\"mode\":\"immediate\",\"fromcurrent\":true,\"transition\":{\"duration\":0,\"easing\":\"linear\"}}],\"label\":\"2023-03\",\"method\":\"animate\"},{\"args\":[[\"2023-04\"],{\"frame\":{\"duration\":0,\"redraw\":true},\"mode\":\"immediate\",\"fromcurrent\":true,\"transition\":{\"duration\":0,\"easing\":\"linear\"}}],\"label\":\"2023-04\",\"method\":\"animate\"},{\"args\":[[\"2023-05\"],{\"frame\":{\"duration\":0,\"redraw\":true},\"mode\":\"immediate\",\"fromcurrent\":true,\"transition\":{\"duration\":0,\"easing\":\"linear\"}}],\"label\":\"2023-05\",\"method\":\"animate\"}],\"x\":0.1,\"xanchor\":\"left\",\"y\":0,\"yanchor\":\"top\"}],\"title\":{\"font\":{\"color\":\"rgb(42,63,95)\"},\"text\":\"Asielverzoeken per EU land per maand per 1000 inwoners\"},\"paper_bgcolor\":\"white\"},                        {\"responsive\": true}                    ).then(function(){\n",
       "                            Plotly.addFrames('ec773c3e-4755-44b0-b50d-80fa3130ae15', [{\"data\":[{\"coloraxis\":\"coloraxis\",\"geo\":\"geo\",\"hovertemplate\":\"TIME_PERIOD_x=2022-06<br>geo=%{location}<br>mean_population=%{z}<extra></extra>\",\"locationmode\":\"country names\",\"locations\":[\"Austria\",\"Belgium\",\"Bulgaria\",\"Switzerland\",\"Cyprus\",\"Czechia\",\"Germany (until 1990 former territory of the FRG)\",\"Denmark\",\"Estonia\",\"Greece\",\"Spain\",\"Finland\",\"France\",\"Croatia\",\"Hungary\",\"Ireland\",\"Iceland\",\"Italy\",\"Liechtenstein\",\"Lithuania\",\"Luxembourg\",\"Latvia\",\"Montenegro\",\"Malta\",\"Netherlands\",\"Norway\",\"Poland\",\"Portugal\",\"Romania\",\"Sweden\",\"Slovenia\",\"Slovakia\"],\"name\":\"\",\"z\":[1.0624875193912324,0.21648146096667106,0.1323305069194233,0.18423601159473893,2.65832508939378,0.009508679855776147,0.15551954918576957,0.02809266151577786,0.11638419097219094,0.21224151707941907,0.22336820147149786,0.03514627428765261,0.16346965258462906,0.1967736882509279,0.0005160485952641188,0.31719342514353743,0.8637919670004891,0.09639144807618848,0.0,0.019600869280733627,0.24790942629110452,0.034652676226184946,0.024284301170665212,0.10557209518380102,0.14638440191483307,0.05529678707234847,0.012216417446881888,0.012557908864743788,0.03098339998702898,0.10763154536129088,0.33931605273398574,0.004600059763976453],\"type\":\"choropleth\"}],\"name\":\"2022-06\"},{\"data\":[{\"coloraxis\":\"coloraxis\",\"geo\":\"geo\",\"hovertemplate\":\"TIME_PERIOD_x=2022-07<br>geo=%{location}<br>mean_population=%{z}<extra></extra>\",\"locationmode\":\"country names\",\"locations\":[\"Austria\",\"Belgium\",\"Bulgaria\",\"Switzerland\",\"Cyprus\",\"Czechia\",\"Germany (until 1990 former territory of the FRG)\",\"Denmark\",\"Estonia\",\"Greece\",\"Spain\",\"Finland\",\"France\",\"Croatia\",\"Hungary\",\"Ireland\",\"Iceland\",\"Italy\",\"Liechtenstein\",\"Lithuania\",\"Luxembourg\",\"Latvia\",\"Montenegro\",\"Malta\",\"Netherlands\",\"Norway\",\"Poland\",\"Portugal\",\"Romania\",\"Sweden\",\"Slovenia\",\"Slovakia\"],\"name\":\"\",\"z\":[1.2585019883774557,0.22853211883360305,0.16449924893298476,0.19110194991503976,1.956438839179622,0.010459547841353762,0.1692153611650494,0.028943954288983248,0.20273375201607452,0.20889536703537417,0.1843657311815242,0.03424508776745639,0.1604492579221821,0.27315294882201174,0.0005160485952641188,0.24999980237169772,0.7840573238927516,0.08648125525991954,0.12720056985855296,0.02494656090275189,0.2788981045774926,0.018659133352561124,0.01618953411377681,0.06718224238969156,0.15576437329966702,0.056218400190220945,0.0144737989316318,0.012074912369945949,0.05724051862010439,0.09615084718941985,0.27050370637534527,0.0009200119527952907],\"type\":\"choropleth\"}],\"name\":\"2022-07\"},{\"data\":[{\"coloraxis\":\"coloraxis\",\"geo\":\"geo\",\"hovertemplate\":\"TIME_PERIOD_x=2022-08<br>geo=%{location}<br>mean_population=%{z}<extra></extra>\",\"locationmode\":\"country names\",\"locations\":[\"Austria\",\"Belgium\",\"Bulgaria\",\"Switzerland\",\"Cyprus\",\"Czechia\",\"Germany (until 1990 former territory of the FRG)\",\"Denmark\",\"Estonia\",\"Greece\",\"Spain\",\"Finland\",\"France\",\"Croatia\",\"Hungary\",\"Ireland\",\"Iceland\",\"Italy\",\"Liechtenstein\",\"Lithuania\",\"Luxembourg\",\"Latvia\",\"Montenegro\",\"Malta\",\"Netherlands\",\"Norway\",\"Poland\",\"Portugal\",\"Romania\",\"Sweden\",\"Slovenia\",\"Slovakia\"],\"name\":\"\",\"z\":[1.614335072701878,0.27544360838701687,0.2770898459804499,0.22085434930301,1.481145787853499,0.010934981834142569,0.20453613942740262,0.03490300370142098,0.2815746555778813,0.22801622442991643,0.18236290162609312,0.040553393408829935,0.17533022674692075,0.3534159006085744,0.0005160485952641188,0.22331998156523197,0.6245880376772767,0.10138889573567453,0.12720056985855296,0.017818972073394206,0.3486226307218657,0.02132472383149843,0.01618953411377681,0.14396194797791048,0.2180132743081106,0.09953421673022725,0.016200031831734678,0.013040905359541626,0.06249194234671947,0.11528534414253823,0.30135062026025305,0.011960155386338779],\"type\":\"choropleth\"}],\"name\":\"2022-08\"},{\"data\":[{\"coloraxis\":\"coloraxis\",\"geo\":\"geo\",\"hovertemplate\":\"TIME_PERIOD_x=2022-09<br>geo=%{location}<br>mean_population=%{z}<extra></extra>\",\"locationmode\":\"country names\",\"locations\":[\"Austria\",\"Belgium\",\"Bulgaria\",\"Switzerland\",\"Cyprus\",\"Czechia\",\"Germany (until 1990 former territory of the FRG)\",\"Denmark\",\"Estonia\",\"Greece\",\"Spain\",\"Finland\",\"France\",\"Croatia\",\"Hungary\",\"Ireland\",\"Iceland\",\"Italy\",\"Liechtenstein\",\"Lithuania\",\"Luxembourg\",\"Latvia\",\"Montenegro\",\"Malta\",\"Netherlands\",\"Norway\",\"Poland\",\"Portugal\",\"Romania\",\"Sweden\",\"Slovenia\",\"Slovakia\"],\"name\":\"\",\"z\":[1.774153688040077,0.31159558198781284,0.3648227787447084,0.29008589403271007,1.7132656501290475,0.016640189747608256,0.23631282599336326,0.035754296474626364,0.2778203268368429,0.283466710874089,0.23190658010254617,0.08831627897922964,0.19890403874650675,0.4776940195038973,0.0005160485952641188,0.20948600040632379,1.1295741106929473,0.13416876428179486,0.25440113971710593,0.030292252524770153,0.46483017429582096,0.02132472383149843,0.024284301170665212,0.15355941117643784,0.25183801960493607,0.11704486596980426,0.016465606124058195,0.012557908864743788,0.0422739609992514,0.12437423019526947,0.23016543437200432,0.005520071716771744],\"type\":\"choropleth\"}],\"name\":\"2022-09\"},{\"data\":[{\"coloraxis\":\"coloraxis\",\"geo\":\"geo\",\"hovertemplate\":\"TIME_PERIOD_x=2022-10<br>geo=%{location}<br>mean_population=%{z}<extra></extra>\",\"locationmode\":\"country names\",\"locations\":[\"Austria\",\"Belgium\",\"Bulgaria\",\"Switzerland\",\"Cyprus\",\"Czechia\",\"Germany (until 1990 former territory of the FRG)\",\"Denmark\",\"Estonia\",\"Greece\",\"Spain\",\"Finland\",\"France\",\"Croatia\",\"Hungary\",\"Ireland\",\"Iceland\",\"Italy\",\"Liechtenstein\",\"Lithuania\",\"Luxembourg\",\"Latvia\",\"Montenegro\",\"Malta\",\"Netherlands\",\"Norway\",\"Poland\",\"Portugal\",\"Romania\",\"Sweden\",\"Slovenia\",\"Slovakia\"],\"name\":\"\",\"z\":[2.028081522863139,0.32364623985474483,0.40722702958076673,0.35245150044210927,1.8182722544917955,0.012361283812508991,0.2992655056174214,0.044267224206680264,0.38669586032695696,0.3116699755310388,0.22990375054711507,0.10814238242354648,0.20155609259646015,0.507468985489235,0.0005160485952641188,0.2341895381900884,1.2624651825391764,0.1420460970331881,0.0,0.017818972073394206,0.457083004724224,0.02932149526831034,0.024284301170665212,0.1919492639705473,0.2313726274925711,0.13179067585576384,0.016332818977896436,0.014972891338732978,0.03019568642803672,0.11050171990425864,0.23016543437200432,0.011040143433543488],\"type\":\"choropleth\"}],\"name\":\"2022-10\"},{\"data\":[{\"coloraxis\":\"coloraxis\",\"geo\":\"geo\",\"hovertemplate\":\"TIME_PERIOD_x=2022-11<br>geo=%{location}<br>mean_population=%{z}<extra></extra>\",\"locationmode\":\"country names\",\"locations\":[\"Austria\",\"Belgium\",\"Bulgaria\",\"Switzerland\",\"Cyprus\",\"Czechia\",\"Germany (until 1990 former territory of the FRG)\",\"Denmark\",\"Estonia\",\"Greece\",\"Spain\",\"Finland\",\"France\",\"Croatia\",\"Hungary\",\"Ireland\",\"Iceland\",\"Italy\",\"Liechtenstein\",\"Lithuania\",\"Luxembourg\",\"Latvia\",\"Montenegro\",\"Malta\",\"Netherlands\",\"Norway\",\"Poland\",\"Portugal\",\"Romania\",\"Sweden\",\"Slovenia\",\"Slovakia\"],\"name\":\"\",\"z\":[1.3080624649109043,0.25822838286282834,0.29682975585240806,0.3925028073105307,2.1111854140299875,0.007606943884620918,0.36510151407922264,0.041713345887064095,0.3566612303986496,0.35947211901739445,0.24687509572734687,0.05407119121177324,0.20715487294636184,0.4440353623030807,0.0,0.25889307597385297,1.3554889328315367,0.1549208774440674,0.25440113971710593,0.014255177658715366,0.34087546115026873,0.026655904789373037,0.024284301170665212,0.15355941117643784,0.2313726274925711,0.10414228231958962,0.017660690439514033,0.01738787381272217,0.028095116937390686,0.10284792112301129,0.21355555766474627,0.008280107575157616],\"type\":\"choropleth\"}],\"name\":\"2022-11\"},{\"data\":[{\"coloraxis\":\"coloraxis\",\"geo\":\"geo\",\"hovertemplate\":\"TIME_PERIOD_x=2022-12<br>geo=%{location}<br>mean_population=%{z}<extra></extra>\",\"locationmode\":\"country names\",\"locations\":[\"Austria\",\"Belgium\",\"Bulgaria\",\"Switzerland\",\"Cyprus\",\"Czechia\",\"Germany (until 1990 former territory of the FRG)\",\"Denmark\",\"Estonia\",\"Greece\",\"Spain\",\"Finland\",\"France\",\"Croatia\",\"Hungary\",\"Ireland\",\"Iceland\",\"Italy\",\"Liechtenstein\",\"Lithuania\",\"Luxembourg\",\"Latvia\",\"Montenegro\",\"Malta\",\"Netherlands\",\"Norway\",\"Poland\",\"Portugal\",\"Romania\",\"Sweden\",\"Slovenia\",\"Slovakia\"],\"name\":\"\",\"z\":[0.7656815194774343,0.19108900331849296,0.17254143443637512,0.29523534777293564,1.4479858075284209,0.006656075899043303,0.3204099170942043,0.03490300370142098,0.29659197054203496,0.3962797695018883,0.18004383582506764,0.03965220688863371,0.20229277422144723,0.49193422062731973,0.0005160485952641188,0.23715396272414013,1.5415364334162573,0.13543930182234215,0.12720056985855296,0.016037074866054785,0.24790942629110452,0.05064621909980877,0.04047383528444202,0.08637716878674628,0.1472371265861816,0.07096421007618053,0.017262329001028753,0.02173484226590271,0.025469405074083146,0.09280231022262414,0.18033580425023019,0.007360095622362325],\"type\":\"choropleth\"}],\"name\":\"2022-12\"},{\"data\":[{\"coloraxis\":\"coloraxis\",\"geo\":\"geo\",\"hovertemplate\":\"TIME_PERIOD_x=2023-01<br>geo=%{location}<br>mean_population=%{z}<extra></extra>\",\"locationmode\":\"country names\",\"locations\":[\"Austria\",\"Belgium\",\"Bulgaria\",\"Switzerland\",\"Cyprus\",\"Czechia\",\"Germany (until 1990 former territory of the FRG)\",\"Denmark\",\"Estonia\",\"Greece\",\"Spain\",\"Finland\",\"France\",\"Croatia\",\"Hungary\",\"Ireland\",\"Italy\",\"Liechtenstein\",\"Lithuania\",\"Luxembourg\",\"Latvia\",\"Montenegro\",\"Malta\",\"Netherlands\",\"Norway\",\"Poland\",\"Portugal\",\"Romania\",\"Sweden\",\"Slovenia\",\"Slovakia\"],\"name\":\"\",\"z\":[0.4560677559651045,0.19668395161385424,0.1871635898970849,0.2746375328120332,0.779259537639341,0.010459547841353762,0.36582234628865845,0.035754296474626364,0.42048481899630274,0.3284007257512633,0.2294821022196559,0.053170004691577025,0.19919871139650155,0.37024522920898273,0.0005160485952641188,0.2579049344625024,0.14255431204940702,0.25440113971710593,0.017818972073394206,0.2943924437206866,0.034652676226184946,0.008094767056888405,0.08637716878674628,0.1412680538867418,0.06912098384043558,0.017660690439514033,0.016904877317924328,0.03518453896832104,0.09136722295114026,0.2040641995463131,0.002760035858385872],\"type\":\"choropleth\"}],\"name\":\"2023-01\"},{\"data\":[{\"coloraxis\":\"coloraxis\",\"geo\":\"geo\",\"hovertemplate\":\"TIME_PERIOD_x=2023-02<br>geo=%{location}<br>mean_population=%{z}<extra></extra>\",\"locationmode\":\"country names\",\"locations\":[\"Austria\",\"Belgium\",\"Bulgaria\",\"Switzerland\",\"Cyprus\",\"Czechia\",\"Germany (until 1990 former territory of the FRG)\",\"Denmark\",\"Estonia\",\"Greece\",\"Spain\",\"Finland\",\"France\",\"Croatia\",\"Hungary\",\"Ireland\",\"Iceland\",\"Italy\",\"Liechtenstein\",\"Lithuania\",\"Luxembourg\",\"Latvia\",\"Montenegro\",\"Malta\",\"Netherlands\",\"Norway\",\"Poland\",\"Portugal\",\"Romania\",\"Sweden\",\"Slovenia\",\"Slovakia\"],\"name\":\"\",\"z\":[0.27397476915119834,0.16655730694652426,0.10674173486318123,0.1808030424345885,0.8842661420020891,0.006656075899043303,0.30437140043425814,0.0408620531138587,0.38669586032695696,0.22753820299505287,0.27069822622879025,0.04235576644922238,0.15499781389727785,0.6498709967234592,0.0,0.16403149088419694,1.2358869681699305,0.16669452531980572,0.12720056985855296,0.008909486036697103,0.24790942629110452,0.02399031431043573,0.024284301170665212,0.04798731599263682,0.12449780201688714,0.04884549524724115,0.013942650346984763,0.01642188082312649,0.037022537272636324,0.09184558537496822,0.18270864377983848,0.011960155386338779],\"type\":\"choropleth\"}],\"name\":\"2023-02\"},{\"data\":[{\"coloraxis\":\"coloraxis\",\"geo\":\"geo\",\"hovertemplate\":\"TIME_PERIOD_x=2023-03<br>geo=%{location}<br>mean_population=%{z}<extra></extra>\",\"locationmode\":\"country names\",\"locations\":[\"Austria\",\"Belgium\",\"Bulgaria\",\"Switzerland\",\"Cyprus\",\"Germany (until 1990 former territory of the FRG)\",\"Denmark\",\"Estonia\",\"Greece\",\"Spain\",\"Finland\",\"France\",\"Croatia\",\"Hungary\",\"Ireland\",\"Iceland\",\"Italy\",\"Liechtenstein\",\"Lithuania\",\"Luxembourg\",\"Latvia\",\"Montenegro\",\"Malta\",\"Netherlands\",\"Norway\",\"Poland\",\"Portugal\",\"Romania\",\"Sweden\",\"Slovenia\",\"Slovakia\"],\"name\":\"\",\"z\":[0.3368998685700711,0.17473453907051384,0.1908191287622623,0.20082869586879926,1.856958898204387,0.3023891118583098,0.02979524706218864,0.3942045178090338,0.2437909317804138,0.3282532229269676,0.043256952969418595,0.1748882177719285,0.9657445489157381,0.0,0.16897219844094985,1.2757542897237992,0.19202057362804856,0.12720056985855296,0.019600869280733627,0.2943924437206866,0.013327952394686518,0.024284301170665212,0.04798731599263682,0.1262032513595842,0.05990485266171084,0.01540330895476412,0.01448989484393514,0.056977947433773636,0.08658359871286067,0.26338518778652037,0.011040143433543488],\"type\":\"choropleth\"}],\"name\":\"2023-03\"},{\"data\":[{\"coloraxis\":\"coloraxis\",\"geo\":\"geo\",\"hovertemplate\":\"TIME_PERIOD_x=2023-04<br>geo=%{location}<br>mean_population=%{z}<extra></extra>\",\"locationmode\":\"country names\",\"locations\":[\"Austria\",\"Belgium\",\"Bulgaria\",\"Switzerland\",\"Germany (until 1990 former territory of the FRG)\",\"Denmark\",\"Estonia\",\"Greece\",\"Spain\",\"Finland\",\"France\",\"Hungary\",\"Ireland\",\"Iceland\",\"Italy\",\"Liechtenstein\",\"Luxembourg\",\"Montenegro\",\"Malta\",\"Netherlands\",\"Norway\",\"Poland\",\"Portugal\",\"Sweden\",\"Slovenia\",\"Slovakia\"],\"name\":\"\",\"z\":[0.36641341077538314,0.13987370738403201,0.14768377015316855,0.17393710411428767,0.23583227118707273,0.03064653983539403,0.29283764180099653,0.22132392434182666,0.27217399537489734,0.04145457992902615,0.15116706944734512,0.0005160485952641188,0.12450583043017358,0.9833939316620952,0.13848859191965568,0.12720056985855296,0.2788981045774926,0.01618953411377681,0.04798731599263682,0.13359353184460493,0.05345356083660352,0.011950843154558369,0.015938884328328653,0.06649237691208637,0.24440247154965405,0.005520071716771744],\"type\":\"choropleth\"}],\"name\":\"2023-04\"},{\"data\":[{\"coloraxis\":\"coloraxis\",\"geo\":\"geo\",\"hovertemplate\":\"TIME_PERIOD_x=2023-05<br>geo=%{location}<br>mean_population=%{z}<extra></extra>\",\"locationmode\":\"country names\",\"locations\":[\"Belgium\",\"Switzerland\",\"Germany (until 1990 former territory of the FRG)\",\"Denmark\",\"Estonia\",\"Spain\",\"Finland\",\"Hungary\",\"Montenegro\",\"Netherlands\",\"Norway\",\"Poland\",\"Sweden\"],\"name\":\"\",\"z\":[0.1923801452328071,0.21971002624962654,0.2636443806011366,0.028943954288983248,0.29283764180099653,0.3669394569713469,0.053170004691577025,0.0,0.01618953411377681,0.1443947110150198,0.06266969201532827,0.01500494751627884,0.07988652477926923],\"type\":\"choropleth\"}],\"name\":\"2023-05\"}]);\n",
       "                        }).then(function(){\n",
       "                            \n",
       "var gd = document.getElementById('ec773c3e-4755-44b0-b50d-80fa3130ae15');\n",
       "var x = new MutationObserver(function (mutations, observer) {{\n",
       "        var display = window.getComputedStyle(gd).display;\n",
       "        if (!display || display === 'none') {{\n",
       "            console.log([gd, 'removed!']);\n",
       "            Plotly.purge(gd);\n",
       "            observer.disconnect();\n",
       "        }}\n",
       "}});\n",
       "\n",
       "// Listen for the removal of the full notebook cells\n",
       "var notebookContainer = gd.closest('#notebook-container');\n",
       "if (notebookContainer) {{\n",
       "    x.observe(notebookContainer, {childList: true});\n",
       "}}\n",
       "\n",
       "// Listen for the clearing of the current output cell\n",
       "var outputEl = gd.closest('.output');\n",
       "if (outputEl) {{\n",
       "    x.observe(outputEl, {childList: true});\n",
       "}}\n",
       "\n",
       "                        })                };                });            </script>        </div>"
      ]
     },
     "metadata": {},
     "output_type": "display_data"
    }
   ],
   "source": [
    "fig = px.choropleth(\n",
    "    pd_europe_population_and_migrants_and_area,\n",
    "    locations='geo',\n",
    "    color='mean_population',\n",
    "    color_continuous_scale='reds',\n",
    "    locationmode='country names',\n",
    "    animation_frame='TIME_PERIOD_x',\n",
    "    range_color=[0, pd_europe_population_and_migrants_and_area['mean_population'].mean()],\n",
    "    color_continuous_midpoint = 0.1,\n",
    ")\n",
    "\n",
    "fig.update_layout(\n",
    "    title=dict(\n",
    "        text='Asielverzoeken per EU land per maand per 1000 inwoners',\n",
    "        font=dict(\n",
    "            color='rgb(42,63,95)'\n",
    "        )\n",
    "    ),\n",
    "    paper_bgcolor=\"white\",\n",
    "    coloraxis_colorbar=dict(\n",
    "        tickmode='array',\n",
    "        tickfont=dict(\n",
    "                color='rgb(42,63,95)'\n",
    "            ),\n",
    "        title=dict(\n",
    "            text='waardes',\n",
    "            font=dict(\n",
    "                color='rgb(42,63,95)'\n",
    "            )\n",
    "        ),\n",
    "\n",
    "    ),\n",
    "    geo=dict(\n",
    "        bgcolor='#e8ecf4',\n",
    "        showframe=False,\n",
    "        showcoastlines=True,\n",
    "        showland=True,\n",
    "        scope='europe',\n",
    "        lataxis_range=[35, 70],\n",
    "        lonaxis_range=[-9, 38],\n",
    "    ),\n",
    "    sliders=[\n",
    "        dict(\n",
    "            currentvalue=dict(\n",
    "                font=dict(color='rgb(42,63,95)')\n",
    "            ),\n",
    "\n",
    "        ),\n",
    "    ],\n",
    "\n",
    "\n",
    ")\n",
    "\n",
    "fig.show()"
   ]
  },
  {
   "cell_type": "code",
   "execution_count": 1,
   "metadata": {
    "tags": [
     "hide_input"
    ]
   },
   "outputs": [
    {
     "ename": "NameError",
     "evalue": "name 'px' is not defined",
     "output_type": "error",
     "traceback": [
      "\u001B[1;31m---------------------------------------------------------------------------\u001B[0m",
      "\u001B[1;31mNameError\u001B[0m                                 Traceback (most recent call last)",
      "Cell \u001B[1;32mIn[1], line 1\u001B[0m\n\u001B[1;32m----> 1\u001B[0m fig \u001B[38;5;241m=\u001B[39m \u001B[43mpx\u001B[49m\u001B[38;5;241m.\u001B[39mchoropleth(\n\u001B[0;32m      2\u001B[0m     pd_europe_population_and_migrants_and_area,\n\u001B[0;32m      3\u001B[0m     locations\u001B[38;5;241m=\u001B[39m\u001B[38;5;124m'\u001B[39m\u001B[38;5;124mgeo\u001B[39m\u001B[38;5;124m'\u001B[39m,\n\u001B[0;32m      4\u001B[0m     color\u001B[38;5;241m=\u001B[39m\u001B[38;5;124m'\u001B[39m\u001B[38;5;124mmean_area\u001B[39m\u001B[38;5;124m'\u001B[39m,\n\u001B[0;32m      5\u001B[0m     color_continuous_scale\u001B[38;5;241m=\u001B[39m\u001B[38;5;124m'\u001B[39m\u001B[38;5;124mreds\u001B[39m\u001B[38;5;124m'\u001B[39m,\n\u001B[0;32m      6\u001B[0m     locationmode\u001B[38;5;241m=\u001B[39m\u001B[38;5;124m'\u001B[39m\u001B[38;5;124mcountry names\u001B[39m\u001B[38;5;124m'\u001B[39m,\n\u001B[0;32m      7\u001B[0m     animation_frame\u001B[38;5;241m=\u001B[39m\u001B[38;5;124m'\u001B[39m\u001B[38;5;124mTIME_PERIOD_x\u001B[39m\u001B[38;5;124m'\u001B[39m,\n\u001B[0;32m      8\u001B[0m     range_color\u001B[38;5;241m=\u001B[39m[\u001B[38;5;241m0\u001B[39m, pd_europe_population_and_migrants_and_area[\u001B[38;5;124m'\u001B[39m\u001B[38;5;124mmean_population\u001B[39m\u001B[38;5;124m'\u001B[39m]\u001B[38;5;241m.\u001B[39mmean()],\n\u001B[0;32m      9\u001B[0m     color_continuous_midpoint \u001B[38;5;241m=\u001B[39m \u001B[38;5;241m0.1\u001B[39m,\n\u001B[0;32m     10\u001B[0m )\n\u001B[0;32m     12\u001B[0m fig\u001B[38;5;241m.\u001B[39mupdate_layout(\n\u001B[0;32m     13\u001B[0m     title\u001B[38;5;241m=\u001B[39m\u001B[38;5;28mdict\u001B[39m(\n\u001B[0;32m     14\u001B[0m         text\u001B[38;5;241m=\u001B[39m\u001B[38;5;124m'\u001B[39m\u001B[38;5;124mAsielverzoeken per EU land per maand per vierkante kilometer\u001B[39m\u001B[38;5;124m'\u001B[39m,\n\u001B[1;32m   (...)\u001B[0m\n\u001B[0;32m     51\u001B[0m \n\u001B[0;32m     52\u001B[0m )\n\u001B[0;32m     54\u001B[0m fig\u001B[38;5;241m.\u001B[39mshow()\n",
      "\u001B[1;31mNameError\u001B[0m: name 'px' is not defined"
     ]
    }
   ],
   "source": [
    "fig = px.choropleth(\n",
    "    pd_europe_population_and_migrants_and_area,\n",
    "    locations='geo',\n",
    "    color='mean_area',\n",
    "    color_continuous_scale='reds',\n",
    "    locationmode='country names',\n",
    "    animation_frame='TIME_PERIOD_x',\n",
    "    range_color=[0, pd_europe_population_and_migrants_and_area['mean_population'].mean()],\n",
    "    color_continuous_midpoint = 0.1,\n",
    ")\n",
    "\n",
    "fig.update_layout(\n",
    "    title=dict(\n",
    "        text='Asielverzoeken per EU land per maand per vierkante kilometer',\n",
    "        font=dict(\n",
    "            color='rgb(42,63,95)'\n",
    "        )\n",
    "    ),\n",
    "    paper_bgcolor=\"white\",\n",
    "    coloraxis_colorbar=dict(\n",
    "        tickmode='array',\n",
    "        tickfont=dict(\n",
    "                color='rgb(42,63,95)'\n",
    "            ),\n",
    "        title=dict(\n",
    "            text='waardes',\n",
    "            font=dict(\n",
    "                color='rgb(42,63,95)'\n",
    "            )\n",
    "        ),\n",
    "\n",
    "    ),\n",
    "    geo=dict(\n",
    "        bgcolor='#e8ecf4',\n",
    "        showframe=False,\n",
    "        showcoastlines=True,\n",
    "        showland=True,\n",
    "        scope='europe',\n",
    "        lataxis_range=[35, 70],\n",
    "        lonaxis_range=[-9, 38],\n",
    "    ),\n",
    "    sliders=[\n",
    "        dict(\n",
    "            currentvalue=dict(\n",
    "                font=dict(color='rgb(42,63,95)')\n",
    "            ),\n",
    "\n",
    "        ),\n",
    "    ],\n",
    "\n",
    "\n",
    ")\n",
    "\n",
    "fig.show()"
   ]
  },
  {
   "cell_type": "markdown",
   "metadata": {},
   "source": [
    "# Appendix\n",
    "## Chat-gpt gebruik figuur 1:\n",
    "vraag: \"how would you plot this data with ploty? <bound method NDFrame.head of     Jaar   Kwartaal Eerste asielverzoeken Nareizigers\n",
    "0   2017      april                 1,160       1,685\n",
    "1   2017        mei                 1,285       1,475\n",
    "2   2017       juni                 1,345       0,935\n",
    "3   2017       juli                 1,530       0,765\n",
    "4   2017   augustus                 1,435       0,755\n",
    "..   ...        ...                   ...         ...\n",
    "68  2022   december                 2,595       0,500\n",
    "69  2023   januari*                 2,490       0,390\n",
    "70  2023  februari*                 2,195       0,510\n",
    "71  2023     maart*                 2,225       0,995\n",
    "72  2023     april*                 2,355       0,810\"\n",
    "\n",
    "antwoord:\"import plotly.express as px\n",
    "import pandas as pd\n",
    "\n",
    " Assuming the data is stored in a pandas DataFrame\n",
    "data = pd.DataFrame({\n",
    "    'Jaar': ['2017', '2017', '2017', '2017', '2017', '2022', '2023', '2023', '2023', '2023'],\n",
    "    'Kwartaal': ['april', 'mei', 'juni', 'juli', 'augustus', 'december', 'januari*', 'februari*', 'maart*', 'april*'],\n",
    "    'Eerste asielverzoeken': ['1,160', '1,285', '1,345', '1,530', '1,435', '2,595', '2,490', '2,195', '2,225', '2,355'],\n",
    "    'Nareizigers': ['1,685', '1,475', '0,935', '0,765', '0,755', '0,500', '0,390', '0,510', '0,995', '0,810']\n",
    "})\n",
    "\n",
    " Convert numerical columns from string to numeric values\n",
    "data['Eerste asielverzoeken'] = data['Eerste asielverzoeken'].str.replace(',', '').astype(float)\n",
    "data['Nareizigers'] = data['Nareizigers'].str.replace(',', '').astype(float)\n",
    "\n",
    " Create a new column combining 'Jaar' and 'Kwartaal' for continuous x-axis\n",
    "data['Datum'] = data['Jaar'] + ' ' + data['Kwartaal']\n",
    "\n",
    " Sort the DataFrame by the 'Datum' column\n",
    "data = data.sort_values('Datum')\n",
    "\n",
    " Plotting the data\n",
    "fig = px.line(data, x='Datum', y=['Eerste asielverzoeken', 'Nareizigers'], color='Jaar',\n",
    "              title='Asylum Applications and Reunified Family Members by Month')\n",
    "\n",
    "fig.show()\n",
    "\"(OpenAI,\n",
    "2023, 22 juni)\n",
    "\n",
    "## Chat-gpt gebruik figuur 2:\n",
    "vraag_1: \"how would you plot this data as a map of europe in ploty? ,DATAFLOW,LAST UPDATE,freq,unit,citizen,sex,age,asyl_app,geo,TIME_PERIOD,OBS_VALUE,OBS_FLAG\n",
    "0,ESTAT:TPS00189(1.0),15/06/23 23:00:00,M,PER,EXT_EU27_2020,T,TOTAL,ASY_APP,AT,2022-06,9725,\n",
    "1,ESTAT:TPS00189(1.0),15/06/23 23:00:00,M,PER,EXT_EU27_2020,T,TOTAL,ASY_APP,AT,2022-07,11540,\n",
    "2,ESTAT:TPS00189(1.0),15/06/23 23:00:00,M,PER,EXT_EU27_2020,T,TOTAL,ASY_APP,AT,2022-08,14730,\n",
    "3,ESTAT:TPS00189(1.0),15/06/23 23:00:00,M,PER,EXT_EU27_2020,T,TOTAL,ASY_APP,AT,2022-09,16175,\n",
    "4,ESTAT:TPS00189(1.0),15/06/23 23:00:00,M,PER,EXT_EU27_2020,T,TOTAL,ASY_APP,AT,2022-10,18450,\"\n",
    "\n",
    "vraag_2:\"how do you change this into a timeline map? fig = go.Figure(data=go.Choropleth(\n",
    "    locations=data_europe['geo'],\n",
    "    z=data_europe['OBS_VALUE'],\n",
    "    colorscale='Blues',\n",
    "    locationmode='country names',\n",
    "    autocolorscale=False,\n",
    "\n",
    "))\n",
    "\n",
    "fig.update_layout(\n",
    "    title=dict(\n",
    "        text='Asielverzoeken en nareizigers per maand',\n",
    "        font=dict(\n",
    "            color='rgb(42,63,95)'\n",
    "        )\n",
    "    ),\n",
    "    paper_bgcolor=\"white\",\n",
    "    yaxis=dict(\n",
    "        type='linear',\n",
    "        color='rgb(42,63,95)',\n",
    "        title=dict(\n",
    "        text='waardes',\n",
    "        font=dict(\n",
    "            color='rgb(42,63,95)'\n",
    "        ),\n",
    "        ),\n",
    "\n",
    "    ),\n",
    "    geo=dict(\n",
    "        bgcolor='#e8ecf4',\n",
    "        showframe=False,\n",
    "        showcoastlines=True,\n",
    "        showland=True,\n",
    "        scope='europe',\n",
    "        lataxis_range=[35, 70],\n",
    "        lonaxis_range=[-9, 38],\n",
    "    )\n",
    ")\n",
    "\n",
    "fig.show()\"\n",
    "\n",
    "antwoord_1:\"import plotly.graph_objects as go\n",
    "\n",
    " Assuming the given data is stored in a pandas DataFrame called 'data'\n",
    "map_data = data[['geo', 'OBS_VALUE']]\n",
    "\n",
    "fig = go.Figure(data=go.Choropleth(\n",
    "    locations=map_data['geo'],\n",
    "    z=map_data['OBS_VALUE'],\n",
    "    colorscale='Blues',\n",
    "    colorbar_title='Asylum Applications',\n",
    "))\n",
    "\n",
    "fig.update_layout(\n",
    "    title_text='Asylum Applications in Europe',\n",
    "    geo=dict(\n",
    "        showframe=False,\n",
    "        showcoastlines=True,\n",
    "        projection_type='europe',  # Set the map projection to 'europe'\n",
    "        # Set the geographical extent to Europe\n",
    "        # You can adjust the latitude and longitude values as needed\n",
    "        lataxis_range=[30, 80],\n",
    "        lonaxis_range=[-30, 45],\n",
    "    )\n",
    ")\n",
    "\n",
    "fig.show()\n",
    "\n",
    "\"(OpenAI,\n",
    "2023, 22 juni)\n",
    "\n",
    "antwoord_2:\"import plotly.graph_objects as go\n",
    "\n",
    " Assuming the given data is stored in a pandas DataFrame called 'data_europe'\n",
    "fig = go.Figure(data=go.Choropleth(\n",
    "    locations=data_europe['geo'],\n",
    "    z=data_europe['OBS_VALUE'],\n",
    "    colorscale='Blues',\n",
    "    locationmode='country names',\n",
    "    autocolorscale=False,\n",
    "    zauto=False,\n",
    "    colorbar_title='Asylum Applications',\n",
    "    # Specify the variable representing the timeline\n",
    "    animation_frame=data_europe['TIME_PERIOD']\n",
    "))\n",
    "\n",
    "fig.update_layout(\n",
    "    title=dict(\n",
    "        text='Asielverzoeken en nareizigers per maand',\n",
    "        font=dict(\n",
    "            color='rgb(42,63,95)'\n",
    "        )\n",
    "    ),\n",
    "    paper_bgcolor=\"white\",\n",
    "    yaxis=dict(\n",
    "        type='linear',\n",
    "        color='rgb(42,63,95)',\n",
    "        title=dict(\n",
    "            text='waardes',\n",
    "            font=dict(\n",
    "                color='rgb(42,63,95)'\n",
    "            )\n",
    "        ),\n",
    "    ),\n",
    "    geo=dict(\n",
    "        bgcolor='#e8ecf4',\n",
    "        showframe=False,\n",
    "        showcoastlines=True,\n",
    "        showland=True,\n",
    "        scope='europe',\n",
    "        lataxis_range=[35, 70],\n",
    "        lonaxis_range=[-9, 38],\n",
    "    )\n",
    ")(OpenAI,\n",
    "2023, 22 juni)\n",
    "\n",
    "fig.show()\n",
    "\"\n",
    "\n",
    "## Chat-gpt gebruik figuur 3:\n",
    "Vooral gekopieerd van Figuur 1 zie chatgpt gebruik van dat figuur voor de vragen en antwoorden.\n",
    "\n",
    "## Chat-gpt gebruik figuur 4:\n",
    "vooral gekopieerd uit huiswerk hier een herhaling van het chat-gpt uit de originele huiswerk 2 Opdracht 2.3\n",
    "vraag: \"For this assignment you have to make a donut\n",
    "chart based on this dataset in which this data is\n",
    "shown, broken down by type of house. Your chart\n",
    "should look like the following: **Requirements:**\n",
    "- Plot Ɵtle\n",
    " - `Sold houses in the Netherlands, by type, in\n",
    "2017`\n",
    "- No legend\n",
    "- Text and percentage around the donut chart\n",
    "- Based on the data from the csv file\n",
    "- The color scale on the secƟons in the pie chart\n",
    "needs to be `px.colors.qualitaƟve.T10`\n",
    "- The height of the graph needs to be `600`\n",
    "*Hints:*\n",
    "- See also the hints in Assignment 2.1\n",
    "- Check [documentaƟon of the pie\n",
    "chart](hƩps://plotly.com/python-apireference/generated/plotly.graph_objects.pie.ht\n",
    "ml) for the available properƟes.\n",
    "- Check the [documentaƟon of\n",
    "colors](hƩps://plotly.com/python/discrete-color/)\n",
    "for available color scales \"\n",
    "\n",
    "\n",
    "\n",
    "fig.update_layout(\n",
    "    title=dict(\n",
    "        text='Asielverzoeken en nareizigers per maand',\n",
    "        font=dict(\n",
    "            color='rgb(42,63,95)'\n",
    "        )\n",
    "    ),\n",
    "    paper_bgcolor=\"white\",\n",
    "    yaxis=dict(\n",
    "        type='linear',\n",
    "        color='rgb(42,63,95)',\n",
    "        title=dict(\n",
    "        text='waardes',\n",
    "        font=dict(\n",
    "            color='rgb(42,63,95)'\n",
    "        ),\n",
    "        ),\n",
    "\n",
    "    ),\n",
    "    geo=dict(\n",
    "        bgcolor='#e8ecf4',\n",
    "        showframe=False,\n",
    "        showcoastlines=True,\n",
    "        showland=True,\n",
    "        scope='europe',\n",
    "        lataxis_range=[35, 70],\n",
    "        lonaxis_range=[-9, 38],\n",
    "    )\n",
    ")\n",
    "\n",
    "fig.show()\"\n",
    "\n",
    "antwoord:\"# Read the CSV file\n",
    "df = pd.read_csv('exisƟng_property.csv')\n",
    " Calculate the total number of houses sold\n",
    "total_houses_sold = df['Number of houses'].sum()\n",
    " Calculate the percentage for each house type\n",
    "df['Percentage'] = df['Number of houses'] /\n",
    "total_houses_sold * 100\n",
    " Set the color scale\n",
    "colors = px.colors.qualitaƟve.T10\n",
    " Create the donut chart\n",
    "fig = go.Figure(data=[go.Pie(\n",
    " labels=df['Type of house'],\n",
    " values=df['Percentage'],”\n",
    " hole=0.6,\n",
    " marker=dict(colors=colors),\n",
    " texƟnfo='label+percent',\n",
    " insidetexƞont=dict(color='white'),\n",
    " hovertemplate='House type:\n",
    "%{label}<br>Percentage: %{percent}',\n",
    ")])\n",
    " Set the layout properƟes\n",
    "fig.update_layout(\n",
    " Ɵtle='Sold houses in the Netherlands, by type,\n",
    "in 2017',\n",
    " showlegend=False,\n",
    " height=600,\n",
    ")\n",
    " Save the figure as an image file\n",
    "pio.write_image(fig, 'donutchart.png')” (OpenAI,\n",
    "2023, 16 juni)\n",
    "\"(OpenAI,\n",
    "2023, 22 juni)\n",
    "\n",
    "## Chat-gpt gebruik opdracht 5: voornamelijk gebaseerd op opdracht 2 zie het ChatGPT gebruik van dat figuur voor de prompt en antwoorden\n",
    "\n",
    "## Chat-gpt gebruik opdracht 6: voornamelijk gebaseerd op opdracht 2 zie het ChatGPT gebruik van dat figuur voor de prompt en antwoorden\n"
   ]
  },
  {
   "cell_type": "code",
   "execution_count": null,
   "metadata": {},
   "outputs": [],
   "source": []
  }
 ],
 "metadata": {
  "celltoolbar": "Tags",
  "kernelspec": {
   "display_name": "Python 3 (ipykernel)",
   "language": "python",
   "name": "python3"
  },
  "language_info": {
   "codemirror_mode": {
    "name": "ipython",
    "version": 3
   },
   "file_extension": ".py",
   "mimetype": "text/x-python",
   "name": "python",
   "nbconvert_exporter": "python",
   "pygments_lexer": "ipython3",
   "version": "3.10.11"
  },
  "widgets": {
   "application/vnd.jupyter.widget-state+json": {
    "state": {},
    "version_major": 2,
    "version_minor": 0
   }
  }
 },
 "nbformat": 4,
 "nbformat_minor": 4
}
